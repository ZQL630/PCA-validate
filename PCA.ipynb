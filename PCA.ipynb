{
 "cells": [
  {
   "cell_type": "markdown",
   "metadata": {
    "id": "Yq0XoVUIVNLC"
   },
   "source": [
    "# Homework 2"
   ]
  },
  {
   "cell_type": "markdown",
   "metadata": {
    "id": "gUwruW4rYs_L"
   },
   "source": []
  },
  {
   "cell_type": "markdown",
   "metadata": {
    "id": "0aqF485OxR-U"
   },
   "source": [
    "**Before you start:** Read Chapter 3 Data Visualization and Chapter 4 Dimension Reduction in the textbook.\n",
    "\n",
    "**Note:** Please make sure your plots are complete and presentable with a title, proper axis names, labels and legends if applicable.\n",
    "\n",
    "Please enter the code along with your comments in the **TODO** sections.\n",
    "\n",
    "Please refer to the **Hint** section if you do not know where to start. \n",
    "\n",
    "Alternative solutions are welcomed."
   ]
  },
  {
   "cell_type": "markdown",
   "metadata": {
    "id": "QkMxpyKOxR-L"
   },
   "source": [
    "## Part 1: Advanced Data Visualization"
   ]
  },
  {
   "cell_type": "markdown",
   "metadata": {
    "id": "3IKYRqKtxR-N"
   },
   "source": [
    "### Problem 1 ##"
   ]
  },
  {
   "cell_type": "markdown",
   "metadata": {
    "id": "DTB7AVvVxR-R"
   },
   "source": [
    "**Dataset:** [Mismanaged waste](https://ourworldindata.org/grapher/mismanaged-plastic-waste?tab=chart&time=earliest..latest)\n",
    "\n",
    "**Introduction:** Jambeck et al. quantified municipal and plastic waste streams from coastal populations in 2010 with projections to the year 2025. The authors define mismanaged and inadequately managed waste as follows: \"mismanaged waste is material that is either littered or inadequately disposed. Inadequately disposed waste is not formally managed and includes disposal in dumps or open, uncontrolled landfills, where it is not fully contained. Mismanaged waste could eventually enter the ocean via inland waterways,\n",
    "wastewater outflows, and transport by wind or tides. \""
   ]
  },
  {
   "cell_type": "code",
   "execution_count": 1,
   "metadata": {
    "id": "33ec-Rf0xR-W"
   },
   "outputs": [],
   "source": [
    "import pandas as pd\n",
    "import numpy as np\n",
    "import matplotlib.pyplot as plt\n",
    "import seaborn as sns\n",
    "import plotly.express as px\n",
    "from sklearn import preprocessing\n",
    "from sklearn.decomposition import PCA\n",
    "import matplotlib.pylab as plt"
   ]
  },
  {
   "cell_type": "code",
   "execution_count": 2,
   "metadata": {
    "colab": {
     "base_uri": "https://localhost:8080/",
     "height": 263,
     "resources": {
      "http://localhost:8080/nbextensions/google.colab/files.js": {
       "data": "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",
       "headers": [
        [
         "content-type",
         "application/javascript"
        ]
       ],
       "ok": true,
       "status": 200,
       "status_text": ""
      }
     }
    },
    "id": "j6FOUGqWxR-y",
    "outputId": "d00e9816-0fa1-4e73-8467-06df7d6484df"
   },
   "outputs": [
    {
     "ename": "ModuleNotFoundError",
     "evalue": "No module named 'google'",
     "output_type": "error",
     "traceback": [
      "\u001b[0;31m---------------------------------------------------------------------------\u001b[0m",
      "\u001b[0;31mModuleNotFoundError\u001b[0m                       Traceback (most recent call last)",
      "\u001b[0;32m<ipython-input-2-9c6d596c9a1d>\u001b[0m in \u001b[0;36m<module>\u001b[0;34m\u001b[0m\n\u001b[1;32m      1\u001b[0m \u001b[0;31m#Load the dataset\u001b[0m\u001b[0;34m\u001b[0m\u001b[0;34m\u001b[0m\u001b[0;34m\u001b[0m\u001b[0m\n\u001b[0;32m----> 2\u001b[0;31m \u001b[0;32mfrom\u001b[0m \u001b[0mgoogle\u001b[0m\u001b[0;34m.\u001b[0m\u001b[0mcolab\u001b[0m \u001b[0;32mimport\u001b[0m \u001b[0mfiles\u001b[0m\u001b[0;34m\u001b[0m\u001b[0;34m\u001b[0m\u001b[0m\n\u001b[0m\u001b[1;32m      3\u001b[0m \u001b[0mfile\u001b[0m \u001b[0;34m=\u001b[0m \u001b[0mfiles\u001b[0m\u001b[0;34m.\u001b[0m\u001b[0mupload\u001b[0m\u001b[0;34m(\u001b[0m\u001b[0;34m)\u001b[0m  \u001b[0;31m#upload file into google colab session\u001b[0m\u001b[0;34m\u001b[0m\u001b[0;34m\u001b[0m\u001b[0m\n\u001b[1;32m      4\u001b[0m \u001b[0mdf\u001b[0m \u001b[0;34m=\u001b[0m \u001b[0mpd\u001b[0m\u001b[0;34m.\u001b[0m\u001b[0mread_csv\u001b[0m\u001b[0;34m(\u001b[0m\u001b[0;34m\"mismanaged-waste-global-total.csv\"\u001b[0m\u001b[0;34m)\u001b[0m\u001b[0;34m\u001b[0m\u001b[0;34m\u001b[0m\u001b[0m\n\u001b[1;32m      5\u001b[0m \u001b[0mdf\u001b[0m\u001b[0;34m.\u001b[0m\u001b[0mhead\u001b[0m\u001b[0;34m(\u001b[0m\u001b[0;34m)\u001b[0m\u001b[0;34m\u001b[0m\u001b[0;34m\u001b[0m\u001b[0m\n",
      "\u001b[0;31mModuleNotFoundError\u001b[0m: No module named 'google'"
     ]
    }
   ],
   "source": [
    "#Load the dataset\n",
    "from google.colab import files\n",
    "file = files.upload()  #upload file into google colab session\n",
    "df = pd.read_csv(\"mismanaged-waste-global-total.csv\") \n",
    "df.head()"
   ]
  },
  {
   "cell_type": "markdown",
   "metadata": {
    "id": "ZxwOy054NLqj"
   },
   "source": [
    "**TODO:**\n",
    "\n",
    "*  Use a choropleth map to present the amount of mismanaged waste by country\n",
    "*   The label (hover) should include the country name and percentage of mismanaged waste\n",
    "*  Interpret your key findings from the map graph\n",
    "*  Considering the manufacturing volume of each country, is this graph misleading?"
   ]
  },
  {
   "cell_type": "code",
   "execution_count": null,
   "metadata": {
    "colab": {
     "base_uri": "https://localhost:8080/",
     "height": 542
    },
    "id": "6XHT3pghhtaE",
    "outputId": "43fe89fe-9f57-48b8-a687-268e1a4175e9"
   },
   "outputs": [
    {
     "data": {
      "text/html": [
       "<html>\n",
       "<head><meta charset=\"utf-8\" /></head>\n",
       "<body>\n",
       "    <div>            <script src=\"https://cdnjs.cloudflare.com/ajax/libs/mathjax/2.7.5/MathJax.js?config=TeX-AMS-MML_SVG\"></script><script type=\"text/javascript\">if (window.MathJax) {MathJax.Hub.Config({SVG: {font: \"STIX-Web\"}});}</script>                <script type=\"text/javascript\">window.PlotlyConfig = {MathJaxConfig: 'local'};</script>\n",
       "        <script src=\"https://cdn.plot.ly/plotly-2.8.3.min.js\"></script>                <div id=\"60e84e04-57fb-4eca-aaad-d6904c55f43b\" class=\"plotly-graph-div\" style=\"height:525px; width:100%;\"></div>            <script type=\"text/javascript\">                                    window.PLOTLYENV=window.PLOTLYENV || {};                                    if (document.getElementById(\"60e84e04-57fb-4eca-aaad-d6904c55f43b\")) {                    Plotly.newPlot(                        \"60e84e04-57fb-4eca-aaad-d6904c55f43b\",                        [{\"coloraxis\":\"coloraxis\",\"geo\":\"geo\",\"hovertemplate\":\"<b>%{hovertext}</b><br><br>Code=%{location}<br>Mismanaged waste (% global total) (% of global total)=%{z}<extra></extra>\",\"hovertext\":[\"Albania\",\"Algeria\",\"Angola\",\"Anguilla\",\"Antigua and Barbuda\",\"Argentina\",\"Aruba\",\"Australia\",\"Bahamas\",\"Bahrain\",\"Bangladesh\",\"Barbados\",\"Belgium\",\"Belize\",\"Benin\",\"Bermuda\",\"Bosnia and Herzegovina\",\"Brazil\",\"British Virgin Islands\",\"Brunei\",\"Bulgaria\",\"Cambodia\",\"Cameroon\",\"Canada\",\"Cape Verde\",\"Cayman Islands\",\"Channel Islands\",\"Chile\",\"China\",\"Christmas Island\",\"Cocos Islands\",\"Colombia\",\"Comoros\",\"Congo\",\"Cook Islands\",\"Costa Rica\",\"Cote d'Ivoire\",\"Croatia\",\"Cuba\",\"Curacao\",\"Cyprus\",\"Democratic Republic of Congo\",\"Denmark\",\"Djibouti\",\"Dominica\",\"Dominican Republic\",\"Ecuador\",\"Egypt\",\"El Salvador\",\"Equatorial Guinea\",\"Eritrea\",\"Estonia\",\"Faeroe Islands\",\"Falkland Islands\",\"Fiji\",\"Finland\",\"France\",\"French Guiana\",\"French Polynesia\",\"Gabon\",\"Gambia\",\"Georgia\",\"Germany\",\"Ghana\",\"Gibraltar\",\"Greece\",\"Greenland\",\"Grenada\",\"Guadeloupe\",\"Guam\",\"Guatemala\",\"Guernsey\",\"Guinea\",\"Guinea-Bissau\",\"Guyana\",\"Haiti\",\"Honduras\",\"Hong Kong\",\"Iceland\",\"India\",\"Indonesia\",\"Iran\",\"Iraq\",\"Ireland\",\"Israel\",\"Italy\",\"Jamaica\",\"Japan\",\"Jordan\",\"Kenya\",\"Kiribati\",\"Kuwait\",\"Latvia\",\"Lebanon\",\"Liberia\",\"Libya\",\"Lithuania\",\"Macao\",\"Madagascar\",\"Malaysia\",\"Maldives\",\"Malta\",\"Marshall Islands\",\"Martinique\",\"Mauritania\",\"Mauritius\",\"Mexico\",\"Micronesia (country)\",\"Monaco\",\"Montenegro\",\"Montserrat\",\"Morocco\",\"Mozambique\",\"Myanmar\",\"Namibia\",\"Nauru\",\"Netherlands\",\"Netherlands Antilles\",\"New Caledonia\",\"New Zealand\",\"Nicaragua\",\"Nigeria\",\"Niue\",\"Norfolk Island\",\"North Korea\",\"Northern Mariana Islands\",\"Norway\",\"Oman\",\"Pakistan\",\"Palau\",\"Palestine\",\"Panama\",\"Papua New Guinea\",\"Peru\",\"Philippines\",\"Poland\",\"Portugal\",\"Puerto Rico\",\"Qatar\",\"Reunion\",\"Romania\",\"Russia\",\"Saint Helena\",\"Saint Kitts and Nevis\",\"Saint Lucia\",\"Saint Pierre and Miquelon\",\"Saint Vincent and the Grenadines\",\"Samoa\",\"Sao Tome and Principe\",\"Saudi Arabia\",\"Senegal\",\"Seychelles\",\"Sierra Leone\",\"Singapore\",\"Sint Maarten (Dutch part)\",\"Slovenia\",\"Solomon Islands\",\"Somalia\",\"South Africa\",\"South Korea\",\"Spain\",\"Sri Lanka\",\"Sudan\",\"Suriname\",\"Sweden\",\"Syria\",\"Taiwan\",\"Tanzania\",\"Thailand\",\"Togo\",\"Tokelau\",\"Tonga\",\"Trinidad and Tobago\",\"Tunisia\",\"Turkey\",\"Turks and Caicos Islands\",\"Tuvalu\",\"Ukraine\",\"United Arab Emirates\",\"United Kingdom\",\"United States\",\"Uruguay\",\"Vanuatu\",\"Venezuela\",\"Vietnam\",\"Yemen\"],\"locations\":[\"ALB\",\"DZA\",\"AGO\",\"AIA\",\"ATG\",\"ARG\",\"ABW\",\"AUS\",\"BHS\",\"BHR\",\"BGD\",\"BRB\",\"BEL\",\"BLZ\",\"BEN\",\"BMU\",\"BIH\",\"BRA\",\"VGB\",\"BRN\",\"BGR\",\"KHM\",\"CMR\",\"CAN\",\"CPV\",\"CYM\",\"OWID_CIS\",\"CHL\",\"CHN\",\"CXR\",\"CCK\",\"COL\",\"COM\",\"COG\",\"COK\",\"CRI\",\"CIV\",\"HRV\",\"CUB\",\"CUW\",\"CYP\",\"COD\",\"DNK\",\"DJI\",\"DMA\",\"DOM\",\"ECU\",\"EGY\",\"SLV\",\"GNQ\",\"ERI\",\"EST\",\"FRO\",\"FLK\",\"FJI\",\"FIN\",\"FRA\",\"GUF\",\"PYF\",\"GAB\",\"GMB\",\"GEO\",\"DEU\",\"GHA\",\"GIB\",\"GRC\",\"GRL\",\"GRD\",\"GLP\",\"GUM\",\"GTM\",\"GGY\",\"GIN\",\"GNB\",\"GUY\",\"HTI\",\"HND\",\"HKG\",\"ISL\",\"IND\",\"IDN\",\"IRN\",\"IRQ\",\"IRL\",\"ISR\",\"ITA\",\"JAM\",\"JPN\",\"JOR\",\"KEN\",\"KIR\",\"KWT\",\"LVA\",\"LBN\",\"LBR\",\"LBY\",\"LTU\",\"MAC\",\"MDG\",\"MYS\",\"MDV\",\"MLT\",\"MHL\",\"MTQ\",\"MRT\",\"MUS\",\"MEX\",\"FSM\",\"MCO\",\"MNE\",\"MSR\",\"MAR\",\"MOZ\",\"MMR\",\"NAM\",\"NRU\",\"NLD\",\"ANT\",\"NCL\",\"NZL\",\"NIC\",\"NGA\",\"NIU\",\"NFK\",\"PRK\",\"MNP\",\"NOR\",\"OMN\",\"PAK\",\"PLW\",\"PSE\",\"PAN\",\"PNG\",\"PER\",\"PHL\",\"POL\",\"PRT\",\"PRI\",\"QAT\",\"REU\",\"ROU\",\"RUS\",\"SHN\",\"KNA\",\"LCA\",\"SPM\",\"VCT\",\"WSM\",\"STP\",\"SAU\",\"SEN\",\"SYC\",\"SLE\",\"SGP\",\"SXM\",\"SVN\",\"SLB\",\"SOM\",\"ZAF\",\"KOR\",\"ESP\",\"LKA\",\"SDN\",\"SUR\",\"SWE\",\"SYR\",\"TWN\",\"TZA\",\"THA\",\"TGO\",\"TKL\",\"TON\",\"TTO\",\"TUN\",\"TUR\",\"TCA\",\"TUV\",\"UKR\",\"ARE\",\"GBR\",\"USA\",\"URY\",\"VUT\",\"VEN\",\"VNM\",\"YEM\"],\"name\":\"\",\"z\":[0.0933,1.6347,0.1964,0.0002,0.0039,0.4955,0.0012,0.0436,0.0042,0.0137,2.4725,0.0109,0.0086,0.0122,0.1351,0.0004,0.0407,1.4804,0.0002,0.0003,0.0588,0.0932,0.087,0.025,0.0294,0.0003,0.0009,0.0683,27.6966,0.0,0.0,0.2895,0.1822,0.0527,0.0013,0.1322,0.611,0.0517,0.2846,0.0008,0.0057,0.0478,0.0056,0.0544,0.0025,0.3713,0.3435,3.0367,0.3729,0.0188,0.0511,0.0188,0.0003,0.0,0.1547,0.0157,0.0757,0.0074,0.004,0.0191,0.0616,0.0454,0.0981,0.2876,0.0002,0.0447,0.0003,0.0071,0.0206,0.0012,0.2875,0.0003,0.0581,0.0636,0.1319,0.4628,0.3003,0.0895,0.0019,1.8836,10.1019,0.7769,0.0489,0.0368,0.0597,0.1029,0.0315,0.4494,0.0055,0.0712,0.0096,0.0361,0.0323,0.1502,0.1781,0.1657,0.0109,0.0022,0.1084,2.9419,0.0988,0.0082,0.01,0.0024,0.0435,0.176,0.3182,0.0151,0.0002,0.0139,0.0001,0.9739,0.1444,1.4391,0.0172,0.0017,0.087,0.0013,0.0015,0.0292,0.2651,2.674,0.0,0.0002,0.9557,0.0007,0.0264,0.0146,1.5089,0.0022,0.0176,0.108,0.2821,0.6106,5.9153,0.0493,0.0515,0.0519,0.0024,0.0027,0.0113,0.2536,0.0003,0.0022,0.0211,0.0,0.007,0.0161,0.016,0.0645,0.8001,0.0145,0.1143,0.0203,0.0002,0.0017,0.064,0.3188,1.9784,0.106,0.144,4.9968,0.072,0.0124,0.0068,0.4959,0.1436,0.1526,3.2274,0.1112,0.0001,0.0208,0.2954,0.7358,1.526,0.0002,0.0014,0.4044,0.0095,0.2121,0.8649,0.0677,0.0706,0.3214,5.7588,0.531],\"type\":\"choropleth\"}],                        {\"template\":{\"data\":{\"bar\":[{\"error_x\":{\"color\":\"#2a3f5f\"},\"error_y\":{\"color\":\"#2a3f5f\"},\"marker\":{\"line\":{\"color\":\"#E5ECF6\",\"width\":0.5},\"pattern\":{\"fillmode\":\"overlay\",\"size\":10,\"solidity\":0.2}},\"type\":\"bar\"}],\"barpolar\":[{\"marker\":{\"line\":{\"color\":\"#E5ECF6\",\"width\":0.5},\"pattern\":{\"fillmode\":\"overlay\",\"size\":10,\"solidity\":0.2}},\"type\":\"barpolar\"}],\"carpet\":[{\"aaxis\":{\"endlinecolor\":\"#2a3f5f\",\"gridcolor\":\"white\",\"linecolor\":\"white\",\"minorgridcolor\":\"white\",\"startlinecolor\":\"#2a3f5f\"},\"baxis\":{\"endlinecolor\":\"#2a3f5f\",\"gridcolor\":\"white\",\"linecolor\":\"white\",\"minorgridcolor\":\"white\",\"startlinecolor\":\"#2a3f5f\"},\"type\":\"carpet\"}],\"choropleth\":[{\"colorbar\":{\"outlinewidth\":0,\"ticks\":\"\"},\"type\":\"choropleth\"}],\"contour\":[{\"colorbar\":{\"outlinewidth\":0,\"ticks\":\"\"},\"colorscale\":[[0.0,\"#0d0887\"],[0.1111111111111111,\"#46039f\"],[0.2222222222222222,\"#7201a8\"],[0.3333333333333333,\"#9c179e\"],[0.4444444444444444,\"#bd3786\"],[0.5555555555555556,\"#d8576b\"],[0.6666666666666666,\"#ed7953\"],[0.7777777777777778,\"#fb9f3a\"],[0.8888888888888888,\"#fdca26\"],[1.0,\"#f0f921\"]],\"type\":\"contour\"}],\"contourcarpet\":[{\"colorbar\":{\"outlinewidth\":0,\"ticks\":\"\"},\"type\":\"contourcarpet\"}],\"heatmap\":[{\"colorbar\":{\"outlinewidth\":0,\"ticks\":\"\"},\"colorscale\":[[0.0,\"#0d0887\"],[0.1111111111111111,\"#46039f\"],[0.2222222222222222,\"#7201a8\"],[0.3333333333333333,\"#9c179e\"],[0.4444444444444444,\"#bd3786\"],[0.5555555555555556,\"#d8576b\"],[0.6666666666666666,\"#ed7953\"],[0.7777777777777778,\"#fb9f3a\"],[0.8888888888888888,\"#fdca26\"],[1.0,\"#f0f921\"]],\"type\":\"heatmap\"}],\"heatmapgl\":[{\"colorbar\":{\"outlinewidth\":0,\"ticks\":\"\"},\"colorscale\":[[0.0,\"#0d0887\"],[0.1111111111111111,\"#46039f\"],[0.2222222222222222,\"#7201a8\"],[0.3333333333333333,\"#9c179e\"],[0.4444444444444444,\"#bd3786\"],[0.5555555555555556,\"#d8576b\"],[0.6666666666666666,\"#ed7953\"],[0.7777777777777778,\"#fb9f3a\"],[0.8888888888888888,\"#fdca26\"],[1.0,\"#f0f921\"]],\"type\":\"heatmapgl\"}],\"histogram\":[{\"marker\":{\"pattern\":{\"fillmode\":\"overlay\",\"size\":10,\"solidity\":0.2}},\"type\":\"histogram\"}],\"histogram2d\":[{\"colorbar\":{\"outlinewidth\":0,\"ticks\":\"\"},\"colorscale\":[[0.0,\"#0d0887\"],[0.1111111111111111,\"#46039f\"],[0.2222222222222222,\"#7201a8\"],[0.3333333333333333,\"#9c179e\"],[0.4444444444444444,\"#bd3786\"],[0.5555555555555556,\"#d8576b\"],[0.6666666666666666,\"#ed7953\"],[0.7777777777777778,\"#fb9f3a\"],[0.8888888888888888,\"#fdca26\"],[1.0,\"#f0f921\"]],\"type\":\"histogram2d\"}],\"histogram2dcontour\":[{\"colorbar\":{\"outlinewidth\":0,\"ticks\":\"\"},\"colorscale\":[[0.0,\"#0d0887\"],[0.1111111111111111,\"#46039f\"],[0.2222222222222222,\"#7201a8\"],[0.3333333333333333,\"#9c179e\"],[0.4444444444444444,\"#bd3786\"],[0.5555555555555556,\"#d8576b\"],[0.6666666666666666,\"#ed7953\"],[0.7777777777777778,\"#fb9f3a\"],[0.8888888888888888,\"#fdca26\"],[1.0,\"#f0f921\"]],\"type\":\"histogram2dcontour\"}],\"mesh3d\":[{\"colorbar\":{\"outlinewidth\":0,\"ticks\":\"\"},\"type\":\"mesh3d\"}],\"parcoords\":[{\"line\":{\"colorbar\":{\"outlinewidth\":0,\"ticks\":\"\"}},\"type\":\"parcoords\"}],\"pie\":[{\"automargin\":true,\"type\":\"pie\"}],\"scatter\":[{\"marker\":{\"colorbar\":{\"outlinewidth\":0,\"ticks\":\"\"}},\"type\":\"scatter\"}],\"scatter3d\":[{\"line\":{\"colorbar\":{\"outlinewidth\":0,\"ticks\":\"\"}},\"marker\":{\"colorbar\":{\"outlinewidth\":0,\"ticks\":\"\"}},\"type\":\"scatter3d\"}],\"scattercarpet\":[{\"marker\":{\"colorbar\":{\"outlinewidth\":0,\"ticks\":\"\"}},\"type\":\"scattercarpet\"}],\"scattergeo\":[{\"marker\":{\"colorbar\":{\"outlinewidth\":0,\"ticks\":\"\"}},\"type\":\"scattergeo\"}],\"scattergl\":[{\"marker\":{\"colorbar\":{\"outlinewidth\":0,\"ticks\":\"\"}},\"type\":\"scattergl\"}],\"scattermapbox\":[{\"marker\":{\"colorbar\":{\"outlinewidth\":0,\"ticks\":\"\"}},\"type\":\"scattermapbox\"}],\"scatterpolar\":[{\"marker\":{\"colorbar\":{\"outlinewidth\":0,\"ticks\":\"\"}},\"type\":\"scatterpolar\"}],\"scatterpolargl\":[{\"marker\":{\"colorbar\":{\"outlinewidth\":0,\"ticks\":\"\"}},\"type\":\"scatterpolargl\"}],\"scatterternary\":[{\"marker\":{\"colorbar\":{\"outlinewidth\":0,\"ticks\":\"\"}},\"type\":\"scatterternary\"}],\"surface\":[{\"colorbar\":{\"outlinewidth\":0,\"ticks\":\"\"},\"colorscale\":[[0.0,\"#0d0887\"],[0.1111111111111111,\"#46039f\"],[0.2222222222222222,\"#7201a8\"],[0.3333333333333333,\"#9c179e\"],[0.4444444444444444,\"#bd3786\"],[0.5555555555555556,\"#d8576b\"],[0.6666666666666666,\"#ed7953\"],[0.7777777777777778,\"#fb9f3a\"],[0.8888888888888888,\"#fdca26\"],[1.0,\"#f0f921\"]],\"type\":\"surface\"}],\"table\":[{\"cells\":{\"fill\":{\"color\":\"#EBF0F8\"},\"line\":{\"color\":\"white\"}},\"header\":{\"fill\":{\"color\":\"#C8D4E3\"},\"line\":{\"color\":\"white\"}},\"type\":\"table\"}]},\"layout\":{\"annotationdefaults\":{\"arrowcolor\":\"#2a3f5f\",\"arrowhead\":0,\"arrowwidth\":1},\"autotypenumbers\":\"strict\",\"coloraxis\":{\"colorbar\":{\"outlinewidth\":0,\"ticks\":\"\"}},\"colorscale\":{\"diverging\":[[0,\"#8e0152\"],[0.1,\"#c51b7d\"],[0.2,\"#de77ae\"],[0.3,\"#f1b6da\"],[0.4,\"#fde0ef\"],[0.5,\"#f7f7f7\"],[0.6,\"#e6f5d0\"],[0.7,\"#b8e186\"],[0.8,\"#7fbc41\"],[0.9,\"#4d9221\"],[1,\"#276419\"]],\"sequential\":[[0.0,\"#0d0887\"],[0.1111111111111111,\"#46039f\"],[0.2222222222222222,\"#7201a8\"],[0.3333333333333333,\"#9c179e\"],[0.4444444444444444,\"#bd3786\"],[0.5555555555555556,\"#d8576b\"],[0.6666666666666666,\"#ed7953\"],[0.7777777777777778,\"#fb9f3a\"],[0.8888888888888888,\"#fdca26\"],[1.0,\"#f0f921\"]],\"sequentialminus\":[[0.0,\"#0d0887\"],[0.1111111111111111,\"#46039f\"],[0.2222222222222222,\"#7201a8\"],[0.3333333333333333,\"#9c179e\"],[0.4444444444444444,\"#bd3786\"],[0.5555555555555556,\"#d8576b\"],[0.6666666666666666,\"#ed7953\"],[0.7777777777777778,\"#fb9f3a\"],[0.8888888888888888,\"#fdca26\"],[1.0,\"#f0f921\"]]},\"colorway\":[\"#636efa\",\"#EF553B\",\"#00cc96\",\"#ab63fa\",\"#FFA15A\",\"#19d3f3\",\"#FF6692\",\"#B6E880\",\"#FF97FF\",\"#FECB52\"],\"font\":{\"color\":\"#2a3f5f\"},\"geo\":{\"bgcolor\":\"white\",\"lakecolor\":\"white\",\"landcolor\":\"#E5ECF6\",\"showlakes\":true,\"showland\":true,\"subunitcolor\":\"white\"},\"hoverlabel\":{\"align\":\"left\"},\"hovermode\":\"closest\",\"mapbox\":{\"style\":\"light\"},\"paper_bgcolor\":\"white\",\"plot_bgcolor\":\"#E5ECF6\",\"polar\":{\"angularaxis\":{\"gridcolor\":\"white\",\"linecolor\":\"white\",\"ticks\":\"\"},\"bgcolor\":\"#E5ECF6\",\"radialaxis\":{\"gridcolor\":\"white\",\"linecolor\":\"white\",\"ticks\":\"\"}},\"scene\":{\"xaxis\":{\"backgroundcolor\":\"#E5ECF6\",\"gridcolor\":\"white\",\"gridwidth\":2,\"linecolor\":\"white\",\"showbackground\":true,\"ticks\":\"\",\"zerolinecolor\":\"white\"},\"yaxis\":{\"backgroundcolor\":\"#E5ECF6\",\"gridcolor\":\"white\",\"gridwidth\":2,\"linecolor\":\"white\",\"showbackground\":true,\"ticks\":\"\",\"zerolinecolor\":\"white\"},\"zaxis\":{\"backgroundcolor\":\"#E5ECF6\",\"gridcolor\":\"white\",\"gridwidth\":2,\"linecolor\":\"white\",\"showbackground\":true,\"ticks\":\"\",\"zerolinecolor\":\"white\"}},\"shapedefaults\":{\"line\":{\"color\":\"#2a3f5f\"}},\"ternary\":{\"aaxis\":{\"gridcolor\":\"white\",\"linecolor\":\"white\",\"ticks\":\"\"},\"baxis\":{\"gridcolor\":\"white\",\"linecolor\":\"white\",\"ticks\":\"\"},\"bgcolor\":\"#E5ECF6\",\"caxis\":{\"gridcolor\":\"white\",\"linecolor\":\"white\",\"ticks\":\"\"}},\"title\":{\"x\":0.05},\"xaxis\":{\"automargin\":true,\"gridcolor\":\"white\",\"linecolor\":\"white\",\"ticks\":\"\",\"title\":{\"standoff\":15},\"zerolinecolor\":\"white\",\"zerolinewidth\":2},\"yaxis\":{\"automargin\":true,\"gridcolor\":\"white\",\"linecolor\":\"white\",\"ticks\":\"\",\"title\":{\"standoff\":15},\"zerolinecolor\":\"white\",\"zerolinewidth\":2}}},\"geo\":{\"domain\":{\"x\":[0.0,1.0],\"y\":[0.0,1.0]},\"center\":{}},\"coloraxis\":{\"colorbar\":{\"title\":{\"text\":\"Mismanaged waste (% global total) (% of global total)\"}},\"colorscale\":[[0.0,\"#0d0887\"],[0.1111111111111111,\"#46039f\"],[0.2222222222222222,\"#7201a8\"],[0.3333333333333333,\"#9c179e\"],[0.4444444444444444,\"#bd3786\"],[0.5555555555555556,\"#d8576b\"],[0.6666666666666666,\"#ed7953\"],[0.7777777777777778,\"#fb9f3a\"],[0.8888888888888888,\"#fdca26\"],[1.0,\"#f0f921\"]]},\"legend\":{\"tracegroupgap\":0},\"margin\":{\"t\":60}},                        {\"responsive\": true}                    ).then(function(){\n",
       "                            \n",
       "var gd = document.getElementById('60e84e04-57fb-4eca-aaad-d6904c55f43b');\n",
       "var x = new MutationObserver(function (mutations, observer) {{\n",
       "        var display = window.getComputedStyle(gd).display;\n",
       "        if (!display || display === 'none') {{\n",
       "            console.log([gd, 'removed!']);\n",
       "            Plotly.purge(gd);\n",
       "            observer.disconnect();\n",
       "        }}\n",
       "}});\n",
       "\n",
       "// Listen for the removal of the full notebook cells\n",
       "var notebookContainer = gd.closest('#notebook-container');\n",
       "if (notebookContainer) {{\n",
       "    x.observe(notebookContainer, {childList: true});\n",
       "}}\n",
       "\n",
       "// Listen for the clearing of the current output cell\n",
       "var outputEl = gd.closest('.output');\n",
       "if (outputEl) {{\n",
       "    x.observe(outputEl, {childList: true});\n",
       "}}\n",
       "\n",
       "                        })                };                            </script>        </div>\n",
       "</body>\n",
       "</html>"
      ]
     },
     "metadata": {},
     "output_type": "display_data"
    }
   ],
   "source": [
    "fig = px.choropleth(df, locations=\"Code\",\n",
    "                    color=\"Mismanaged waste (% global total) (% of global total)\", # lifeExp is a column of gapminder\n",
    "                    hover_name=\"Entity\", # column to add to hover information\n",
    "                    color_continuous_scale=px.colors.sequential.Plasma)\n",
    "fig.show()\n",
    "##China take the most portion of mismanaged waste water.\n",
    "##Because of China's population amount and manufactural industry size, the view that China produce the most polution is misleading."
   ]
  },
  {
   "cell_type": "markdown",
   "metadata": {
    "id": "hfpZip3bjG-9"
   },
   "source": [
    "**Hint:** \n",
    "\n",
    "* The variable \"code\" contains [three letters ISO country codes](https://en.wikipedia.org/wiki/ISO_3166-1_alpha-3). \n",
    "* [Use the built-in country code to create a choropleth map.](https://plotly.com/python/choropleth-maps/#using-builtin-country-and-state-geometries)\n",
    "\n"
   ]
  },
  {
   "cell_type": "markdown",
   "metadata": {
    "id": "6X-yZb6YvfhH"
   },
   "source": [
    "### Problem 2 ##"
   ]
  },
  {
   "cell_type": "markdown",
   "metadata": {
    "id": "KJEm4wRFvjL9"
   },
   "source": [
    "**Dataset:** [Plastic disposal dataset](https://ourworldindata.org/plastic-pollution)\n",
    "\n",
    "**Information:** Plastic disposal dataset methods shows how has global plastic waste disposal method changed over time. In the chart we see the share of global plastic waste that is discarded, recycled or incinerated from 1980 through to 2015.\n"
   ]
  },
  {
   "cell_type": "code",
   "execution_count": null,
   "metadata": {
    "colab": {
     "base_uri": "https://localhost:8080/",
     "height": 263,
     "resources": {
      "http://localhost:8080/nbextensions/google.colab/files.js": {
       "data": "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",
       "headers": [
        [
         "content-type",
         "application/javascript"
        ]
       ],
       "ok": true,
       "status": 200,
       "status_text": ""
      }
     }
    },
    "id": "nIWptteOwH8s",
    "outputId": "6f8e0856-d2f2-4303-9d1f-8f7bd6cbfdec"
   },
   "outputs": [
    {
     "data": {
      "text/html": [
       "\n",
       "     <input type=\"file\" id=\"files-3230b60d-35e0-4363-bacb-9771eecd8c31\" name=\"files[]\" multiple disabled\n",
       "        style=\"border:none\" />\n",
       "     <output id=\"result-3230b60d-35e0-4363-bacb-9771eecd8c31\">\n",
       "      Upload widget is only available when the cell has been executed in the\n",
       "      current browser session. Please rerun this cell to enable.\n",
       "      </output>\n",
       "      <script src=\"/nbextensions/google.colab/files.js\"></script> "
      ],
      "text/plain": [
       "<IPython.core.display.HTML object>"
      ]
     },
     "metadata": {},
     "output_type": "display_data"
    },
    {
     "name": "stdout",
     "output_type": "stream",
     "text": [
      "Saving activity.xlsx to activity.xlsx\n"
     ]
    },
    {
     "data": {
      "text/html": [
       "\n",
       "  <div id=\"df-4b3ed6cd-e5fd-4d2d-8b50-38830df40856\">\n",
       "    <div class=\"colab-df-container\">\n",
       "      <div>\n",
       "<style scoped>\n",
       "    .dataframe tbody tr th:only-of-type {\n",
       "        vertical-align: middle;\n",
       "    }\n",
       "\n",
       "    .dataframe tbody tr th {\n",
       "        vertical-align: top;\n",
       "    }\n",
       "\n",
       "    .dataframe thead th {\n",
       "        text-align: right;\n",
       "    }\n",
       "</style>\n",
       "<table border=\"1\" class=\"dataframe\">\n",
       "  <thead>\n",
       "    <tr style=\"text-align: right;\">\n",
       "      <th></th>\n",
       "      <th>year</th>\n",
       "      <th>Value</th>\n",
       "      <th>Type</th>\n",
       "    </tr>\n",
       "  </thead>\n",
       "  <tbody>\n",
       "    <tr>\n",
       "      <th>0</th>\n",
       "      <td>1960</td>\n",
       "      <td>88.1</td>\n",
       "      <td>Generation</td>\n",
       "    </tr>\n",
       "    <tr>\n",
       "      <th>1</th>\n",
       "      <td>1960</td>\n",
       "      <td>NaN</td>\n",
       "      <td>Composting*</td>\n",
       "    </tr>\n",
       "    <tr>\n",
       "      <th>2</th>\n",
       "      <td>1960</td>\n",
       "      <td>5.6</td>\n",
       "      <td>Recycling</td>\n",
       "    </tr>\n",
       "    <tr>\n",
       "      <th>3</th>\n",
       "      <td>1960</td>\n",
       "      <td>0.0</td>\n",
       "      <td>Combustion with energy recovery</td>\n",
       "    </tr>\n",
       "    <tr>\n",
       "      <th>4</th>\n",
       "      <td>1960</td>\n",
       "      <td>82.5</td>\n",
       "      <td>Landfilling and other disposal</td>\n",
       "    </tr>\n",
       "  </tbody>\n",
       "</table>\n",
       "</div>\n",
       "      <button class=\"colab-df-convert\" onclick=\"convertToInteractive('df-4b3ed6cd-e5fd-4d2d-8b50-38830df40856')\"\n",
       "              title=\"Convert this dataframe to an interactive table.\"\n",
       "              style=\"display:none;\">\n",
       "        \n",
       "  <svg xmlns=\"http://www.w3.org/2000/svg\" height=\"24px\"viewBox=\"0 0 24 24\"\n",
       "       width=\"24px\">\n",
       "    <path d=\"M0 0h24v24H0V0z\" fill=\"none\"/>\n",
       "    <path d=\"M18.56 5.44l.94 2.06.94-2.06 2.06-.94-2.06-.94-.94-2.06-.94 2.06-2.06.94zm-11 1L8.5 8.5l.94-2.06 2.06-.94-2.06-.94L8.5 2.5l-.94 2.06-2.06.94zm10 10l.94 2.06.94-2.06 2.06-.94-2.06-.94-.94-2.06-.94 2.06-2.06.94z\"/><path d=\"M17.41 7.96l-1.37-1.37c-.4-.4-.92-.59-1.43-.59-.52 0-1.04.2-1.43.59L10.3 9.45l-7.72 7.72c-.78.78-.78 2.05 0 2.83L4 21.41c.39.39.9.59 1.41.59.51 0 1.02-.2 1.41-.59l7.78-7.78 2.81-2.81c.8-.78.8-2.07 0-2.86zM5.41 20L4 18.59l7.72-7.72 1.47 1.35L5.41 20z\"/>\n",
       "  </svg>\n",
       "      </button>\n",
       "      \n",
       "  <style>\n",
       "    .colab-df-container {\n",
       "      display:flex;\n",
       "      flex-wrap:wrap;\n",
       "      gap: 12px;\n",
       "    }\n",
       "\n",
       "    .colab-df-convert {\n",
       "      background-color: #E8F0FE;\n",
       "      border: none;\n",
       "      border-radius: 50%;\n",
       "      cursor: pointer;\n",
       "      display: none;\n",
       "      fill: #1967D2;\n",
       "      height: 32px;\n",
       "      padding: 0 0 0 0;\n",
       "      width: 32px;\n",
       "    }\n",
       "\n",
       "    .colab-df-convert:hover {\n",
       "      background-color: #E2EBFA;\n",
       "      box-shadow: 0px 1px 2px rgba(60, 64, 67, 0.3), 0px 1px 3px 1px rgba(60, 64, 67, 0.15);\n",
       "      fill: #174EA6;\n",
       "    }\n",
       "\n",
       "    [theme=dark] .colab-df-convert {\n",
       "      background-color: #3B4455;\n",
       "      fill: #D2E3FC;\n",
       "    }\n",
       "\n",
       "    [theme=dark] .colab-df-convert:hover {\n",
       "      background-color: #434B5C;\n",
       "      box-shadow: 0px 1px 3px 1px rgba(0, 0, 0, 0.15);\n",
       "      filter: drop-shadow(0px 1px 2px rgba(0, 0, 0, 0.3));\n",
       "      fill: #FFFFFF;\n",
       "    }\n",
       "  </style>\n",
       "\n",
       "      <script>\n",
       "        const buttonEl =\n",
       "          document.querySelector('#df-4b3ed6cd-e5fd-4d2d-8b50-38830df40856 button.colab-df-convert');\n",
       "        buttonEl.style.display =\n",
       "          google.colab.kernel.accessAllowed ? 'block' : 'none';\n",
       "\n",
       "        async function convertToInteractive(key) {\n",
       "          const element = document.querySelector('#df-4b3ed6cd-e5fd-4d2d-8b50-38830df40856');\n",
       "          const dataTable =\n",
       "            await google.colab.kernel.invokeFunction('convertToInteractive',\n",
       "                                                     [key], {});\n",
       "          if (!dataTable) return;\n",
       "\n",
       "          const docLinkHtml = 'Like what you see? Visit the ' +\n",
       "            '<a target=\"_blank\" href=https://colab.research.google.com/notebooks/data_table.ipynb>data table notebook</a>'\n",
       "            + ' to learn more about interactive tables.';\n",
       "          element.innerHTML = '';\n",
       "          dataTable['output_type'] = 'display_data';\n",
       "          await google.colab.output.renderOutput(dataTable, element);\n",
       "          const docLink = document.createElement('div');\n",
       "          docLink.innerHTML = docLinkHtml;\n",
       "          element.appendChild(docLink);\n",
       "        }\n",
       "      </script>\n",
       "    </div>\n",
       "  </div>\n",
       "  "
      ],
      "text/plain": [
       "   year  Value                             Type\n",
       "0  1960   88.1                       Generation\n",
       "1  1960    NaN                      Composting*\n",
       "2  1960    5.6                        Recycling\n",
       "3  1960    0.0  Combustion with energy recovery\n",
       "4  1960   82.5   Landfilling and other disposal"
      ]
     },
     "execution_count": 4,
     "metadata": {},
     "output_type": "execute_result"
    }
   ],
   "source": [
    "#Load the dataset\n",
    "from google.colab import files\n",
    "file = files.upload()  #upload file into google colab session\n",
    "df = pd.read_excel(\"activity.xlsx\") \n",
    "df.head()"
   ]
  },
  {
   "cell_type": "markdown",
   "metadata": {
    "id": "rRNaDDadiK6k"
   },
   "source": [
    "**TODO:**\n",
    "*  Use an animated bar chart to indicate the change of trash disposal method through the years\n",
    "*  Interpret your key findings from the graph\n"
   ]
  },
  {
   "cell_type": "code",
   "execution_count": null,
   "metadata": {
    "colab": {
     "base_uri": "https://localhost:8080/",
     "height": 542
    },
    "id": "9Dd91TqnwIFR",
    "outputId": "21aaade4-bad6-4191-9723-2d4fd054941a"
   },
   "outputs": [
    {
     "data": {
      "text/html": [
       "<html>\n",
       "<head><meta charset=\"utf-8\" /></head>\n",
       "<body>\n",
       "    <div>            <script src=\"https://cdnjs.cloudflare.com/ajax/libs/mathjax/2.7.5/MathJax.js?config=TeX-AMS-MML_SVG\"></script><script type=\"text/javascript\">if (window.MathJax) {MathJax.Hub.Config({SVG: {font: \"STIX-Web\"}});}</script>                <script type=\"text/javascript\">window.PlotlyConfig = {MathJaxConfig: 'local'};</script>\n",
       "        <script src=\"https://cdn.plot.ly/plotly-2.8.3.min.js\"></script>                <div id=\"9cb66c67-09d8-458a-a50e-448a264794e4\" class=\"plotly-graph-div\" style=\"height:525px; width:100%;\"></div>            <script type=\"text/javascript\">                                    window.PLOTLYENV=window.PLOTLYENV || {};                                    if (document.getElementById(\"9cb66c67-09d8-458a-a50e-448a264794e4\")) {                    Plotly.newPlot(                        \"9cb66c67-09d8-458a-a50e-448a264794e4\",                        [{\"alignmentgroup\":\"True\",\"hovertemplate\":\"Type=%{x}<br>year=1960<br>Value=%{y}<extra></extra>\",\"legendgroup\":\"Generation\",\"marker\":{\"color\":\"#636efa\",\"pattern\":{\"shape\":\"\"}},\"name\":\"Generation\",\"offsetgroup\":\"Generation\",\"orientation\":\"v\",\"showlegend\":true,\"textposition\":\"auto\",\"x\":[\"Generation\"],\"xaxis\":\"x\",\"y\":[88.1],\"yaxis\":\"y\",\"type\":\"bar\"},{\"alignmentgroup\":\"True\",\"hovertemplate\":\"Type=%{x}<br>year=1960<br>Value=%{y}<extra></extra>\",\"legendgroup\":\"Composting*\",\"marker\":{\"color\":\"#EF553B\",\"pattern\":{\"shape\":\"\"}},\"name\":\"Composting*\",\"offsetgroup\":\"Composting*\",\"orientation\":\"v\",\"showlegend\":true,\"textposition\":\"auto\",\"x\":[\"Composting*\"],\"xaxis\":\"x\",\"y\":[null],\"yaxis\":\"y\",\"type\":\"bar\"},{\"alignmentgroup\":\"True\",\"hovertemplate\":\"Type=%{x}<br>year=1960<br>Value=%{y}<extra></extra>\",\"legendgroup\":\"Recycling\",\"marker\":{\"color\":\"#00cc96\",\"pattern\":{\"shape\":\"\"}},\"name\":\"Recycling\",\"offsetgroup\":\"Recycling\",\"orientation\":\"v\",\"showlegend\":true,\"textposition\":\"auto\",\"x\":[\"Recycling\"],\"xaxis\":\"x\",\"y\":[5.6],\"yaxis\":\"y\",\"type\":\"bar\"},{\"alignmentgroup\":\"True\",\"hovertemplate\":\"Type=%{x}<br>year=1960<br>Value=%{y}<extra></extra>\",\"legendgroup\":\"Combustion with energy recovery\",\"marker\":{\"color\":\"#ab63fa\",\"pattern\":{\"shape\":\"\"}},\"name\":\"Combustion with energy recovery\",\"offsetgroup\":\"Combustion with energy recovery\",\"orientation\":\"v\",\"showlegend\":true,\"textposition\":\"auto\",\"x\":[\"Combustion with energy recovery\"],\"xaxis\":\"x\",\"y\":[0.0],\"yaxis\":\"y\",\"type\":\"bar\"},{\"alignmentgroup\":\"True\",\"hovertemplate\":\"Type=%{x}<br>year=1960<br>Value=%{y}<extra></extra>\",\"legendgroup\":\"Landfilling and other disposal\",\"marker\":{\"color\":\"#FFA15A\",\"pattern\":{\"shape\":\"\"}},\"name\":\"Landfilling and other disposal\",\"offsetgroup\":\"Landfilling and other disposal\",\"orientation\":\"v\",\"showlegend\":true,\"textposition\":\"auto\",\"x\":[\"Landfilling and other disposal\"],\"xaxis\":\"x\",\"y\":[82.5],\"yaxis\":\"y\",\"type\":\"bar\"}],                        {\"template\":{\"data\":{\"bar\":[{\"error_x\":{\"color\":\"#2a3f5f\"},\"error_y\":{\"color\":\"#2a3f5f\"},\"marker\":{\"line\":{\"color\":\"#E5ECF6\",\"width\":0.5},\"pattern\":{\"fillmode\":\"overlay\",\"size\":10,\"solidity\":0.2}},\"type\":\"bar\"}],\"barpolar\":[{\"marker\":{\"line\":{\"color\":\"#E5ECF6\",\"width\":0.5},\"pattern\":{\"fillmode\":\"overlay\",\"size\":10,\"solidity\":0.2}},\"type\":\"barpolar\"}],\"carpet\":[{\"aaxis\":{\"endlinecolor\":\"#2a3f5f\",\"gridcolor\":\"white\",\"linecolor\":\"white\",\"minorgridcolor\":\"white\",\"startlinecolor\":\"#2a3f5f\"},\"baxis\":{\"endlinecolor\":\"#2a3f5f\",\"gridcolor\":\"white\",\"linecolor\":\"white\",\"minorgridcolor\":\"white\",\"startlinecolor\":\"#2a3f5f\"},\"type\":\"carpet\"}],\"choropleth\":[{\"colorbar\":{\"outlinewidth\":0,\"ticks\":\"\"},\"type\":\"choropleth\"}],\"contour\":[{\"colorbar\":{\"outlinewidth\":0,\"ticks\":\"\"},\"colorscale\":[[0.0,\"#0d0887\"],[0.1111111111111111,\"#46039f\"],[0.2222222222222222,\"#7201a8\"],[0.3333333333333333,\"#9c179e\"],[0.4444444444444444,\"#bd3786\"],[0.5555555555555556,\"#d8576b\"],[0.6666666666666666,\"#ed7953\"],[0.7777777777777778,\"#fb9f3a\"],[0.8888888888888888,\"#fdca26\"],[1.0,\"#f0f921\"]],\"type\":\"contour\"}],\"contourcarpet\":[{\"colorbar\":{\"outlinewidth\":0,\"ticks\":\"\"},\"type\":\"contourcarpet\"}],\"heatmap\":[{\"colorbar\":{\"outlinewidth\":0,\"ticks\":\"\"},\"colorscale\":[[0.0,\"#0d0887\"],[0.1111111111111111,\"#46039f\"],[0.2222222222222222,\"#7201a8\"],[0.3333333333333333,\"#9c179e\"],[0.4444444444444444,\"#bd3786\"],[0.5555555555555556,\"#d8576b\"],[0.6666666666666666,\"#ed7953\"],[0.7777777777777778,\"#fb9f3a\"],[0.8888888888888888,\"#fdca26\"],[1.0,\"#f0f921\"]],\"type\":\"heatmap\"}],\"heatmapgl\":[{\"colorbar\":{\"outlinewidth\":0,\"ticks\":\"\"},\"colorscale\":[[0.0,\"#0d0887\"],[0.1111111111111111,\"#46039f\"],[0.2222222222222222,\"#7201a8\"],[0.3333333333333333,\"#9c179e\"],[0.4444444444444444,\"#bd3786\"],[0.5555555555555556,\"#d8576b\"],[0.6666666666666666,\"#ed7953\"],[0.7777777777777778,\"#fb9f3a\"],[0.8888888888888888,\"#fdca26\"],[1.0,\"#f0f921\"]],\"type\":\"heatmapgl\"}],\"histogram\":[{\"marker\":{\"pattern\":{\"fillmode\":\"overlay\",\"size\":10,\"solidity\":0.2}},\"type\":\"histogram\"}],\"histogram2d\":[{\"colorbar\":{\"outlinewidth\":0,\"ticks\":\"\"},\"colorscale\":[[0.0,\"#0d0887\"],[0.1111111111111111,\"#46039f\"],[0.2222222222222222,\"#7201a8\"],[0.3333333333333333,\"#9c179e\"],[0.4444444444444444,\"#bd3786\"],[0.5555555555555556,\"#d8576b\"],[0.6666666666666666,\"#ed7953\"],[0.7777777777777778,\"#fb9f3a\"],[0.8888888888888888,\"#fdca26\"],[1.0,\"#f0f921\"]],\"type\":\"histogram2d\"}],\"histogram2dcontour\":[{\"colorbar\":{\"outlinewidth\":0,\"ticks\":\"\"},\"colorscale\":[[0.0,\"#0d0887\"],[0.1111111111111111,\"#46039f\"],[0.2222222222222222,\"#7201a8\"],[0.3333333333333333,\"#9c179e\"],[0.4444444444444444,\"#bd3786\"],[0.5555555555555556,\"#d8576b\"],[0.6666666666666666,\"#ed7953\"],[0.7777777777777778,\"#fb9f3a\"],[0.8888888888888888,\"#fdca26\"],[1.0,\"#f0f921\"]],\"type\":\"histogram2dcontour\"}],\"mesh3d\":[{\"colorbar\":{\"outlinewidth\":0,\"ticks\":\"\"},\"type\":\"mesh3d\"}],\"parcoords\":[{\"line\":{\"colorbar\":{\"outlinewidth\":0,\"ticks\":\"\"}},\"type\":\"parcoords\"}],\"pie\":[{\"automargin\":true,\"type\":\"pie\"}],\"scatter\":[{\"marker\":{\"colorbar\":{\"outlinewidth\":0,\"ticks\":\"\"}},\"type\":\"scatter\"}],\"scatter3d\":[{\"line\":{\"colorbar\":{\"outlinewidth\":0,\"ticks\":\"\"}},\"marker\":{\"colorbar\":{\"outlinewidth\":0,\"ticks\":\"\"}},\"type\":\"scatter3d\"}],\"scattercarpet\":[{\"marker\":{\"colorbar\":{\"outlinewidth\":0,\"ticks\":\"\"}},\"type\":\"scattercarpet\"}],\"scattergeo\":[{\"marker\":{\"colorbar\":{\"outlinewidth\":0,\"ticks\":\"\"}},\"type\":\"scattergeo\"}],\"scattergl\":[{\"marker\":{\"colorbar\":{\"outlinewidth\":0,\"ticks\":\"\"}},\"type\":\"scattergl\"}],\"scattermapbox\":[{\"marker\":{\"colorbar\":{\"outlinewidth\":0,\"ticks\":\"\"}},\"type\":\"scattermapbox\"}],\"scatterpolar\":[{\"marker\":{\"colorbar\":{\"outlinewidth\":0,\"ticks\":\"\"}},\"type\":\"scatterpolar\"}],\"scatterpolargl\":[{\"marker\":{\"colorbar\":{\"outlinewidth\":0,\"ticks\":\"\"}},\"type\":\"scatterpolargl\"}],\"scatterternary\":[{\"marker\":{\"colorbar\":{\"outlinewidth\":0,\"ticks\":\"\"}},\"type\":\"scatterternary\"}],\"surface\":[{\"colorbar\":{\"outlinewidth\":0,\"ticks\":\"\"},\"colorscale\":[[0.0,\"#0d0887\"],[0.1111111111111111,\"#46039f\"],[0.2222222222222222,\"#7201a8\"],[0.3333333333333333,\"#9c179e\"],[0.4444444444444444,\"#bd3786\"],[0.5555555555555556,\"#d8576b\"],[0.6666666666666666,\"#ed7953\"],[0.7777777777777778,\"#fb9f3a\"],[0.8888888888888888,\"#fdca26\"],[1.0,\"#f0f921\"]],\"type\":\"surface\"}],\"table\":[{\"cells\":{\"fill\":{\"color\":\"#EBF0F8\"},\"line\":{\"color\":\"white\"}},\"header\":{\"fill\":{\"color\":\"#C8D4E3\"},\"line\":{\"color\":\"white\"}},\"type\":\"table\"}]},\"layout\":{\"annotationdefaults\":{\"arrowcolor\":\"#2a3f5f\",\"arrowhead\":0,\"arrowwidth\":1},\"autotypenumbers\":\"strict\",\"coloraxis\":{\"colorbar\":{\"outlinewidth\":0,\"ticks\":\"\"}},\"colorscale\":{\"diverging\":[[0,\"#8e0152\"],[0.1,\"#c51b7d\"],[0.2,\"#de77ae\"],[0.3,\"#f1b6da\"],[0.4,\"#fde0ef\"],[0.5,\"#f7f7f7\"],[0.6,\"#e6f5d0\"],[0.7,\"#b8e186\"],[0.8,\"#7fbc41\"],[0.9,\"#4d9221\"],[1,\"#276419\"]],\"sequential\":[[0.0,\"#0d0887\"],[0.1111111111111111,\"#46039f\"],[0.2222222222222222,\"#7201a8\"],[0.3333333333333333,\"#9c179e\"],[0.4444444444444444,\"#bd3786\"],[0.5555555555555556,\"#d8576b\"],[0.6666666666666666,\"#ed7953\"],[0.7777777777777778,\"#fb9f3a\"],[0.8888888888888888,\"#fdca26\"],[1.0,\"#f0f921\"]],\"sequentialminus\":[[0.0,\"#0d0887\"],[0.1111111111111111,\"#46039f\"],[0.2222222222222222,\"#7201a8\"],[0.3333333333333333,\"#9c179e\"],[0.4444444444444444,\"#bd3786\"],[0.5555555555555556,\"#d8576b\"],[0.6666666666666666,\"#ed7953\"],[0.7777777777777778,\"#fb9f3a\"],[0.8888888888888888,\"#fdca26\"],[1.0,\"#f0f921\"]]},\"colorway\":[\"#636efa\",\"#EF553B\",\"#00cc96\",\"#ab63fa\",\"#FFA15A\",\"#19d3f3\",\"#FF6692\",\"#B6E880\",\"#FF97FF\",\"#FECB52\"],\"font\":{\"color\":\"#2a3f5f\"},\"geo\":{\"bgcolor\":\"white\",\"lakecolor\":\"white\",\"landcolor\":\"#E5ECF6\",\"showlakes\":true,\"showland\":true,\"subunitcolor\":\"white\"},\"hoverlabel\":{\"align\":\"left\"},\"hovermode\":\"closest\",\"mapbox\":{\"style\":\"light\"},\"paper_bgcolor\":\"white\",\"plot_bgcolor\":\"#E5ECF6\",\"polar\":{\"angularaxis\":{\"gridcolor\":\"white\",\"linecolor\":\"white\",\"ticks\":\"\"},\"bgcolor\":\"#E5ECF6\",\"radialaxis\":{\"gridcolor\":\"white\",\"linecolor\":\"white\",\"ticks\":\"\"}},\"scene\":{\"xaxis\":{\"backgroundcolor\":\"#E5ECF6\",\"gridcolor\":\"white\",\"gridwidth\":2,\"linecolor\":\"white\",\"showbackground\":true,\"ticks\":\"\",\"zerolinecolor\":\"white\"},\"yaxis\":{\"backgroundcolor\":\"#E5ECF6\",\"gridcolor\":\"white\",\"gridwidth\":2,\"linecolor\":\"white\",\"showbackground\":true,\"ticks\":\"\",\"zerolinecolor\":\"white\"},\"zaxis\":{\"backgroundcolor\":\"#E5ECF6\",\"gridcolor\":\"white\",\"gridwidth\":2,\"linecolor\":\"white\",\"showbackground\":true,\"ticks\":\"\",\"zerolinecolor\":\"white\"}},\"shapedefaults\":{\"line\":{\"color\":\"#2a3f5f\"}},\"ternary\":{\"aaxis\":{\"gridcolor\":\"white\",\"linecolor\":\"white\",\"ticks\":\"\"},\"baxis\":{\"gridcolor\":\"white\",\"linecolor\":\"white\",\"ticks\":\"\"},\"bgcolor\":\"#E5ECF6\",\"caxis\":{\"gridcolor\":\"white\",\"linecolor\":\"white\",\"ticks\":\"\"}},\"title\":{\"x\":0.05},\"xaxis\":{\"automargin\":true,\"gridcolor\":\"white\",\"linecolor\":\"white\",\"ticks\":\"\",\"title\":{\"standoff\":15},\"zerolinecolor\":\"white\",\"zerolinewidth\":2},\"yaxis\":{\"automargin\":true,\"gridcolor\":\"white\",\"linecolor\":\"white\",\"ticks\":\"\",\"title\":{\"standoff\":15},\"zerolinecolor\":\"white\",\"zerolinewidth\":2}}},\"xaxis\":{\"anchor\":\"y\",\"domain\":[0.0,1.0],\"title\":{\"text\":\"Type\"},\"categoryorder\":\"array\",\"categoryarray\":[\"Generation\",\"Composting*\",\"Recycling\",\"Combustion with energy recovery\",\"Landfilling and other disposal\"]},\"yaxis\":{\"anchor\":\"x\",\"domain\":[0.0,1.0],\"title\":{\"text\":\"Value\"},\"range\":[0,400]},\"legend\":{\"title\":{\"text\":\"Type\"},\"tracegroupgap\":0},\"margin\":{\"t\":60},\"barmode\":\"relative\",\"updatemenus\":[{\"buttons\":[{\"args\":[null,{\"frame\":{\"duration\":500,\"redraw\":true},\"mode\":\"immediate\",\"fromcurrent\":true,\"transition\":{\"duration\":500,\"easing\":\"linear\"}}],\"label\":\"&#9654;\",\"method\":\"animate\"},{\"args\":[[null],{\"frame\":{\"duration\":0,\"redraw\":true},\"mode\":\"immediate\",\"fromcurrent\":true,\"transition\":{\"duration\":0,\"easing\":\"linear\"}}],\"label\":\"&#9724;\",\"method\":\"animate\"}],\"direction\":\"left\",\"pad\":{\"r\":10,\"t\":70},\"showactive\":false,\"type\":\"buttons\",\"x\":0.1,\"xanchor\":\"right\",\"y\":0,\"yanchor\":\"top\"}],\"sliders\":[{\"active\":0,\"currentvalue\":{\"prefix\":\"year=\"},\"len\":0.9,\"pad\":{\"b\":10,\"t\":60},\"steps\":[{\"args\":[[\"1960\"],{\"frame\":{\"duration\":0,\"redraw\":true},\"mode\":\"immediate\",\"fromcurrent\":true,\"transition\":{\"duration\":0,\"easing\":\"linear\"}}],\"label\":\"1960\",\"method\":\"animate\"},{\"args\":[[\"1970\"],{\"frame\":{\"duration\":0,\"redraw\":true},\"mode\":\"immediate\",\"fromcurrent\":true,\"transition\":{\"duration\":0,\"easing\":\"linear\"}}],\"label\":\"1970\",\"method\":\"animate\"},{\"args\":[[\"1980\"],{\"frame\":{\"duration\":0,\"redraw\":true},\"mode\":\"immediate\",\"fromcurrent\":true,\"transition\":{\"duration\":0,\"easing\":\"linear\"}}],\"label\":\"1980\",\"method\":\"animate\"},{\"args\":[[\"1990\"],{\"frame\":{\"duration\":0,\"redraw\":true},\"mode\":\"immediate\",\"fromcurrent\":true,\"transition\":{\"duration\":0,\"easing\":\"linear\"}}],\"label\":\"1990\",\"method\":\"animate\"},{\"args\":[[\"2000\"],{\"frame\":{\"duration\":0,\"redraw\":true},\"mode\":\"immediate\",\"fromcurrent\":true,\"transition\":{\"duration\":0,\"easing\":\"linear\"}}],\"label\":\"2000\",\"method\":\"animate\"},{\"args\":[[\"2005\"],{\"frame\":{\"duration\":0,\"redraw\":true},\"mode\":\"immediate\",\"fromcurrent\":true,\"transition\":{\"duration\":0,\"easing\":\"linear\"}}],\"label\":\"2005\",\"method\":\"animate\"},{\"args\":[[\"2010\"],{\"frame\":{\"duration\":0,\"redraw\":true},\"mode\":\"immediate\",\"fromcurrent\":true,\"transition\":{\"duration\":0,\"easing\":\"linear\"}}],\"label\":\"2010\",\"method\":\"animate\"},{\"args\":[[\"2015\"],{\"frame\":{\"duration\":0,\"redraw\":true},\"mode\":\"immediate\",\"fromcurrent\":true,\"transition\":{\"duration\":0,\"easing\":\"linear\"}}],\"label\":\"2015\",\"method\":\"animate\"},{\"args\":[[\"2016\"],{\"frame\":{\"duration\":0,\"redraw\":true},\"mode\":\"immediate\",\"fromcurrent\":true,\"transition\":{\"duration\":0,\"easing\":\"linear\"}}],\"label\":\"2016\",\"method\":\"animate\"},{\"args\":[[\"2017\"],{\"frame\":{\"duration\":0,\"redraw\":true},\"mode\":\"immediate\",\"fromcurrent\":true,\"transition\":{\"duration\":0,\"easing\":\"linear\"}}],\"label\":\"2017\",\"method\":\"animate\"}],\"x\":0.1,\"xanchor\":\"left\",\"y\":0,\"yanchor\":\"top\"}]},                        {\"responsive\": true}                    ).then(function(){\n",
       "                            Plotly.addFrames('9cb66c67-09d8-458a-a50e-448a264794e4', [{\"data\":[{\"alignmentgroup\":\"True\",\"hovertemplate\":\"Type=%{x}<br>year=1960<br>Value=%{y}<extra></extra>\",\"legendgroup\":\"Generation\",\"marker\":{\"color\":\"#636efa\",\"pattern\":{\"shape\":\"\"}},\"name\":\"Generation\",\"offsetgroup\":\"Generation\",\"orientation\":\"v\",\"showlegend\":true,\"textposition\":\"auto\",\"x\":[\"Generation\"],\"xaxis\":\"x\",\"y\":[88.1],\"yaxis\":\"y\",\"type\":\"bar\"},{\"alignmentgroup\":\"True\",\"hovertemplate\":\"Type=%{x}<br>year=1960<br>Value=%{y}<extra></extra>\",\"legendgroup\":\"Composting*\",\"marker\":{\"color\":\"#EF553B\",\"pattern\":{\"shape\":\"\"}},\"name\":\"Composting*\",\"offsetgroup\":\"Composting*\",\"orientation\":\"v\",\"showlegend\":true,\"textposition\":\"auto\",\"x\":[\"Composting*\"],\"xaxis\":\"x\",\"y\":[null],\"yaxis\":\"y\",\"type\":\"bar\"},{\"alignmentgroup\":\"True\",\"hovertemplate\":\"Type=%{x}<br>year=1960<br>Value=%{y}<extra></extra>\",\"legendgroup\":\"Recycling\",\"marker\":{\"color\":\"#00cc96\",\"pattern\":{\"shape\":\"\"}},\"name\":\"Recycling\",\"offsetgroup\":\"Recycling\",\"orientation\":\"v\",\"showlegend\":true,\"textposition\":\"auto\",\"x\":[\"Recycling\"],\"xaxis\":\"x\",\"y\":[5.6],\"yaxis\":\"y\",\"type\":\"bar\"},{\"alignmentgroup\":\"True\",\"hovertemplate\":\"Type=%{x}<br>year=1960<br>Value=%{y}<extra></extra>\",\"legendgroup\":\"Combustion with energy recovery\",\"marker\":{\"color\":\"#ab63fa\",\"pattern\":{\"shape\":\"\"}},\"name\":\"Combustion with energy recovery\",\"offsetgroup\":\"Combustion with energy recovery\",\"orientation\":\"v\",\"showlegend\":true,\"textposition\":\"auto\",\"x\":[\"Combustion with energy recovery\"],\"xaxis\":\"x\",\"y\":[0.0],\"yaxis\":\"y\",\"type\":\"bar\"},{\"alignmentgroup\":\"True\",\"hovertemplate\":\"Type=%{x}<br>year=1960<br>Value=%{y}<extra></extra>\",\"legendgroup\":\"Landfilling and other disposal\",\"marker\":{\"color\":\"#FFA15A\",\"pattern\":{\"shape\":\"\"}},\"name\":\"Landfilling and other disposal\",\"offsetgroup\":\"Landfilling and other disposal\",\"orientation\":\"v\",\"showlegend\":true,\"textposition\":\"auto\",\"x\":[\"Landfilling and other disposal\"],\"xaxis\":\"x\",\"y\":[82.5],\"yaxis\":\"y\",\"type\":\"bar\"}],\"name\":\"1960\"},{\"data\":[{\"alignmentgroup\":\"True\",\"hovertemplate\":\"Type=%{x}<br>year=1970<br>Value=%{y}<extra></extra>\",\"legendgroup\":\"Generation\",\"marker\":{\"color\":\"#636efa\",\"pattern\":{\"shape\":\"\"}},\"name\":\"Generation\",\"offsetgroup\":\"Generation\",\"orientation\":\"v\",\"showlegend\":true,\"textposition\":\"auto\",\"x\":[\"Generation\"],\"xaxis\":\"x\",\"y\":[121.1],\"yaxis\":\"y\",\"type\":\"bar\"},{\"alignmentgroup\":\"True\",\"hovertemplate\":\"Type=%{x}<br>year=1970<br>Value=%{y}<extra></extra>\",\"legendgroup\":\"Composting*\",\"marker\":{\"color\":\"#EF553B\",\"pattern\":{\"shape\":\"\"}},\"name\":\"Composting*\",\"offsetgroup\":\"Composting*\",\"orientation\":\"v\",\"showlegend\":true,\"textposition\":\"auto\",\"x\":[\"Composting*\"],\"xaxis\":\"x\",\"y\":[null],\"yaxis\":\"y\",\"type\":\"bar\"},{\"alignmentgroup\":\"True\",\"hovertemplate\":\"Type=%{x}<br>year=1970<br>Value=%{y}<extra></extra>\",\"legendgroup\":\"Recycling\",\"marker\":{\"color\":\"#00cc96\",\"pattern\":{\"shape\":\"\"}},\"name\":\"Recycling\",\"offsetgroup\":\"Recycling\",\"orientation\":\"v\",\"showlegend\":true,\"textposition\":\"auto\",\"x\":[\"Recycling\"],\"xaxis\":\"x\",\"y\":[8.0],\"yaxis\":\"y\",\"type\":\"bar\"},{\"alignmentgroup\":\"True\",\"hovertemplate\":\"Type=%{x}<br>year=1970<br>Value=%{y}<extra></extra>\",\"legendgroup\":\"Combustion with energy recovery\",\"marker\":{\"color\":\"#ab63fa\",\"pattern\":{\"shape\":\"\"}},\"name\":\"Combustion with energy recovery\",\"offsetgroup\":\"Combustion with energy recovery\",\"orientation\":\"v\",\"showlegend\":true,\"textposition\":\"auto\",\"x\":[\"Combustion with energy recovery\"],\"xaxis\":\"x\",\"y\":[0.5],\"yaxis\":\"y\",\"type\":\"bar\"},{\"alignmentgroup\":\"True\",\"hovertemplate\":\"Type=%{x}<br>year=1970<br>Value=%{y}<extra></extra>\",\"legendgroup\":\"Landfilling and other disposal\",\"marker\":{\"color\":\"#FFA15A\",\"pattern\":{\"shape\":\"\"}},\"name\":\"Landfilling and other disposal\",\"offsetgroup\":\"Landfilling and other disposal\",\"orientation\":\"v\",\"showlegend\":true,\"textposition\":\"auto\",\"x\":[\"Landfilling and other disposal\"],\"xaxis\":\"x\",\"y\":[112.6],\"yaxis\":\"y\",\"type\":\"bar\"}],\"name\":\"1970\"},{\"data\":[{\"alignmentgroup\":\"True\",\"hovertemplate\":\"Type=%{x}<br>year=1980<br>Value=%{y}<extra></extra>\",\"legendgroup\":\"Generation\",\"marker\":{\"color\":\"#636efa\",\"pattern\":{\"shape\":\"\"}},\"name\":\"Generation\",\"offsetgroup\":\"Generation\",\"orientation\":\"v\",\"showlegend\":true,\"textposition\":\"auto\",\"x\":[\"Generation\"],\"xaxis\":\"x\",\"y\":[151.6],\"yaxis\":\"y\",\"type\":\"bar\"},{\"alignmentgroup\":\"True\",\"hovertemplate\":\"Type=%{x}<br>year=1980<br>Value=%{y}<extra></extra>\",\"legendgroup\":\"Composting*\",\"marker\":{\"color\":\"#EF553B\",\"pattern\":{\"shape\":\"\"}},\"name\":\"Composting*\",\"offsetgroup\":\"Composting*\",\"orientation\":\"v\",\"showlegend\":true,\"textposition\":\"auto\",\"x\":[\"Composting*\"],\"xaxis\":\"x\",\"y\":[null],\"yaxis\":\"y\",\"type\":\"bar\"},{\"alignmentgroup\":\"True\",\"hovertemplate\":\"Type=%{x}<br>year=1980<br>Value=%{y}<extra></extra>\",\"legendgroup\":\"Recycling\",\"marker\":{\"color\":\"#00cc96\",\"pattern\":{\"shape\":\"\"}},\"name\":\"Recycling\",\"offsetgroup\":\"Recycling\",\"orientation\":\"v\",\"showlegend\":true,\"textposition\":\"auto\",\"x\":[\"Recycling\"],\"xaxis\":\"x\",\"y\":[14.5],\"yaxis\":\"y\",\"type\":\"bar\"},{\"alignmentgroup\":\"True\",\"hovertemplate\":\"Type=%{x}<br>year=1980<br>Value=%{y}<extra></extra>\",\"legendgroup\":\"Combustion with energy recovery\",\"marker\":{\"color\":\"#ab63fa\",\"pattern\":{\"shape\":\"\"}},\"name\":\"Combustion with energy recovery\",\"offsetgroup\":\"Combustion with energy recovery\",\"orientation\":\"v\",\"showlegend\":true,\"textposition\":\"auto\",\"x\":[\"Combustion with energy recovery\"],\"xaxis\":\"x\",\"y\":[2.8],\"yaxis\":\"y\",\"type\":\"bar\"},{\"alignmentgroup\":\"True\",\"hovertemplate\":\"Type=%{x}<br>year=1980<br>Value=%{y}<extra></extra>\",\"legendgroup\":\"Landfilling and other disposal\",\"marker\":{\"color\":\"#FFA15A\",\"pattern\":{\"shape\":\"\"}},\"name\":\"Landfilling and other disposal\",\"offsetgroup\":\"Landfilling and other disposal\",\"orientation\":\"v\",\"showlegend\":true,\"textposition\":\"auto\",\"x\":[\"Landfilling and other disposal\"],\"xaxis\":\"x\",\"y\":[134.3],\"yaxis\":\"y\",\"type\":\"bar\"}],\"name\":\"1980\"},{\"data\":[{\"alignmentgroup\":\"True\",\"hovertemplate\":\"Type=%{x}<br>year=1990<br>Value=%{y}<extra></extra>\",\"legendgroup\":\"Generation\",\"marker\":{\"color\":\"#636efa\",\"pattern\":{\"shape\":\"\"}},\"name\":\"Generation\",\"offsetgroup\":\"Generation\",\"orientation\":\"v\",\"showlegend\":true,\"textposition\":\"auto\",\"x\":[\"Generation\"],\"xaxis\":\"x\",\"y\":[208.3],\"yaxis\":\"y\",\"type\":\"bar\"},{\"alignmentgroup\":\"True\",\"hovertemplate\":\"Type=%{x}<br>year=1990<br>Value=%{y}<extra></extra>\",\"legendgroup\":\"Composting*\",\"marker\":{\"color\":\"#EF553B\",\"pattern\":{\"shape\":\"\"}},\"name\":\"Composting*\",\"offsetgroup\":\"Composting*\",\"orientation\":\"v\",\"showlegend\":true,\"textposition\":\"auto\",\"x\":[\"Composting*\"],\"xaxis\":\"x\",\"y\":[4.2],\"yaxis\":\"y\",\"type\":\"bar\"},{\"alignmentgroup\":\"True\",\"hovertemplate\":\"Type=%{x}<br>year=1990<br>Value=%{y}<extra></extra>\",\"legendgroup\":\"Recycling\",\"marker\":{\"color\":\"#00cc96\",\"pattern\":{\"shape\":\"\"}},\"name\":\"Recycling\",\"offsetgroup\":\"Recycling\",\"orientation\":\"v\",\"showlegend\":true,\"textposition\":\"auto\",\"x\":[\"Recycling\"],\"xaxis\":\"x\",\"y\":[29.0],\"yaxis\":\"y\",\"type\":\"bar\"},{\"alignmentgroup\":\"True\",\"hovertemplate\":\"Type=%{x}<br>year=1990<br>Value=%{y}<extra></extra>\",\"legendgroup\":\"Combustion with energy recovery\",\"marker\":{\"color\":\"#ab63fa\",\"pattern\":{\"shape\":\"\"}},\"name\":\"Combustion with energy recovery\",\"offsetgroup\":\"Combustion with energy recovery\",\"orientation\":\"v\",\"showlegend\":true,\"textposition\":\"auto\",\"x\":[\"Combustion with energy recovery\"],\"xaxis\":\"x\",\"y\":[29.8],\"yaxis\":\"y\",\"type\":\"bar\"},{\"alignmentgroup\":\"True\",\"hovertemplate\":\"Type=%{x}<br>year=1990<br>Value=%{y}<extra></extra>\",\"legendgroup\":\"Landfilling and other disposal\",\"marker\":{\"color\":\"#FFA15A\",\"pattern\":{\"shape\":\"\"}},\"name\":\"Landfilling and other disposal\",\"offsetgroup\":\"Landfilling and other disposal\",\"orientation\":\"v\",\"showlegend\":true,\"textposition\":\"auto\",\"x\":[\"Landfilling and other disposal\"],\"xaxis\":\"x\",\"y\":[145.3],\"yaxis\":\"y\",\"type\":\"bar\"}],\"name\":\"1990\"},{\"data\":[{\"alignmentgroup\":\"True\",\"hovertemplate\":\"Type=%{x}<br>year=2000<br>Value=%{y}<extra></extra>\",\"legendgroup\":\"Generation\",\"marker\":{\"color\":\"#636efa\",\"pattern\":{\"shape\":\"\"}},\"name\":\"Generation\",\"offsetgroup\":\"Generation\",\"orientation\":\"v\",\"showlegend\":true,\"textposition\":\"auto\",\"x\":[\"Generation\"],\"xaxis\":\"x\",\"y\":[243.5],\"yaxis\":\"y\",\"type\":\"bar\"},{\"alignmentgroup\":\"True\",\"hovertemplate\":\"Type=%{x}<br>year=2000<br>Value=%{y}<extra></extra>\",\"legendgroup\":\"Composting*\",\"marker\":{\"color\":\"#EF553B\",\"pattern\":{\"shape\":\"\"}},\"name\":\"Composting*\",\"offsetgroup\":\"Composting*\",\"orientation\":\"v\",\"showlegend\":true,\"textposition\":\"auto\",\"x\":[\"Composting*\"],\"xaxis\":\"x\",\"y\":[16.5],\"yaxis\":\"y\",\"type\":\"bar\"},{\"alignmentgroup\":\"True\",\"hovertemplate\":\"Type=%{x}<br>year=2000<br>Value=%{y}<extra></extra>\",\"legendgroup\":\"Recycling\",\"marker\":{\"color\":\"#00cc96\",\"pattern\":{\"shape\":\"\"}},\"name\":\"Recycling\",\"offsetgroup\":\"Recycling\",\"orientation\":\"v\",\"showlegend\":true,\"textposition\":\"auto\",\"x\":[\"Recycling\"],\"xaxis\":\"x\",\"y\":[53.0],\"yaxis\":\"y\",\"type\":\"bar\"},{\"alignmentgroup\":\"True\",\"hovertemplate\":\"Type=%{x}<br>year=2000<br>Value=%{y}<extra></extra>\",\"legendgroup\":\"Combustion with energy recovery\",\"marker\":{\"color\":\"#ab63fa\",\"pattern\":{\"shape\":\"\"}},\"name\":\"Combustion with energy recovery\",\"offsetgroup\":\"Combustion with energy recovery\",\"orientation\":\"v\",\"showlegend\":true,\"textposition\":\"auto\",\"x\":[\"Combustion with energy recovery\"],\"xaxis\":\"x\",\"y\":[33.7],\"yaxis\":\"y\",\"type\":\"bar\"},{\"alignmentgroup\":\"True\",\"hovertemplate\":\"Type=%{x}<br>year=2000<br>Value=%{y}<extra></extra>\",\"legendgroup\":\"Landfilling and other disposal\",\"marker\":{\"color\":\"#FFA15A\",\"pattern\":{\"shape\":\"\"}},\"name\":\"Landfilling and other disposal\",\"offsetgroup\":\"Landfilling and other disposal\",\"orientation\":\"v\",\"showlegend\":true,\"textposition\":\"auto\",\"x\":[\"Landfilling and other disposal\"],\"xaxis\":\"x\",\"y\":[140.3],\"yaxis\":\"y\",\"type\":\"bar\"}],\"name\":\"2000\"},{\"data\":[{\"alignmentgroup\":\"True\",\"hovertemplate\":\"Type=%{x}<br>year=2005<br>Value=%{y}<extra></extra>\",\"legendgroup\":\"Generation\",\"marker\":{\"color\":\"#636efa\",\"pattern\":{\"shape\":\"\"}},\"name\":\"Generation\",\"offsetgroup\":\"Generation\",\"orientation\":\"v\",\"showlegend\":true,\"textposition\":\"auto\",\"x\":[\"Generation\"],\"xaxis\":\"x\",\"y\":[253.7],\"yaxis\":\"y\",\"type\":\"bar\"},{\"alignmentgroup\":\"True\",\"hovertemplate\":\"Type=%{x}<br>year=2005<br>Value=%{y}<extra></extra>\",\"legendgroup\":\"Composting*\",\"marker\":{\"color\":\"#EF553B\",\"pattern\":{\"shape\":\"\"}},\"name\":\"Composting*\",\"offsetgroup\":\"Composting*\",\"orientation\":\"v\",\"showlegend\":true,\"textposition\":\"auto\",\"x\":[\"Composting*\"],\"xaxis\":\"x\",\"y\":[20.6],\"yaxis\":\"y\",\"type\":\"bar\"},{\"alignmentgroup\":\"True\",\"hovertemplate\":\"Type=%{x}<br>year=2005<br>Value=%{y}<extra></extra>\",\"legendgroup\":\"Recycling\",\"marker\":{\"color\":\"#00cc96\",\"pattern\":{\"shape\":\"\"}},\"name\":\"Recycling\",\"offsetgroup\":\"Recycling\",\"orientation\":\"v\",\"showlegend\":true,\"textposition\":\"auto\",\"x\":[\"Recycling\"],\"xaxis\":\"x\",\"y\":[59.2],\"yaxis\":\"y\",\"type\":\"bar\"},{\"alignmentgroup\":\"True\",\"hovertemplate\":\"Type=%{x}<br>year=2005<br>Value=%{y}<extra></extra>\",\"legendgroup\":\"Combustion with energy recovery\",\"marker\":{\"color\":\"#ab63fa\",\"pattern\":{\"shape\":\"\"}},\"name\":\"Combustion with energy recovery\",\"offsetgroup\":\"Combustion with energy recovery\",\"orientation\":\"v\",\"showlegend\":true,\"textposition\":\"auto\",\"x\":[\"Combustion with energy recovery\"],\"xaxis\":\"x\",\"y\":[31.7],\"yaxis\":\"y\",\"type\":\"bar\"},{\"alignmentgroup\":\"True\",\"hovertemplate\":\"Type=%{x}<br>year=2005<br>Value=%{y}<extra></extra>\",\"legendgroup\":\"Landfilling and other disposal\",\"marker\":{\"color\":\"#FFA15A\",\"pattern\":{\"shape\":\"\"}},\"name\":\"Landfilling and other disposal\",\"offsetgroup\":\"Landfilling and other disposal\",\"orientation\":\"v\",\"showlegend\":true,\"textposition\":\"auto\",\"x\":[\"Landfilling and other disposal\"],\"xaxis\":\"x\",\"y\":[142.2],\"yaxis\":\"y\",\"type\":\"bar\"}],\"name\":\"2005\"},{\"data\":[{\"alignmentgroup\":\"True\",\"hovertemplate\":\"Type=%{x}<br>year=2010<br>Value=%{y}<extra></extra>\",\"legendgroup\":\"Generation\",\"marker\":{\"color\":\"#636efa\",\"pattern\":{\"shape\":\"\"}},\"name\":\"Generation\",\"offsetgroup\":\"Generation\",\"orientation\":\"v\",\"showlegend\":true,\"textposition\":\"auto\",\"x\":[\"Generation\"],\"xaxis\":\"x\",\"y\":[251.1],\"yaxis\":\"y\",\"type\":\"bar\"},{\"alignmentgroup\":\"True\",\"hovertemplate\":\"Type=%{x}<br>year=2010<br>Value=%{y}<extra></extra>\",\"legendgroup\":\"Composting*\",\"marker\":{\"color\":\"#EF553B\",\"pattern\":{\"shape\":\"\"}},\"name\":\"Composting*\",\"offsetgroup\":\"Composting*\",\"orientation\":\"v\",\"showlegend\":true,\"textposition\":\"auto\",\"x\":[\"Composting*\"],\"xaxis\":\"x\",\"y\":[20.2],\"yaxis\":\"y\",\"type\":\"bar\"},{\"alignmentgroup\":\"True\",\"hovertemplate\":\"Type=%{x}<br>year=2010<br>Value=%{y}<extra></extra>\",\"legendgroup\":\"Recycling\",\"marker\":{\"color\":\"#00cc96\",\"pattern\":{\"shape\":\"\"}},\"name\":\"Recycling\",\"offsetgroup\":\"Recycling\",\"orientation\":\"v\",\"showlegend\":true,\"textposition\":\"auto\",\"x\":[\"Recycling\"],\"xaxis\":\"x\",\"y\":[65.3],\"yaxis\":\"y\",\"type\":\"bar\"},{\"alignmentgroup\":\"True\",\"hovertemplate\":\"Type=%{x}<br>year=2010<br>Value=%{y}<extra></extra>\",\"legendgroup\":\"Combustion with energy recovery\",\"marker\":{\"color\":\"#ab63fa\",\"pattern\":{\"shape\":\"\"}},\"name\":\"Combustion with energy recovery\",\"offsetgroup\":\"Combustion with energy recovery\",\"orientation\":\"v\",\"showlegend\":true,\"textposition\":\"auto\",\"x\":[\"Combustion with energy recovery\"],\"xaxis\":\"x\",\"y\":[29.3],\"yaxis\":\"y\",\"type\":\"bar\"},{\"alignmentgroup\":\"True\",\"hovertemplate\":\"Type=%{x}<br>year=2010<br>Value=%{y}<extra></extra>\",\"legendgroup\":\"Landfilling and other disposal\",\"marker\":{\"color\":\"#FFA15A\",\"pattern\":{\"shape\":\"\"}},\"name\":\"Landfilling and other disposal\",\"offsetgroup\":\"Landfilling and other disposal\",\"orientation\":\"v\",\"showlegend\":true,\"textposition\":\"auto\",\"x\":[\"Landfilling and other disposal\"],\"xaxis\":\"x\",\"y\":[136.3],\"yaxis\":\"y\",\"type\":\"bar\"}],\"name\":\"2010\"},{\"data\":[{\"alignmentgroup\":\"True\",\"hovertemplate\":\"Type=%{x}<br>year=2015<br>Value=%{y}<extra></extra>\",\"legendgroup\":\"Generation\",\"marker\":{\"color\":\"#636efa\",\"pattern\":{\"shape\":\"\"}},\"name\":\"Generation\",\"offsetgroup\":\"Generation\",\"orientation\":\"v\",\"showlegend\":true,\"textposition\":\"auto\",\"x\":[\"Generation\"],\"xaxis\":\"x\",\"y\":[262.1],\"yaxis\":\"y\",\"type\":\"bar\"},{\"alignmentgroup\":\"True\",\"hovertemplate\":\"Type=%{x}<br>year=2015<br>Value=%{y}<extra></extra>\",\"legendgroup\":\"Composting*\",\"marker\":{\"color\":\"#EF553B\",\"pattern\":{\"shape\":\"\"}},\"name\":\"Composting*\",\"offsetgroup\":\"Composting*\",\"orientation\":\"v\",\"showlegend\":true,\"textposition\":\"auto\",\"x\":[\"Composting*\"],\"xaxis\":\"x\",\"y\":[23.4],\"yaxis\":\"y\",\"type\":\"bar\"},{\"alignmentgroup\":\"True\",\"hovertemplate\":\"Type=%{x}<br>year=2015<br>Value=%{y}<extra></extra>\",\"legendgroup\":\"Recycling\",\"marker\":{\"color\":\"#00cc96\",\"pattern\":{\"shape\":\"\"}},\"name\":\"Recycling\",\"offsetgroup\":\"Recycling\",\"orientation\":\"v\",\"showlegend\":true,\"textposition\":\"auto\",\"x\":[\"Recycling\"],\"xaxis\":\"x\",\"y\":[67.6],\"yaxis\":\"y\",\"type\":\"bar\"},{\"alignmentgroup\":\"True\",\"hovertemplate\":\"Type=%{x}<br>year=2015<br>Value=%{y}<extra></extra>\",\"legendgroup\":\"Combustion with energy recovery\",\"marker\":{\"color\":\"#ab63fa\",\"pattern\":{\"shape\":\"\"}},\"name\":\"Combustion with energy recovery\",\"offsetgroup\":\"Combustion with energy recovery\",\"orientation\":\"v\",\"showlegend\":true,\"textposition\":\"auto\",\"x\":[\"Combustion with energy recovery\"],\"xaxis\":\"x\",\"y\":[33.5],\"yaxis\":\"y\",\"type\":\"bar\"},{\"alignmentgroup\":\"True\",\"hovertemplate\":\"Type=%{x}<br>year=2015<br>Value=%{y}<extra></extra>\",\"legendgroup\":\"Landfilling and other disposal\",\"marker\":{\"color\":\"#FFA15A\",\"pattern\":{\"shape\":\"\"}},\"name\":\"Landfilling and other disposal\",\"offsetgroup\":\"Landfilling and other disposal\",\"orientation\":\"v\",\"showlegend\":true,\"textposition\":\"auto\",\"x\":[\"Landfilling and other disposal\"],\"xaxis\":\"x\",\"y\":[137.6],\"yaxis\":\"y\",\"type\":\"bar\"}],\"name\":\"2015\"},{\"data\":[{\"alignmentgroup\":\"True\",\"hovertemplate\":\"Type=%{x}<br>year=2016<br>Value=%{y}<extra></extra>\",\"legendgroup\":\"Generation\",\"marker\":{\"color\":\"#636efa\",\"pattern\":{\"shape\":\"\"}},\"name\":\"Generation\",\"offsetgroup\":\"Generation\",\"orientation\":\"v\",\"showlegend\":true,\"textposition\":\"auto\",\"x\":[\"Generation\"],\"xaxis\":\"x\",\"y\":[266.8],\"yaxis\":\"y\",\"type\":\"bar\"},{\"alignmentgroup\":\"True\",\"hovertemplate\":\"Type=%{x}<br>year=2016<br>Value=%{y}<extra></extra>\",\"legendgroup\":\"Composting*\",\"marker\":{\"color\":\"#EF553B\",\"pattern\":{\"shape\":\"\"}},\"name\":\"Composting*\",\"offsetgroup\":\"Composting*\",\"orientation\":\"v\",\"showlegend\":true,\"textposition\":\"auto\",\"x\":[\"Composting*\"],\"xaxis\":\"x\",\"y\":[25.1],\"yaxis\":\"y\",\"type\":\"bar\"},{\"alignmentgroup\":\"True\",\"hovertemplate\":\"Type=%{x}<br>year=2016<br>Value=%{y}<extra></extra>\",\"legendgroup\":\"Recycling\",\"marker\":{\"color\":\"#00cc96\",\"pattern\":{\"shape\":\"\"}},\"name\":\"Recycling\",\"offsetgroup\":\"Recycling\",\"orientation\":\"v\",\"showlegend\":true,\"textposition\":\"auto\",\"x\":[\"Recycling\"],\"xaxis\":\"x\",\"y\":[68.6],\"yaxis\":\"y\",\"type\":\"bar\"},{\"alignmentgroup\":\"True\",\"hovertemplate\":\"Type=%{x}<br>year=2016<br>Value=%{y}<extra></extra>\",\"legendgroup\":\"Combustion with energy recovery\",\"marker\":{\"color\":\"#ab63fa\",\"pattern\":{\"shape\":\"\"}},\"name\":\"Combustion with energy recovery\",\"offsetgroup\":\"Combustion with energy recovery\",\"orientation\":\"v\",\"showlegend\":true,\"textposition\":\"auto\",\"x\":[\"Combustion with energy recovery\"],\"xaxis\":\"x\",\"y\":[33.9],\"yaxis\":\"y\",\"type\":\"bar\"},{\"alignmentgroup\":\"True\",\"hovertemplate\":\"Type=%{x}<br>year=2016<br>Value=%{y}<extra></extra>\",\"legendgroup\":\"Landfilling and other disposal\",\"marker\":{\"color\":\"#FFA15A\",\"pattern\":{\"shape\":\"\"}},\"name\":\"Landfilling and other disposal\",\"offsetgroup\":\"Landfilling and other disposal\",\"orientation\":\"v\",\"showlegend\":true,\"textposition\":\"auto\",\"x\":[\"Landfilling and other disposal\"],\"xaxis\":\"x\",\"y\":[139.2],\"yaxis\":\"y\",\"type\":\"bar\"}],\"name\":\"2016\"},{\"data\":[{\"alignmentgroup\":\"True\",\"hovertemplate\":\"Type=%{x}<br>year=2017<br>Value=%{y}<extra></extra>\",\"legendgroup\":\"Generation\",\"marker\":{\"color\":\"#636efa\",\"pattern\":{\"shape\":\"\"}},\"name\":\"Generation\",\"offsetgroup\":\"Generation\",\"orientation\":\"v\",\"showlegend\":true,\"textposition\":\"auto\",\"x\":[\"Generation\"],\"xaxis\":\"x\",\"y\":[267.8],\"yaxis\":\"y\",\"type\":\"bar\"},{\"alignmentgroup\":\"True\",\"hovertemplate\":\"Type=%{x}<br>year=2017<br>Value=%{y}<extra></extra>\",\"legendgroup\":\"Composting*\",\"marker\":{\"color\":\"#EF553B\",\"pattern\":{\"shape\":\"\"}},\"name\":\"Composting*\",\"offsetgroup\":\"Composting*\",\"orientation\":\"v\",\"showlegend\":true,\"textposition\":\"auto\",\"x\":[\"Composting*\"],\"xaxis\":\"x\",\"y\":[27.0],\"yaxis\":\"y\",\"type\":\"bar\"},{\"alignmentgroup\":\"True\",\"hovertemplate\":\"Type=%{x}<br>year=2017<br>Value=%{y}<extra></extra>\",\"legendgroup\":\"Recycling\",\"marker\":{\"color\":\"#00cc96\",\"pattern\":{\"shape\":\"\"}},\"name\":\"Recycling\",\"offsetgroup\":\"Recycling\",\"orientation\":\"v\",\"showlegend\":true,\"textposition\":\"auto\",\"x\":[\"Recycling\"],\"xaxis\":\"x\",\"y\":[67.2],\"yaxis\":\"y\",\"type\":\"bar\"},{\"alignmentgroup\":\"True\",\"hovertemplate\":\"Type=%{x}<br>year=2017<br>Value=%{y}<extra></extra>\",\"legendgroup\":\"Combustion with energy recovery\",\"marker\":{\"color\":\"#ab63fa\",\"pattern\":{\"shape\":\"\"}},\"name\":\"Combustion with energy recovery\",\"offsetgroup\":\"Combustion with energy recovery\",\"orientation\":\"v\",\"showlegend\":true,\"textposition\":\"auto\",\"x\":[\"Combustion with energy recovery\"],\"xaxis\":\"x\",\"y\":[34.0],\"yaxis\":\"y\",\"type\":\"bar\"},{\"alignmentgroup\":\"True\",\"hovertemplate\":\"Type=%{x}<br>year=2017<br>Value=%{y}<extra></extra>\",\"legendgroup\":\"Landfilling and other disposal\",\"marker\":{\"color\":\"#FFA15A\",\"pattern\":{\"shape\":\"\"}},\"name\":\"Landfilling and other disposal\",\"offsetgroup\":\"Landfilling and other disposal\",\"orientation\":\"v\",\"showlegend\":true,\"textposition\":\"auto\",\"x\":[\"Landfilling and other disposal\"],\"xaxis\":\"x\",\"y\":[139.6],\"yaxis\":\"y\",\"type\":\"bar\"}],\"name\":\"2017\"}]);\n",
       "                        }).then(function(){\n",
       "                            \n",
       "var gd = document.getElementById('9cb66c67-09d8-458a-a50e-448a264794e4');\n",
       "var x = new MutationObserver(function (mutations, observer) {{\n",
       "        var display = window.getComputedStyle(gd).display;\n",
       "        if (!display || display === 'none') {{\n",
       "            console.log([gd, 'removed!']);\n",
       "            Plotly.purge(gd);\n",
       "            observer.disconnect();\n",
       "        }}\n",
       "}});\n",
       "\n",
       "// Listen for the removal of the full notebook cells\n",
       "var notebookContainer = gd.closest('#notebook-container');\n",
       "if (notebookContainer) {{\n",
       "    x.observe(notebookContainer, {childList: true});\n",
       "}}\n",
       "\n",
       "// Listen for the clearing of the current output cell\n",
       "var outputEl = gd.closest('.output');\n",
       "if (outputEl) {{\n",
       "    x.observe(outputEl, {childList: true});\n",
       "}}\n",
       "\n",
       "                        })                };                            </script>        </div>\n",
       "</body>\n",
       "</html>"
      ]
     },
     "metadata": {},
     "output_type": "display_data"
    }
   ],
   "source": [
    "fig = px.bar(df, x=\"Type\", y=\"Value\", color=\"Type\",\n",
    "  animation_frame=\"year\", range_y=[0,400])\n",
    "fig.show()\n",
    "##Through the time changes, the amount of plastic disposal keep increasing, the type of disposal method became varied. The generation method is always the most used."
   ]
  },
  {
   "cell_type": "markdown",
   "metadata": {
    "id": "_kHMYKapxHsS"
   },
   "source": [
    "**Hint:** [Animated Bar Charts with Plotly Express](https://plotly.com/python/animations/#animated-bar-charts-with-plotly-express)\n",
    "\n",
    "\n"
   ]
  },
  {
   "cell_type": "markdown",
   "metadata": {
    "id": "A8U12hUMxR_e"
   },
   "source": [
    "### Problem 3 ##"
   ]
  },
  {
   "cell_type": "markdown",
   "metadata": {
    "id": "-ggjHdiHYG0H"
   },
   "source": [
    "**Dataset:** [Global Fortune 500](https://www.kaggle.com/edgarhuichen/fortune-global-500)\n",
    "\n",
    "**Introduction:** Fortune Global 500 List is a list of largest corporations worldwide which are measured by their total fiscal year revenues. Companies rankings sorted by total revenues for their respective fiscal years ended on or before March 31 of the relevant year."
   ]
  },
  {
   "cell_type": "code",
   "execution_count": null,
   "metadata": {
    "colab": {
     "base_uri": "https://localhost:8080/",
     "height": 319
    },
    "id": "TNyd86bIT80y",
    "outputId": "4f74eb8e-722c-45db-e49f-6e56bed36cd3"
   },
   "outputs": [
    {
     "name": "stdout",
     "output_type": "stream",
     "text": [
      "Requirement already satisfied: plotly in /usr/local/lib/python3.7/dist-packages (5.5.0)\n",
      "Collecting plotly\n",
      "  Downloading plotly-5.6.0-py2.py3-none-any.whl (27.7 MB)\n",
      "\u001b[K     |████████████████████████████████| 27.7 MB 1.7 MB/s \n",
      "\u001b[?25hRequirement already satisfied: six in /usr/local/lib/python3.7/dist-packages (from plotly) (1.15.0)\n",
      "Requirement already satisfied: tenacity>=6.2.0 in /usr/local/lib/python3.7/dist-packages (from plotly) (8.0.1)\n",
      "Installing collected packages: plotly\n",
      "  Attempting uninstall: plotly\n",
      "    Found existing installation: plotly 5.5.0\n",
      "    Uninstalling plotly-5.5.0:\n",
      "      Successfully uninstalled plotly-5.5.0\n",
      "Successfully installed plotly-5.6.0\n"
     ]
    },
    {
     "data": {
      "application/vnd.colab-display-data+json": {
       "pip_warning": {
        "packages": [
         "_plotly_utils",
         "plotly"
        ]
       }
      }
     },
     "metadata": {},
     "output_type": "display_data"
    }
   ],
   "source": [
    "#Upgrade the package \"plotly\" before you start to avoid future syntax error\n",
    "#You only need to upgrade it once\n",
    "!pip install plotly --upgrade\n"
   ]
  },
  {
   "cell_type": "code",
   "execution_count": null,
   "metadata": {
    "colab": {
     "base_uri": "https://localhost:8080/",
     "height": 341,
     "resources": {
      "http://localhost:8080/nbextensions/google.colab/files.js": {
       "data": "Ly8gQ29weXJpZ2h0IDIwMTcgR29vZ2xlIExMQwovLwovLyBMaWNlbnNlZCB1bmRlciB0aGUgQXBhY2hlIExpY2Vuc2UsIFZlcnNpb24gMi4wICh0aGUgIkxpY2Vuc2UiKTsKLy8geW91IG1heSBub3QgdXNlIHRoaXMgZmlsZSBleGNlcHQgaW4gY29tcGxpYW5jZSB3aXRoIHRoZSBMaWNlbnNlLgovLyBZb3UgbWF5IG9idGFpbiBhIGNvcHkgb2YgdGhlIExpY2Vuc2UgYXQKLy8KLy8gICAgICBodHRwOi8vd3d3LmFwYWNoZS5vcmcvbGljZW5zZXMvTElDRU5TRS0yLjAKLy8KLy8gVW5sZXNzIHJlcXVpcmVkIGJ5IGFwcGxpY2FibGUgbGF3IG9yIGFncmVlZCB0byBpbiB3cml0aW5nLCBzb2Z0d2FyZQovLyBkaXN0cmlidXRlZCB1bmRlciB0aGUgTGljZW5zZSBpcyBkaXN0cmlidXRlZCBvbiBhbiAiQVMgSVMiIEJBU0lTLAovLyBXSVRIT1VUIFdBUlJBTlRJRVMgT1IgQ09ORElUSU9OUyBPRiBBTlkgS0lORCwgZWl0aGVyIGV4cHJlc3Mgb3IgaW1wbGllZC4KLy8gU2VlIHRoZSBMaWNlbnNlIGZvciB0aGUgc3BlY2lmaWMgbGFuZ3VhZ2UgZ292ZXJuaW5nIHBlcm1pc3Npb25zIGFuZAovLyBsaW1pdGF0aW9ucyB1bmRlciB0aGUgTGljZW5zZS4KCi8qKgogKiBAZmlsZW92ZXJ2aWV3IEhlbHBlcnMgZm9yIGdvb2dsZS5jb2xhYiBQeXRob24gbW9kdWxlLgogKi8KKGZ1bmN0aW9uKHNjb3BlKSB7CmZ1bmN0aW9uIHNwYW4odGV4dCwgc3R5bGVBdHRyaWJ1dGVzID0ge30pIHsKICBjb25zdCBlbGVtZW50ID0gZG9jdW1lbnQuY3JlYXRlRWxlbWVudCgnc3BhbicpOwogIGVsZW1lbnQudGV4dENvbnRlbnQgPSB0ZXh0OwogIGZvciAoY29uc3Qga2V5IG9mIE9iamVjdC5rZXlzKHN0eWxlQXR0cmlidXRlcykpIHsKICAgIGVsZW1lbnQuc3R5bGVba2V5XSA9IHN0eWxlQXR0cmlidXRlc1trZXldOwogIH0KICByZXR1cm4gZWxlbWVudDsKfQoKLy8gTWF4IG51bWJlciBvZiBieXRlcyB3aGljaCB3aWxsIGJlIHVwbG9hZGVkIGF0IGEgdGltZS4KY29uc3QgTUFYX1BBWUxPQURfU0laRSA9IDEwMCAqIDEwMjQ7CgpmdW5jdGlvbiBfdXBsb2FkRmlsZXMoaW5wdXRJZCwgb3V0cHV0SWQpIHsKICBjb25zdCBzdGVwcyA9IHVwbG9hZEZpbGVzU3RlcChpbnB1dElkLCBvdXRwdXRJZCk7CiAgY29uc3Qgb3V0cHV0RWxlbWVudCA9IGRvY3VtZW50LmdldEVsZW1lbnRCeUlkKG91dHB1dElkKTsKICAvLyBDYWNoZSBzdGVwcyBvbiB0aGUgb3V0cHV0RWxlbWVudCB0byBtYWtlIGl0IGF2YWlsYWJsZSBmb3IgdGhlIG5leHQgY2FsbAogIC8vIHRvIHVwbG9hZEZpbGVzQ29udGludWUgZnJvbSBQeXRob24uCiAgb3V0cHV0RWxlbWVudC5zdGVwcyA9IHN0ZXBzOwoKICByZXR1cm4gX3VwbG9hZEZpbGVzQ29udGludWUob3V0cHV0SWQpOwp9CgovLyBUaGlzIGlzIHJvdWdobHkgYW4gYXN5bmMgZ2VuZXJhdG9yIChub3Qgc3VwcG9ydGVkIGluIHRoZSBicm93c2VyIHlldCksCi8vIHdoZXJlIHRoZXJlIGFyZSBtdWx0aXBsZSBhc3luY2hyb25vdXMgc3RlcHMgYW5kIHRoZSBQeXRob24gc2lkZSBpcyBnb2luZwovLyB0byBwb2xsIGZvciBjb21wbGV0aW9uIG9mIGVhY2ggc3RlcC4KLy8gVGhpcyB1c2VzIGEgUHJvbWlzZSB0byBibG9jayB0aGUgcHl0aG9uIHNpZGUgb24gY29tcGxldGlvbiBvZiBlYWNoIHN0ZXAsCi8vIHRoZW4gcGFzc2VzIHRoZSByZXN1bHQgb2YgdGhlIHByZXZpb3VzIHN0ZXAgYXMgdGhlIGlucHV0IHRvIHRoZSBuZXh0IHN0ZXAuCmZ1bmN0aW9uIF91cGxvYWRGaWxlc0NvbnRpbnVlKG91dHB1dElkKSB7CiAgY29uc3Qgb3V0cHV0RWxlbWVudCA9IGRvY3VtZW50LmdldEVsZW1lbnRCeUlkKG91dHB1dElkKTsKICBjb25zdCBzdGVwcyA9IG91dHB1dEVsZW1lbnQuc3RlcHM7CgogIGNvbnN0IG5leHQgPSBzdGVwcy5uZXh0KG91dHB1dEVsZW1lbnQubGFzdFByb21pc2VWYWx1ZSk7CiAgcmV0dXJuIFByb21pc2UucmVzb2x2ZShuZXh0LnZhbHVlLnByb21pc2UpLnRoZW4oKHZhbHVlKSA9PiB7CiAgICAvLyBDYWNoZSB0aGUgbGFzdCBwcm9taXNlIHZhbHVlIHRvIG1ha2UgaXQgYXZhaWxhYmxlIHRvIHRoZSBuZXh0CiAgICAvLyBzdGVwIG9mIHRoZSBnZW5lcmF0b3IuCiAgICBvdXRwdXRFbGVtZW50Lmxhc3RQcm9taXNlVmFsdWUgPSB2YWx1ZTsKICAgIHJldHVybiBuZXh0LnZhbHVlLnJlc3BvbnNlOwogIH0pOwp9CgovKioKICogR2VuZXJhdG9yIGZ1bmN0aW9uIHdoaWNoIGlzIGNhbGxlZCBiZXR3ZWVuIGVhY2ggYXN5bmMgc3RlcCBvZiB0aGUgdXBsb2FkCiAqIHByb2Nlc3MuCiAqIEBwYXJhbSB7c3RyaW5nfSBpbnB1dElkIEVsZW1lbnQgSUQgb2YgdGhlIGlucHV0IGZpbGUgcGlja2VyIGVsZW1lbnQuCiAqIEBwYXJhbSB7c3RyaW5nfSBvdXRwdXRJZCBFbGVtZW50IElEIG9mIHRoZSBvdXRwdXQgZGlzcGxheS4KICogQHJldHVybiB7IUl0ZXJhYmxlPCFPYmplY3Q+fSBJdGVyYWJsZSBvZiBuZXh0IHN0ZXBzLgogKi8KZnVuY3Rpb24qIHVwbG9hZEZpbGVzU3RlcChpbnB1dElkLCBvdXRwdXRJZCkgewogIGNvbnN0IGlucHV0RWxlbWVudCA9IGRvY3VtZW50LmdldEVsZW1lbnRCeUlkKGlucHV0SWQpOwogIGlucHV0RWxlbWVudC5kaXNhYmxlZCA9IGZhbHNlOwoKICBjb25zdCBvdXRwdXRFbGVtZW50ID0gZG9jdW1lbnQuZ2V0RWxlbWVudEJ5SWQob3V0cHV0SWQpOwogIG91dHB1dEVsZW1lbnQuaW5uZXJIVE1MID0gJyc7CgogIGNvbnN0IHBpY2tlZFByb21pc2UgPSBuZXcgUHJvbWlzZSgocmVzb2x2ZSkgPT4gewogICAgaW5wdXRFbGVtZW50LmFkZEV2ZW50TGlzdGVuZXIoJ2NoYW5nZScsIChlKSA9PiB7CiAgICAgIHJlc29sdmUoZS50YXJnZXQuZmlsZXMpOwogICAgfSk7CiAgfSk7CgogIGNvbnN0IGNhbmNlbCA9IGRvY3VtZW50LmNyZWF0ZUVsZW1lbnQoJ2J1dHRvbicpOwogIGlucHV0RWxlbWVudC5wYXJlbnRFbGVtZW50LmFwcGVuZENoaWxkKGNhbmNlbCk7CiAgY2FuY2VsLnRleHRDb250ZW50ID0gJ0NhbmNlbCB1cGxvYWQnOwogIGNvbnN0IGNhbmNlbFByb21pc2UgPSBuZXcgUHJvbWlzZSgocmVzb2x2ZSkgPT4gewogICAgY2FuY2VsLm9uY2xpY2sgPSAoKSA9PiB7CiAgICAgIHJlc29sdmUobnVsbCk7CiAgICB9OwogIH0pOwoKICAvLyBXYWl0IGZvciB0aGUgdXNlciB0byBwaWNrIHRoZSBmaWxlcy4KICBjb25zdCBmaWxlcyA9IHlpZWxkIHsKICAgIHByb21pc2U6IFByb21pc2UucmFjZShbcGlja2VkUHJvbWlzZSwgY2FuY2VsUHJvbWlzZV0pLAogICAgcmVzcG9uc2U6IHsKICAgICAgYWN0aW9uOiAnc3RhcnRpbmcnLAogICAgfQogIH07CgogIGNhbmNlbC5yZW1vdmUoKTsKCiAgLy8gRGlzYWJsZSB0aGUgaW5wdXQgZWxlbWVudCBzaW5jZSBmdXJ0aGVyIHBpY2tzIGFyZSBub3QgYWxsb3dlZC4KICBpbnB1dEVsZW1lbnQuZGlzYWJsZWQgPSB0cnVlOwoKICBpZiAoIWZpbGVzKSB7CiAgICByZXR1cm4gewogICAgICByZXNwb25zZTogewogICAgICAgIGFjdGlvbjogJ2NvbXBsZXRlJywKICAgICAgfQogICAgfTsKICB9CgogIGZvciAoY29uc3QgZmlsZSBvZiBmaWxlcykgewogICAgY29uc3QgbGkgPSBkb2N1bWVudC5jcmVhdGVFbGVtZW50KCdsaScpOwogICAgbGkuYXBwZW5kKHNwYW4oZmlsZS5uYW1lLCB7Zm9udFdlaWdodDogJ2JvbGQnfSkpOwogICAgbGkuYXBwZW5kKHNwYW4oCiAgICAgICAgYCgke2ZpbGUudHlwZSB8fCAnbi9hJ30pIC0gJHtmaWxlLnNpemV9IGJ5dGVzLCBgICsKICAgICAgICBgbGFzdCBtb2RpZmllZDogJHsKICAgICAgICAgICAgZmlsZS5sYXN0TW9kaWZpZWREYXRlID8gZmlsZS5sYXN0TW9kaWZpZWREYXRlLnRvTG9jYWxlRGF0ZVN0cmluZygpIDoKICAgICAgICAgICAgICAgICAgICAgICAgICAgICAgICAgICAgJ24vYSd9IC0gYCkpOwogICAgY29uc3QgcGVyY2VudCA9IHNwYW4oJzAlIGRvbmUnKTsKICAgIGxpLmFwcGVuZENoaWxkKHBlcmNlbnQpOwoKICAgIG91dHB1dEVsZW1lbnQuYXBwZW5kQ2hpbGQobGkpOwoKICAgIGNvbnN0IGZpbGVEYXRhUHJvbWlzZSA9IG5ldyBQcm9taXNlKChyZXNvbHZlKSA9PiB7CiAgICAgIGNvbnN0IHJlYWRlciA9IG5ldyBGaWxlUmVhZGVyKCk7CiAgICAgIHJlYWRlci5vbmxvYWQgPSAoZSkgPT4gewogICAgICAgIHJlc29sdmUoZS50YXJnZXQucmVzdWx0KTsKICAgICAgfTsKICAgICAgcmVhZGVyLnJlYWRBc0FycmF5QnVmZmVyKGZpbGUpOwogICAgfSk7CiAgICAvLyBXYWl0IGZvciB0aGUgZGF0YSB0byBiZSByZWFkeS4KICAgIGxldCBmaWxlRGF0YSA9IHlpZWxkIHsKICAgICAgcHJvbWlzZTogZmlsZURhdGFQcm9taXNlLAogICAgICByZXNwb25zZTogewogICAgICAgIGFjdGlvbjogJ2NvbnRpbnVlJywKICAgICAgfQogICAgfTsKCiAgICAvLyBVc2UgYSBjaHVua2VkIHNlbmRpbmcgdG8gYXZvaWQgbWVzc2FnZSBzaXplIGxpbWl0cy4gU2VlIGIvNjIxMTU2NjAuCiAgICBsZXQgcG9zaXRpb24gPSAwOwogICAgZG8gewogICAgICBjb25zdCBsZW5ndGggPSBNYXRoLm1pbihmaWxlRGF0YS5ieXRlTGVuZ3RoIC0gcG9zaXRpb24sIE1BWF9QQVlMT0FEX1NJWkUpOwogICAgICBjb25zdCBjaHVuayA9IG5ldyBVaW50OEFycmF5KGZpbGVEYXRhLCBwb3NpdGlvbiwgbGVuZ3RoKTsKICAgICAgcG9zaXRpb24gKz0gbGVuZ3RoOwoKICAgICAgY29uc3QgYmFzZTY0ID0gYnRvYShTdHJpbmcuZnJvbUNoYXJDb2RlLmFwcGx5KG51bGwsIGNodW5rKSk7CiAgICAgIHlpZWxkIHsKICAgICAgICByZXNwb25zZTogewogICAgICAgICAgYWN0aW9uOiAnYXBwZW5kJywKICAgICAgICAgIGZpbGU6IGZpbGUubmFtZSwKICAgICAgICAgIGRhdGE6IGJhc2U2NCwKICAgICAgICB9LAogICAgICB9OwoKICAgICAgbGV0IHBlcmNlbnREb25lID0gZmlsZURhdGEuYnl0ZUxlbmd0aCA9PT0gMCA/CiAgICAgICAgICAxMDAgOgogICAgICAgICAgTWF0aC5yb3VuZCgocG9zaXRpb24gLyBmaWxlRGF0YS5ieXRlTGVuZ3RoKSAqIDEwMCk7CiAgICAgIHBlcmNlbnQudGV4dENvbnRlbnQgPSBgJHtwZXJjZW50RG9uZX0lIGRvbmVgOwoKICAgIH0gd2hpbGUgKHBvc2l0aW9uIDwgZmlsZURhdGEuYnl0ZUxlbmd0aCk7CiAgfQoKICAvLyBBbGwgZG9uZS4KICB5aWVsZCB7CiAgICByZXNwb25zZTogewogICAgICBhY3Rpb246ICdjb21wbGV0ZScsCiAgICB9CiAgfTsKfQoKc2NvcGUuZ29vZ2xlID0gc2NvcGUuZ29vZ2xlIHx8IHt9OwpzY29wZS5nb29nbGUuY29sYWIgPSBzY29wZS5nb29nbGUuY29sYWIgfHwge307CnNjb3BlLmdvb2dsZS5jb2xhYi5fZmlsZXMgPSB7CiAgX3VwbG9hZEZpbGVzLAogIF91cGxvYWRGaWxlc0NvbnRpbnVlLAp9Owp9KShzZWxmKTsK",
       "headers": [
        [
         "content-type",
         "application/javascript"
        ]
       ],
       "ok": true,
       "status": 200,
       "status_text": ""
      }
     }
    },
    "id": "IVcTKIdlxR_g",
    "outputId": "b9fccc74-cb1d-45c5-b92c-19e45595cbb1"
   },
   "outputs": [
    {
     "data": {
      "text/html": [
       "\n",
       "     <input type=\"file\" id=\"files-87cf383f-5766-4c69-afe0-9ce60339025c\" name=\"files[]\" multiple disabled\n",
       "        style=\"border:none\" />\n",
       "     <output id=\"result-87cf383f-5766-4c69-afe0-9ce60339025c\">\n",
       "      Upload widget is only available when the cell has been executed in the\n",
       "      current browser session. Please rerun this cell to enable.\n",
       "      </output>\n",
       "      <script src=\"/nbextensions/google.colab/files.js\"></script> "
      ],
      "text/plain": [
       "<IPython.core.display.HTML object>"
      ]
     },
     "metadata": {},
     "output_type": "display_data"
    },
    {
     "name": "stdout",
     "output_type": "stream",
     "text": [
      "Saving Global Fortune 500.csv to Global Fortune 500.csv\n"
     ]
    },
    {
     "data": {
      "text/html": [
       "\n",
       "  <div id=\"df-a44de357-878d-4526-9e37-dc85e8f9e9a6\">\n",
       "    <div class=\"colab-df-container\">\n",
       "      <div>\n",
       "<style scoped>\n",
       "    .dataframe tbody tr th:only-of-type {\n",
       "        vertical-align: middle;\n",
       "    }\n",
       "\n",
       "    .dataframe tbody tr th {\n",
       "        vertical-align: top;\n",
       "    }\n",
       "\n",
       "    .dataframe thead th {\n",
       "        text-align: right;\n",
       "    }\n",
       "</style>\n",
       "<table border=\"1\" class=\"dataframe\">\n",
       "  <thead>\n",
       "    <tr style=\"text-align: right;\">\n",
       "      <th></th>\n",
       "      <th>Rank</th>\n",
       "      <th>Company Name</th>\n",
       "      <th>Country</th>\n",
       "      <th>Number of Employees</th>\n",
       "      <th>Previous Rank</th>\n",
       "      <th>Revenues($millions)</th>\n",
       "      <th>Revenue Change</th>\n",
       "      <th>Profits($millions)</th>\n",
       "      <th>Profit Change</th>\n",
       "      <th>Assets($millions)</th>\n",
       "      <th>Unnamed: 10</th>\n",
       "      <th>Unnamed: 11</th>\n",
       "    </tr>\n",
       "  </thead>\n",
       "  <tbody>\n",
       "    <tr>\n",
       "      <th>0</th>\n",
       "      <td>1</td>\n",
       "      <td>Walmart</td>\n",
       "      <td>USA</td>\n",
       "      <td>2,300,000</td>\n",
       "      <td>1</td>\n",
       "      <td>485873</td>\n",
       "      <td>0.80%</td>\n",
       "      <td>13643</td>\n",
       "      <td>-7.20%</td>\n",
       "      <td>198825</td>\n",
       "      <td>NaN</td>\n",
       "      <td>NaN</td>\n",
       "    </tr>\n",
       "    <tr>\n",
       "      <th>1</th>\n",
       "      <td>2</td>\n",
       "      <td>State Grid</td>\n",
       "      <td>China</td>\n",
       "      <td>926,067</td>\n",
       "      <td>2</td>\n",
       "      <td>315199</td>\n",
       "      <td>-4.40%</td>\n",
       "      <td>9571.3</td>\n",
       "      <td>-6.20%</td>\n",
       "      <td>489838</td>\n",
       "      <td>NaN</td>\n",
       "      <td>NaN</td>\n",
       "    </tr>\n",
       "    <tr>\n",
       "      <th>2</th>\n",
       "      <td>3</td>\n",
       "      <td>Sinopec Group</td>\n",
       "      <td>China</td>\n",
       "      <td>713,288</td>\n",
       "      <td>4</td>\n",
       "      <td>267518</td>\n",
       "      <td>-9.10%</td>\n",
       "      <td>1257.9</td>\n",
       "      <td>-65.00%</td>\n",
       "      <td>310726</td>\n",
       "      <td>NaN</td>\n",
       "      <td>NaN</td>\n",
       "    </tr>\n",
       "    <tr>\n",
       "      <th>3</th>\n",
       "      <td>4</td>\n",
       "      <td>China National Petroleum</td>\n",
       "      <td>China</td>\n",
       "      <td>1,512,048</td>\n",
       "      <td>3</td>\n",
       "      <td>262573</td>\n",
       "      <td>-12.30%</td>\n",
       "      <td>1867.5</td>\n",
       "      <td>-73.70%</td>\n",
       "      <td>585619</td>\n",
       "      <td>NaN</td>\n",
       "      <td>NaN</td>\n",
       "    </tr>\n",
       "    <tr>\n",
       "      <th>4</th>\n",
       "      <td>5</td>\n",
       "      <td>Toyota Motor</td>\n",
       "      <td>Japan</td>\n",
       "      <td>364,445</td>\n",
       "      <td>8</td>\n",
       "      <td>254694</td>\n",
       "      <td>7.70%</td>\n",
       "      <td>16899.3</td>\n",
       "      <td>-12.30%</td>\n",
       "      <td>437575</td>\n",
       "      <td>NaN</td>\n",
       "      <td>NaN</td>\n",
       "    </tr>\n",
       "  </tbody>\n",
       "</table>\n",
       "</div>\n",
       "      <button class=\"colab-df-convert\" onclick=\"convertToInteractive('df-a44de357-878d-4526-9e37-dc85e8f9e9a6')\"\n",
       "              title=\"Convert this dataframe to an interactive table.\"\n",
       "              style=\"display:none;\">\n",
       "        \n",
       "  <svg xmlns=\"http://www.w3.org/2000/svg\" height=\"24px\"viewBox=\"0 0 24 24\"\n",
       "       width=\"24px\">\n",
       "    <path d=\"M0 0h24v24H0V0z\" fill=\"none\"/>\n",
       "    <path d=\"M18.56 5.44l.94 2.06.94-2.06 2.06-.94-2.06-.94-.94-2.06-.94 2.06-2.06.94zm-11 1L8.5 8.5l.94-2.06 2.06-.94-2.06-.94L8.5 2.5l-.94 2.06-2.06.94zm10 10l.94 2.06.94-2.06 2.06-.94-2.06-.94-.94-2.06-.94 2.06-2.06.94z\"/><path d=\"M17.41 7.96l-1.37-1.37c-.4-.4-.92-.59-1.43-.59-.52 0-1.04.2-1.43.59L10.3 9.45l-7.72 7.72c-.78.78-.78 2.05 0 2.83L4 21.41c.39.39.9.59 1.41.59.51 0 1.02-.2 1.41-.59l7.78-7.78 2.81-2.81c.8-.78.8-2.07 0-2.86zM5.41 20L4 18.59l7.72-7.72 1.47 1.35L5.41 20z\"/>\n",
       "  </svg>\n",
       "      </button>\n",
       "      \n",
       "  <style>\n",
       "    .colab-df-container {\n",
       "      display:flex;\n",
       "      flex-wrap:wrap;\n",
       "      gap: 12px;\n",
       "    }\n",
       "\n",
       "    .colab-df-convert {\n",
       "      background-color: #E8F0FE;\n",
       "      border: none;\n",
       "      border-radius: 50%;\n",
       "      cursor: pointer;\n",
       "      display: none;\n",
       "      fill: #1967D2;\n",
       "      height: 32px;\n",
       "      padding: 0 0 0 0;\n",
       "      width: 32px;\n",
       "    }\n",
       "\n",
       "    .colab-df-convert:hover {\n",
       "      background-color: #E2EBFA;\n",
       "      box-shadow: 0px 1px 2px rgba(60, 64, 67, 0.3), 0px 1px 3px 1px rgba(60, 64, 67, 0.15);\n",
       "      fill: #174EA6;\n",
       "    }\n",
       "\n",
       "    [theme=dark] .colab-df-convert {\n",
       "      background-color: #3B4455;\n",
       "      fill: #D2E3FC;\n",
       "    }\n",
       "\n",
       "    [theme=dark] .colab-df-convert:hover {\n",
       "      background-color: #434B5C;\n",
       "      box-shadow: 0px 1px 3px 1px rgba(0, 0, 0, 0.15);\n",
       "      filter: drop-shadow(0px 1px 2px rgba(0, 0, 0, 0.3));\n",
       "      fill: #FFFFFF;\n",
       "    }\n",
       "  </style>\n",
       "\n",
       "      <script>\n",
       "        const buttonEl =\n",
       "          document.querySelector('#df-a44de357-878d-4526-9e37-dc85e8f9e9a6 button.colab-df-convert');\n",
       "        buttonEl.style.display =\n",
       "          google.colab.kernel.accessAllowed ? 'block' : 'none';\n",
       "\n",
       "        async function convertToInteractive(key) {\n",
       "          const element = document.querySelector('#df-a44de357-878d-4526-9e37-dc85e8f9e9a6');\n",
       "          const dataTable =\n",
       "            await google.colab.kernel.invokeFunction('convertToInteractive',\n",
       "                                                     [key], {});\n",
       "          if (!dataTable) return;\n",
       "\n",
       "          const docLinkHtml = 'Like what you see? Visit the ' +\n",
       "            '<a target=\"_blank\" href=https://colab.research.google.com/notebooks/data_table.ipynb>data table notebook</a>'\n",
       "            + ' to learn more about interactive tables.';\n",
       "          element.innerHTML = '';\n",
       "          dataTable['output_type'] = 'display_data';\n",
       "          await google.colab.output.renderOutput(dataTable, element);\n",
       "          const docLink = document.createElement('div');\n",
       "          docLink.innerHTML = docLinkHtml;\n",
       "          element.appendChild(docLink);\n",
       "        }\n",
       "      </script>\n",
       "    </div>\n",
       "  </div>\n",
       "  "
      ],
      "text/plain": [
       "   Rank              Company Name  ... Unnamed: 10 Unnamed: 11\n",
       "0     1                   Walmart  ...         NaN         NaN\n",
       "1     2                State Grid  ...         NaN         NaN\n",
       "2     3             Sinopec Group  ...         NaN         NaN\n",
       "3     4  China National Petroleum  ...         NaN         NaN\n",
       "4     5              Toyota Motor  ...         NaN         NaN\n",
       "\n",
       "[5 rows x 12 columns]"
      ]
     },
     "execution_count": 11,
     "metadata": {},
     "output_type": "execute_result"
    }
   ],
   "source": [
    "#Import packages\n",
    "import pandas as pd\n",
    "import numpy as np\n",
    "import plotly.express as px\n",
    "\n",
    "#Load the dataset\n",
    "from google.colab import files\n",
    "file = files.upload()  #upload file into google colab session\n",
    "df = pd.read_csv(\"Global Fortune 500.csv\") \n",
    "df.head()"
   ]
  },
  {
   "cell_type": "markdown",
   "metadata": {
    "id": "M7swnJ_iiupl"
   },
   "source": [
    "**TODO:**\n",
    "*  Build a treemap of the companies with \"country\" as the first hierarchy and \"company\" as the second hierarchy\n",
    "*  The size of each block should indicate the corresponding company's revenue\n",
    "*  Interpret your key findings from the treemap"
   ]
  },
  {
   "cell_type": "code",
   "execution_count": null,
   "metadata": {
    "colab": {
     "base_uri": "https://localhost:8080/",
     "height": 542
    },
    "id": "Q75N0969xR_m",
    "outputId": "03ac6282-8db9-46c6-d6b3-14bf79a8e246"
   },
   "outputs": [
    {
     "data": {
      "text/html": [
       "<html>\n",
       "<head><meta charset=\"utf-8\" /></head>\n",
       "<body>\n",
       "    <div>            <script src=\"https://cdnjs.cloudflare.com/ajax/libs/mathjax/2.7.5/MathJax.js?config=TeX-AMS-MML_SVG\"></script><script type=\"text/javascript\">if (window.MathJax) {MathJax.Hub.Config({SVG: {font: \"STIX-Web\"}});}</script>                <script type=\"text/javascript\">window.PlotlyConfig = {MathJaxConfig: 'local'};</script>\n",
       "        <script src=\"https://cdn.plot.ly/plotly-2.8.3.min.js\"></script>                <div id=\"3fc95d3d-2083-4585-b3d4-978ae31622ed\" class=\"plotly-graph-div\" style=\"height:525px; width:100%;\"></div>            <script type=\"text/javascript\">                                    window.PLOTLYENV=window.PLOTLYENV || {};                                    if (document.getElementById(\"3fc95d3d-2083-4585-b3d4-978ae31622ed\")) {                    Plotly.newPlot(                        \"3fc95d3d-2083-4585-b3d4-978ae31622ed\",                        [{\"branchvalues\":\"total\",\"domain\":{\"x\":[0.0,1.0],\"y\":[0.0,1.0]},\"hovertemplate\":\"labels=%{label}<br>Revenues($millions)=%{value}<br>parent=%{parent}<br>id=%{id}<extra></extra>\",\"ids\":[\"world/USA/3M\",\"world/Denmark/A.P. M\\u00f8ller-M\\u00e6rsk A/S\",\"world/Switzerland/ABB\",\"world/Spain/ACS\",\"world/Japan/AEON\",\"world/China/AIA Group\",\"world/USA/AIG\",\"world/USA/AT&T\",\"world/France/AXA\",\"world/USA/AbbVie\",\"world/Ireland/Accenture\",\"world/Netherlands/Achmea\",\"world/Switzerland/Adecco Group\",\"world/Netherlands/Aegon\",\"world/USA/Aetna\",\"world/USA/Aflac\",\"world/China/Agricultural Bank of China\",\"world/France/Air France-KLM Group\",\"world/Netherlands/Airbus Group\",\"world/Japan/Aisin Seiki\",\"world/USA/Albertsons Cos.\",\"world/Japan/Alfresa Holdings\",\"world/China/Alibaba Group Holding\",\"world/Canada/Alimentation Couche-Tard\",\"world/Germany/Allianz\",\"world/USA/Allstate\",\"world/USA/Alphabet\",\"world/Netherlands/Altice\",\"world/China/Aluminum Corp. of China\",\"world/USA/Amazon.com\",\"world/China/Amer International Group\",\"world/Mexico/America Movil\",\"world/USA/American Airlines Group\",\"world/USA/American Express\",\"world/USA/AmerisourceBergen\",\"world/USA/Amgen\",\"world/China/Anbang Insurance Group\",\"world/Belgium/Anheuser-Busch InBev\",\"world/USA/Anthem\",\"world/USA/Apple\",\"world/Luxembourg/ArcelorMittal\",\"world/USA/Archer Daniels Midland\",\"world/USA/Arrow Electronics\",\"world/Italy/Assicurazioni Generali\",\"world/Britain/AstraZeneca\",\"world/Australia/Australia & New Zeal. Bnkg.\",\"world/USA/AutoNation\",\"world/China/Aviation Industry Corp. of China\",\"world/Britain/Aviva\",\"world/USA/Avnet\",\"world/Britain/BAE Systems\",\"world/Germany/BASF\",\"world/Australia/BHP Billiton\",\"world/Germany/BMW\",\"world/France/BNP Paribas\",\"world/Britain/BP\",\"world/Britain/BT Group\",\"world/Spain/Banco Bilbao Vizcaya Argentaria\",\"world/Brazil/Banco Bradesco\",\"world/Spain/Banco Santander\",\"world/Brazil/Banco do Brasil\",\"world/USA/Bank of America Corp.\",\"world/China/Bank of China\",\"world/China/Bank of Communications\",\"world/Canada/Bank of Nova Scotia\",\"world/China/Baosteel Group\",\"world/Britain/Barclays\",\"world/Germany/Bayer\",\"world/China/Beijing Automotive Group\",\"world/USA/Berkshire Hathaway\",\"world/USA/Best Buy\",\"world/India/Bharat Petroleum\",\"world/USA/Boeing\",\"world/Germany/Bosch\",\"world/France/Bouygues\",\"world/Japan/Bridgestone\",\"world/Canada/Brookfield Asset Management\",\"world/USA/Bunge\",\"world/China/CEFC China Energy\",\"world/USA/CHS\",\"world/China/CITIC Group\",\"world/China/CK Hutchison Holdings\",\"world/France/CNP Assurances\",\"world/China/COFCO\",\"world/Ireland/CRH\",\"world/China/CRRC\",\"world/USA/CVS Health\",\"world/Japan/Canon\",\"world/USA/Capital One Financial\",\"world/USA/Cardinal Health\",\"world/France/Carrefour\",\"world/USA/Caterpillar\",\"world/Taiwan/Cathay Life Insurance\",\"world/USA/Centene\",\"world/Britain/Centrica\",\"world/USA/Charter Communications\",\"world/China/ChemChina\",\"world/USA/Chevron\",\"world/China/China Aerospace Science & Industry\",\"world/China/China Aerospace Science & Technology\",\"world/China/China Communications Construction\",\"world/China/China Construction Bank\",\"world/China/China Datang\",\"world/China/China Electronics\",\"world/China/China Electronics Technology Group\",\"world/China/China Energy Engineering\",\"world/China/China Everbright Group\",\"world/China/China FAW Group\",\"world/China/China General Technology\",\"world/China/China Guodian\",\"world/China/China Huadian\",\"world/China/China Huaneng Group\",\"world/China/China Life Insurance\",\"world/China/China Merchants Bank\",\"world/China/China Minmetals\",\"world/China/China Minsheng Banking\",\"world/China/China Mobile Communications\",\"world/China/China National Aviation Fuel Group\",\"world/China/China National Bldg. Materials Group\",\"world/China/China National Offshore Oil\",\"world/China/China National Petroleum\",\"world/China/China North Industries\",\"world/China/China Ocean Shipping\",\"world/China/China Pacific Insurance\",\"world/China/China Poly Group\",\"world/China/China Post Group\",\"world/China/China Power Investment\",\"world/China/China Railway Construction\",\"world/China/China Railway Engineering\",\"world/China/China Resources National\",\"world/China/China Shipbuilding Industry\",\"world/China/China South Industries Group\",\"world/China/China Southern Power Grid\",\"world/China/China State Construction Engineering\",\"world/China/China State Shipbuilding\",\"world/China/China Telecommunications\",\"world/China/China United Network Communications\",\"world/China/China Vanke\",\"world/France/Christian Dior\",\"world/Switzerland/Chubb\",\"world/Japan/Chubu Electric Power\",\"world/USA/Cigna\",\"world/USA/Cisco Systems\",\"world/USA/Citigroup\",\"world/USA/Coca-Cola\",\"world/USA/Comcast\",\"world/Australia/Commonwealth Bank\",\"world/Taiwan/Compal Electronics\",\"world/Britain/Compass Group\",\"world/USA/ConocoPhillips\",\"world/Germany/Continental\",\"world/Switzerland/Coop Group\",\"world/USA/Costco\",\"world/China/Country Garden Holdings\",\"world/France/Credit Agricole\",\"world/Switzerland/Credit Suisse Group\",\"world/Germany/DZ Bank\",\"world/Japan/Dai-ichi Life Insurance\",\"world/Germany/Daimler\",\"world/Japan/Daiwa House Industry\",\"world/China/Dalian Wanda Group\",\"world/France/Danone\",\"world/China/Datong Coal Mine Group\",\"world/USA/Deere\",\"world/USA/Dell Technologies\",\"world/USA/Delta Air Lines\",\"world/Japan/Denso\",\"world/Germany/Deutsche Bahn\",\"world/Germany/Deutsche Bank\",\"world/Germany/Deutsche Post\",\"world/Germany/Deutsche Telekom\",\"world/USA/Dollar General\",\"world/China/Dongfeng Motor Group\",\"world/USA/Dow Chemical\",\"world/USA/DuPont\",\"world/USA/Duke Energy\",\"world/Germany/E.ON\",\"world/Italy/ENI\",\"world/Italy/EXOR Group\",\"world/Japan/East Japan Railway\",\"world/Germany/Edeka Zentrale\",\"world/U.A.E/Emirates Group\",\"world/Canada/Enbridge\",\"world/Italy/Enel\",\"world/USA/Energy Transfer Equity\",\"world/USA/Enterprise Products\",\"world/Sweden/Ericsson\",\"world/China/Evergrande Real Estate Group\",\"world/USA/Exelon\",\"world/USA/Express Scripts Holding\",\"world/USA/Exxon Mobil\",\"world/USA/Facebook\",\"world/USA/Fannie Mae\",\"world/USA/FedEx\",\"world/France/Finatis\",\"world/Singapore/Flextronics International\",\"world/USA/Ford Motor\",\"world/USA/Freddie Mac\",\"world/Germany/Fresenius\",\"world/Japan/Fuji Heavy Industries\",\"world/Japan/Fujitsu\",\"world/France/GDF Suez\",\"world/South Korea/GS Caltex\",\"world/Spain/Gas Natural Fenosa\",\"world/Russia/Gazprom\",\"world/USA/General Dynamics\",\"world/USA/General Electric\",\"world/USA/General Motors\",\"world/USA/Gilead Sciences\",\"world/Britain/GlaxoSmithKline\",\"world/Switzerland/Glencore\",\"world/USA/Goldman Sachs Group\",\"world/China/Greenland Holding Group\",\"world/France/Groupe Auchan\",\"world/France/Groupe BPCE\",\"world/China/Guangzhou Automobile Industry Group\",\"world/Sweden/H & M Hennes & Mauritz\",\"world/USA/HCA Holdings\",\"world/China/HNA Group\",\"world/USA/HP\",\"world/Britain/HSBC Holdings\",\"world/South Korea/Hanwha\",\"world/China/HeBei Iron & Steel Group\",\"world/Netherlands/Heineken Holding\",\"world/China/Hengli Group\",\"world/Germany/Heraeus Holding\",\"world/USA/Hewlett Packard Enterprise\",\"world/India/Hindustan Petroleum\",\"world/Japan/Hitachi\",\"world/USA/Home Depot\",\"world/Taiwan/Hon Hai Precision Industry\",\"world/Japan/Honda Motor\",\"world/USA/Honeywell International\",\"world/China/Huawei Investment & Holding\",\"world/USA/Humana\",\"world/South Korea/Hyundai Heavy Industries\",\"world/South Korea/Hyundai Mobis\",\"world/South Korea/Hyundai Motor\",\"world/USA/IBM\",\"world/Netherlands/ING Group\",\"world/Spain/Iberdrola\",\"world/Japan/Idemitsu Kosan\",\"world/India/Indian Oil\",\"world/Spain/Inditex\",\"world/China/Industrial & Commer. Bank of China\",\"world/China/Industrial Bank\",\"world/USA/Intel\",\"world/Britain/International Airlines Group\",\"world/Italy/Intesa Sanpaolo\",\"world/Brazil/Ita\\u00fa Unibanco Holding\",\"world/Japan/Itochu\",\"world/Brazil/JBS\",\"world/China/JD.Com\",\"world/Japan/JFE Holdings\",\"world/USA/JP Morgan Chase\",\"world/Japan/JX Holdings\",\"world/Japan/Japan Post Holdings\",\"world/China/Jardine Matheson\",\"world/China/Jiangsu Shagang Group\",\"world/China/Jiangxi Copper\",\"world/China/Jizhong Energy Group\",\"world/USA/Johnson & Johnson\",\"world/Ireland/Johnson Controls International\",\"world/Japan/KDDI\",\"world/Japan/Kansai Electric Power\",\"world/South Korea/Kia Motors\",\"world/South Korea/Korea Electric Power\",\"world/Turkey/Ko\\u00e7 Holding\",\"world/USA/Kraft Heinz\",\"world/USA/Kroger\",\"world/France/L'Oreal\",\"world/South Korea/LG Display\",\"world/South Korea/LG Electronics\",\"world/France/La Poste\",\"world/Switzerland/LafargeHolcim\",\"world/Britain/Legal & General Group\",\"world/China/Lenovo Group\",\"world/USA/Liberty Mutual Insurance Group\",\"world/Britain/Lloyds Banking Group\",\"world/USA/Lockheed Martin\",\"world/South Korea/Lotte Shopping\",\"world/Netherlands/Louis Dreyfus Commodities\",\"world/USA/Lowe's\",\"world/Germany/Lufthansa Group\",\"world/Russia/Lukoil\",\"world/Netherlands/LyondellBasell Industries\",\"world/Japan/MS&AD Insurance\",\"world/USA/Macy's\",\"world/Canada/Magna International\",\"world/Canada/Manulife Financial\",\"world/Spain/Mapfre Group\",\"world/USA/Marathon Petroleum\",\"world/Japan/Marubeni\",\"world/USA/Massachusetts Mutual Life\",\"world/Japan/Mazda Motor\",\"world/USA/McDonald's\",\"world/USA/McKesson\",\"world/Japan/Medipal Holdings\",\"world/Ireland/Medtronic\",\"world/Japan/Meiji Yasuda Life Insurance\",\"world/Venezuela/Mercantil Servicios Financieros\",\"world/USA/Merck\",\"world/USA/MetLife\",\"world/Germany/Metro\",\"world/France/Michelin\",\"world/USA/Microsoft\",\"world/China/Midea Group\",\"world/Switzerland/Migros Group\",\"world/Japan/Mitsubishi Chemical Holdings\",\"world/Japan/Mitsubishi Corp.\",\"world/Japan/Mitsubishi Electric\",\"world/Japan/Mitsubishi Heavy Industries\",\"world/Japan/Mitsubishi UFJ Financial Group\",\"world/Japan/Mitsui\",\"world/Japan/Mizuho Financial Group\",\"world/USA/Mondelez International\",\"world/USA/Morgan Stanley\",\"world/Britain/Morrisons\",\"world/Germany/Munich Re\",\"world/Japan/NEC\",\"world/Australia/National Australia Bank\",\"world/Britain/National Grid\",\"world/USA/Nationwide\",\"world/Switzerland/Nestl\\u00e9\",\"world/China/New China Life Insurance\",\"world/USA/New York Life Insurance\",\"world/USA/Nike\",\"world/Japan/Nippon Life Insurance\",\"world/Japan/Nippon Steel & Sumitomo Metal\",\"world/Japan/Nippon Tel. & Tel.\",\"world/Japan/Nissan Motor\",\"world/China/Noble Group\",\"world/Finland/Nokia\",\"world/USA/Northrop Grumman\",\"world/USA/Northwestern Mutual\",\"world/Switzerland/Novartis\",\"world/Britain/Old Mutual\",\"world/Canada/Onex\",\"world/USA/Oracle\",\"world/France/Orange\",\"world/South Korea/POSCO\",\"world/Thailand/PTT\",\"world/China/Pacific Construction Group\",\"world/Japan/Panasonic\",\"world/Taiwan/Pegatron\",\"world/Mexico/Pemex\",\"world/China/People's Insurance Co. of China\",\"world/USA/PepsiCo\",\"world/Indonesia/Pertamina\",\"world/Brazil/Petrobras\",\"world/Malaysia/Petronas\",\"world/France/Peugeot\",\"world/USA/Pfizer\",\"world/USA/Philip Morris International\",\"world/USA/Phillips 66\",\"world/Germany/Phoenix Pharmahandel\",\"world/China/Ping An Insurance\",\"world/Italy/Poste Italiane\",\"world/China/Power China\",\"world/Canada/Power Corp. of Canada\",\"world/USA/Procter & Gamble\",\"world/USA/Progressive\",\"world/USA/Prudential Financial\",\"world/Britain/Prudential plc\",\"world/USA/Publix Super Markets\",\"world/USA/Qualcomm\",\"world/Taiwan/Quanta Computer\",\"world/Germany/RWE\",\"world/Netherlands/Rabobank\",\"world/India/Rajesh Exports\",\"world/Netherlands/Randstad Holding\",\"world/USA/Raytheon\",\"world/India/Reliance Industries\",\"world/France/Renault\",\"world/Spain/Repsol\",\"world/Britain/Rio Tinto Group\",\"world/USA/Rite Aid\",\"world/Switzerland/Roche Group\",\"world/Russia/Rosneft Oil\",\"world/Netherlands/Royal Ahold\",\"world/Canada/Royal Bank of Canada\",\"world/Netherlands/Royal Dutch Shell\",\"world/Netherlands/Royal Philips\",\"world/Saudi Arabia/SABIC\",\"world/China/SAIC Motor\",\"world/Germany/SAP\",\"world/South Korea/SK Holdings\",\"world/France/SNCF\",\"world/Britain/SSE\",\"world/Britain/Sainsbury's\",\"world/France/Saint-Gobain\",\"world/South Korea/Samsung C&T\",\"world/South Korea/Samsung Electronics\",\"world/South Korea/Samsung Life Insurance\",\"world/France/Sanofi\",\"world/Russia/Sberbank\",\"world/USA/Schlumberger\",\"world/France/Schneider Electric\",\"world/USA/Sears Holdings\",\"world/Japan/Seven & I Holdings\",\"world/China/Shaanxi Coal & Chemical Industry\",\"world/China/Shaanxi Yanchang Petroleum\",\"world/China/Shandong Energy Group\",\"world/China/Shandong Weiqiao Pioneering\",\"world/China/Shanghai Pudong Devel. Bank\",\"world/China/Shanxi Coking Coal Group\",\"world/China/Shanxi Jincheng Anthracite Coal Mining\",\"world/China/Shanxi LuAn Mining Group\",\"world/China/Shenhua Group\",\"world/Germany/Siemens\",\"world/China/Sinochem\",\"world/China/Sinomach\",\"world/China/Sinopec Group\",\"world/China/Sinopharm\",\"world/France/Societe Generale\",\"world/France/Sodexo\",\"world/Japan/SoftBank Group\",\"world/Japan/Sompo Japan Nipponkoa\",\"world/Japan/Sony\",\"world/Britain/Standard Life\",\"world/India/State Bank of India\",\"world/USA/State Farm Insurance Cos.\",\"world/China/State Grid\",\"world/Norway/Statoil\",\"world/Japan/Sumitomo\",\"world/Japan/Sumitomo Electric Industries\",\"world/Japan/Sumitomo Life Insurance\",\"world/Japan/Sumitomo Mitsui Financial Group\",\"world/China/Suning Commerce Group\",\"world/Japan/Suzuki Motor\",\"world/Switzerland/Swiss Re\",\"world/USA/Sysco\",\"world/USA/TIAA-CREF\",\"world/USA/TJX\",\"world/Germany/TUI\",\"world/Taiwan/Taiwan Semiconductor\",\"world/Germany/Talanx\",\"world/USA/Target\",\"world/India/Tata Motors\",\"world/USA/Tech Data\",\"world/Italy/Telecom Italia\",\"world/Spain/Telefonica\",\"world/China/Tencent Holdings\",\"world/Britain/Tesco\",\"world/USA/Tesoro\",\"world/Israel/Teva Pharmaceutical Industries\",\"world/China/Tewoo Group\",\"world/Germany/ThyssenKrupp\",\"world/USA/Time Warner\",\"world/Japan/Tokio Marine Holdings\",\"world/Japan/Tokyo Electric Power\",\"world/Canada/Toronto-Dominion Bank\",\"world/France/Total\",\"world/Japan/Toyota Motor\",\"world/Netherlands/Trafigura Beheer\",\"world/USA/Travelers\",\"world/USA/Twenty-First Century Fox\",\"world/USA/Tyson Foods\",\"world/USA/U.S. Bancorp\",\"world/USA/U.S. Postal Service\",\"world/Switzerland/UBS Group\",\"world/USA/UPS\",\"world/USA/US Foods Holding\",\"world/Brazil/Ultrapar Holdings\",\"world/Italy/UniCredit Group\",\"world/Britain/Netherlands/Unilever\",\"world/Germany/Uniper\",\"world/USA/United Continental Holdings\",\"world/USA/United Services Auto. Assn.\",\"world/USA/United Technologies\",\"world/USA/UnitedHealth Group\",\"world/Brazil/Vale\",\"world/USA/Valero Energy\",\"world/France/Veolia Environnement\",\"world/USA/Verizon\",\"world/France/Vinci\",\"world/Britain/Vodafone Group\",\"world/Germany/Volkswagen\",\"world/Sweden/Volvo\",\"world/USA/Walgreens\",\"world/USA/Walmart\",\"world/USA/Walt Disney\",\"world/USA/Wells Fargo\",\"world/Australia/Wesfarmers\",\"world/Canada/Weston\",\"world/Australia/Westpac Banking\",\"world/Singapore/Wilmar International\",\"world/Australia/Woolworths\",\"world/USA/World Fuel Services\",\"world/China/Xiamen C&D\",\"world/China/Xiamen ITG Holding Group\",\"world/China/Xinjiang Guanghui Industry Investment\",\"world/China/Xinxing Cathay International\",\"world/China/Yango Financial Holding\",\"world/China/Yangquan Coal Industry Group\",\"world/Germany/ZF Friedrichshafen\",\"world/China/Zhejiang Geely Holding Group\",\"world/China/Zhejiang Materials Industry Group\",\"world/Switzerland/Zurich Insurance Group\",\"world/France/\\u00c9lectricit\\u00e9 de France\",\"world/Australia\",\"world/Belgium\",\"world/Brazil\",\"world/Britain\",\"world/Britain/Netherlands\",\"world/Canada\",\"world/China\",\"world/Denmark\",\"world/Finland\",\"world/France\",\"world/Germany\",\"world/India\",\"world/Indonesia\",\"world/Ireland\",\"world/Israel\",\"world/Italy\",\"world/Japan\",\"world/Luxembourg\",\"world/Malaysia\",\"world/Mexico\",\"world/Netherlands\",\"world/Norway\",\"world/Russia\",\"world/Saudi Arabia\",\"world/Singapore\",\"world/South Korea\",\"world/Spain\",\"world/Sweden\",\"world/Switzerland\",\"world/Taiwan\",\"world/Thailand\",\"world/Turkey\",\"world/U.A.E\",\"world/USA\",\"world/Venezuela\",\"world\"],\"labels\":[\"3M\",\"A.P. M\\u00f8ller-M\\u00e6rsk A/S\",\"ABB\",\"ACS\",\"AEON\",\"AIA Group\",\"AIG\",\"AT&T\",\"AXA\",\"AbbVie\",\"Accenture\",\"Achmea\",\"Adecco Group\",\"Aegon\",\"Aetna\",\"Aflac\",\"Agricultural Bank of China\",\"Air France-KLM Group\",\"Airbus Group\",\"Aisin Seiki\",\"Albertsons Cos.\",\"Alfresa Holdings\",\"Alibaba Group Holding\",\"Alimentation Couche-Tard\",\"Allianz\",\"Allstate\",\"Alphabet\",\"Altice\",\"Aluminum Corp. of China\",\"Amazon.com\",\"Amer International Group\",\"America Movil\",\"American Airlines Group\",\"American Express\",\"AmerisourceBergen\",\"Amgen\",\"Anbang Insurance Group\",\"Anheuser-Busch InBev\",\"Anthem\",\"Apple\",\"ArcelorMittal\",\"Archer Daniels Midland\",\"Arrow Electronics\",\"Assicurazioni Generali\",\"AstraZeneca\",\"Australia & New Zeal. Bnkg.\",\"AutoNation\",\"Aviation Industry Corp. of China\",\"Aviva\",\"Avnet\",\"BAE Systems\",\"BASF\",\"BHP Billiton\",\"BMW\",\"BNP Paribas\",\"BP\",\"BT Group\",\"Banco Bilbao Vizcaya Argentaria\",\"Banco Bradesco\",\"Banco Santander\",\"Banco do Brasil\",\"Bank of America Corp.\",\"Bank of China\",\"Bank of Communications\",\"Bank of Nova Scotia\",\"Baosteel Group\",\"Barclays\",\"Bayer\",\"Beijing Automotive Group\",\"Berkshire Hathaway\",\"Best Buy\",\"Bharat Petroleum\",\"Boeing\",\"Bosch\",\"Bouygues\",\"Bridgestone\",\"Brookfield Asset Management\",\"Bunge\",\"CEFC China Energy\",\"CHS\",\"CITIC Group\",\"CK Hutchison Holdings\",\"CNP Assurances\",\"COFCO\",\"CRH\",\"CRRC\",\"CVS Health\",\"Canon\",\"Capital One Financial\",\"Cardinal Health\",\"Carrefour\",\"Caterpillar\",\"Cathay Life Insurance\",\"Centene\",\"Centrica\",\"Charter Communications\",\"ChemChina\",\"Chevron\",\"China Aerospace Science & Industry\",\"China Aerospace Science & Technology\",\"China Communications Construction\",\"China Construction Bank\",\"China Datang\",\"China Electronics\",\"China Electronics Technology Group\",\"China Energy Engineering\",\"China Everbright Group\",\"China FAW Group\",\"China General Technology\",\"China Guodian\",\"China Huadian\",\"China Huaneng Group\",\"China Life Insurance\",\"China Merchants Bank\",\"China Minmetals\",\"China Minsheng Banking\",\"China Mobile Communications\",\"China National Aviation Fuel Group\",\"China National Bldg. Materials Group\",\"China National Offshore Oil\",\"China National Petroleum\",\"China North Industries\",\"China Ocean Shipping\",\"China Pacific Insurance\",\"China Poly Group\",\"China Post Group\",\"China Power Investment\",\"China Railway Construction\",\"China Railway Engineering\",\"China Resources National\",\"China Shipbuilding Industry\",\"China South Industries Group\",\"China Southern Power Grid\",\"China State Construction Engineering\",\"China State Shipbuilding\",\"China Telecommunications\",\"China United Network Communications\",\"China Vanke\",\"Christian Dior\",\"Chubb\",\"Chubu Electric Power\",\"Cigna\",\"Cisco Systems\",\"Citigroup\",\"Coca-Cola\",\"Comcast\",\"Commonwealth Bank\",\"Compal Electronics\",\"Compass Group\",\"ConocoPhillips\",\"Continental\",\"Coop Group\",\"Costco\",\"Country Garden Holdings\",\"Credit Agricole\",\"Credit Suisse Group\",\"DZ Bank\",\"Dai-ichi Life Insurance\",\"Daimler\",\"Daiwa House Industry\",\"Dalian Wanda Group\",\"Danone\",\"Datong Coal Mine Group\",\"Deere\",\"Dell Technologies\",\"Delta Air Lines\",\"Denso\",\"Deutsche Bahn\",\"Deutsche Bank\",\"Deutsche Post\",\"Deutsche Telekom\",\"Dollar General\",\"Dongfeng Motor Group\",\"Dow Chemical\",\"DuPont\",\"Duke Energy\",\"E.ON\",\"ENI\",\"EXOR Group\",\"East Japan Railway\",\"Edeka Zentrale\",\"Emirates Group\",\"Enbridge\",\"Enel\",\"Energy Transfer Equity\",\"Enterprise Products\",\"Ericsson\",\"Evergrande Real Estate Group\",\"Exelon\",\"Express Scripts Holding\",\"Exxon Mobil\",\"Facebook\",\"Fannie Mae\",\"FedEx\",\"Finatis\",\"Flextronics International\",\"Ford Motor\",\"Freddie Mac\",\"Fresenius\",\"Fuji Heavy Industries\",\"Fujitsu\",\"GDF Suez\",\"GS Caltex\",\"Gas Natural Fenosa\",\"Gazprom\",\"General Dynamics\",\"General Electric\",\"General Motors\",\"Gilead Sciences\",\"GlaxoSmithKline\",\"Glencore\",\"Goldman Sachs Group\",\"Greenland Holding Group\",\"Groupe Auchan\",\"Groupe BPCE\",\"Guangzhou Automobile Industry Group\",\"H & M Hennes & Mauritz\",\"HCA Holdings\",\"HNA Group\",\"HP\",\"HSBC Holdings\",\"Hanwha\",\"HeBei Iron & Steel Group\",\"Heineken Holding\",\"Hengli Group\",\"Heraeus Holding\",\"Hewlett Packard Enterprise\",\"Hindustan Petroleum\",\"Hitachi\",\"Home Depot\",\"Hon Hai Precision Industry\",\"Honda Motor\",\"Honeywell International\",\"Huawei Investment & Holding\",\"Humana\",\"Hyundai Heavy Industries\",\"Hyundai Mobis\",\"Hyundai Motor\",\"IBM\",\"ING Group\",\"Iberdrola\",\"Idemitsu Kosan\",\"Indian Oil\",\"Inditex\",\"Industrial & Commer. Bank of China\",\"Industrial Bank\",\"Intel\",\"International Airlines Group\",\"Intesa Sanpaolo\",\"Ita\\u00fa Unibanco Holding\",\"Itochu\",\"JBS\",\"JD.Com\",\"JFE Holdings\",\"JP Morgan Chase\",\"JX Holdings\",\"Japan Post Holdings\",\"Jardine Matheson\",\"Jiangsu Shagang Group\",\"Jiangxi Copper\",\"Jizhong Energy Group\",\"Johnson & Johnson\",\"Johnson Controls International\",\"KDDI\",\"Kansai Electric Power\",\"Kia Motors\",\"Korea Electric Power\",\"Ko\\u00e7 Holding\",\"Kraft Heinz\",\"Kroger\",\"L'Oreal\",\"LG Display\",\"LG Electronics\",\"La Poste\",\"LafargeHolcim\",\"Legal & General Group\",\"Lenovo Group\",\"Liberty Mutual Insurance Group\",\"Lloyds Banking Group\",\"Lockheed Martin\",\"Lotte Shopping\",\"Louis Dreyfus Commodities\",\"Lowe's\",\"Lufthansa Group\",\"Lukoil\",\"LyondellBasell Industries\",\"MS&AD Insurance\",\"Macy's\",\"Magna International\",\"Manulife Financial\",\"Mapfre Group\",\"Marathon Petroleum\",\"Marubeni\",\"Massachusetts Mutual Life\",\"Mazda Motor\",\"McDonald's\",\"McKesson\",\"Medipal Holdings\",\"Medtronic\",\"Meiji Yasuda Life Insurance\",\"Mercantil Servicios Financieros\",\"Merck\",\"MetLife\",\"Metro\",\"Michelin\",\"Microsoft\",\"Midea Group\",\"Migros Group\",\"Mitsubishi Chemical Holdings\",\"Mitsubishi Corp.\",\"Mitsubishi Electric\",\"Mitsubishi Heavy Industries\",\"Mitsubishi UFJ Financial Group\",\"Mitsui\",\"Mizuho Financial Group\",\"Mondelez International\",\"Morgan Stanley\",\"Morrisons\",\"Munich Re\",\"NEC\",\"National Australia Bank\",\"National Grid\",\"Nationwide\",\"Nestl\\u00e9\",\"New China Life Insurance\",\"New York Life Insurance\",\"Nike\",\"Nippon Life Insurance\",\"Nippon Steel & Sumitomo Metal\",\"Nippon Tel. & Tel.\",\"Nissan Motor\",\"Noble Group\",\"Nokia\",\"Northrop Grumman\",\"Northwestern Mutual\",\"Novartis\",\"Old Mutual\",\"Onex\",\"Oracle\",\"Orange\",\"POSCO\",\"PTT\",\"Pacific Construction Group\",\"Panasonic\",\"Pegatron\",\"Pemex\",\"People's Insurance Co. of China\",\"PepsiCo\",\"Pertamina\",\"Petrobras\",\"Petronas\",\"Peugeot\",\"Pfizer\",\"Philip Morris International\",\"Phillips 66\",\"Phoenix Pharmahandel\",\"Ping An Insurance\",\"Poste Italiane\",\"Power China\",\"Power Corp. of Canada\",\"Procter & Gamble\",\"Progressive\",\"Prudential Financial\",\"Prudential plc\",\"Publix Super Markets\",\"Qualcomm\",\"Quanta Computer\",\"RWE\",\"Rabobank\",\"Rajesh Exports\",\"Randstad Holding\",\"Raytheon\",\"Reliance Industries\",\"Renault\",\"Repsol\",\"Rio Tinto Group\",\"Rite Aid\",\"Roche Group\",\"Rosneft Oil\",\"Royal Ahold\",\"Royal Bank of Canada\",\"Royal Dutch Shell\",\"Royal Philips\",\"SABIC\",\"SAIC Motor\",\"SAP\",\"SK Holdings\",\"SNCF\",\"SSE\",\"Sainsbury's\",\"Saint-Gobain\",\"Samsung C&T\",\"Samsung Electronics\",\"Samsung Life Insurance\",\"Sanofi\",\"Sberbank\",\"Schlumberger\",\"Schneider Electric\",\"Sears Holdings\",\"Seven & I Holdings\",\"Shaanxi Coal & Chemical Industry\",\"Shaanxi Yanchang Petroleum\",\"Shandong Energy Group\",\"Shandong Weiqiao Pioneering\",\"Shanghai Pudong Devel. Bank\",\"Shanxi Coking Coal Group\",\"Shanxi Jincheng Anthracite Coal Mining\",\"Shanxi LuAn Mining Group\",\"Shenhua Group\",\"Siemens\",\"Sinochem\",\"Sinomach\",\"Sinopec Group\",\"Sinopharm\",\"Societe Generale\",\"Sodexo\",\"SoftBank Group\",\"Sompo Japan Nipponkoa\",\"Sony\",\"Standard Life\",\"State Bank of India\",\"State Farm Insurance Cos.\",\"State Grid\",\"Statoil\",\"Sumitomo\",\"Sumitomo Electric Industries\",\"Sumitomo Life Insurance\",\"Sumitomo Mitsui Financial Group\",\"Suning Commerce Group\",\"Suzuki Motor\",\"Swiss Re\",\"Sysco\",\"TIAA-CREF\",\"TJX\",\"TUI\",\"Taiwan Semiconductor\",\"Talanx\",\"Target\",\"Tata Motors\",\"Tech Data\",\"Telecom Italia\",\"Telefonica\",\"Tencent Holdings\",\"Tesco\",\"Tesoro\",\"Teva Pharmaceutical Industries\",\"Tewoo Group\",\"ThyssenKrupp\",\"Time Warner\",\"Tokio Marine Holdings\",\"Tokyo Electric Power\",\"Toronto-Dominion Bank\",\"Total\",\"Toyota Motor\",\"Trafigura Beheer\",\"Travelers\",\"Twenty-First Century Fox\",\"Tyson Foods\",\"U.S. Bancorp\",\"U.S. Postal Service\",\"UBS Group\",\"UPS\",\"US Foods Holding\",\"Ultrapar Holdings\",\"UniCredit Group\",\"Unilever\",\"Uniper\",\"United Continental Holdings\",\"United Services Auto. Assn.\",\"United Technologies\",\"UnitedHealth Group\",\"Vale\",\"Valero Energy\",\"Veolia Environnement\",\"Verizon\",\"Vinci\",\"Vodafone Group\",\"Volkswagen\",\"Volvo\",\"Walgreens\",\"Walmart\",\"Walt Disney\",\"Wells Fargo\",\"Wesfarmers\",\"Weston\",\"Westpac Banking\",\"Wilmar International\",\"Woolworths\",\"World Fuel Services\",\"Xiamen C&D\",\"Xiamen ITG Holding Group\",\"Xinjiang Guanghui Industry Investment\",\"Xinxing Cathay International\",\"Yango Financial Holding\",\"Yangquan Coal Industry Group\",\"ZF Friedrichshafen\",\"Zhejiang Geely Holding Group\",\"Zhejiang Materials Industry Group\",\"Zurich Insurance Group\",\"\\u00c9lectricit\\u00e9 de France\",\"Australia\",\"Belgium\",\"Brazil\",\"Britain\",\"Britain/Netherlands\",\"Canada\",\"China\",\"Denmark\",\"Finland\",\"France\",\"Germany\",\"India\",\"Indonesia\",\"Ireland\",\"Israel\",\"Italy\",\"Japan\",\"Luxembourg\",\"Malaysia\",\"Mexico\",\"Netherlands\",\"Norway\",\"Russia\",\"Saudi Arabia\",\"Singapore\",\"South Korea\",\"Spain\",\"Sweden\",\"Switzerland\",\"Taiwan\",\"Thailand\",\"Turkey\",\"U.A.E\",\"USA\",\"Venezuela\",\"world\"],\"name\":\"\",\"parents\":[\"world/USA\",\"world/Denmark\",\"world/Switzerland\",\"world/Spain\",\"world/Japan\",\"world/China\",\"world/USA\",\"world/USA\",\"world/France\",\"world/USA\",\"world/Ireland\",\"world/Netherlands\",\"world/Switzerland\",\"world/Netherlands\",\"world/USA\",\"world/USA\",\"world/China\",\"world/France\",\"world/Netherlands\",\"world/Japan\",\"world/USA\",\"world/Japan\",\"world/China\",\"world/Canada\",\"world/Germany\",\"world/USA\",\"world/USA\",\"world/Netherlands\",\"world/China\",\"world/USA\",\"world/China\",\"world/Mexico\",\"world/USA\",\"world/USA\",\"world/USA\",\"world/USA\",\"world/China\",\"world/Belgium\",\"world/USA\",\"world/USA\",\"world/Luxembourg\",\"world/USA\",\"world/USA\",\"world/Italy\",\"world/Britain\",\"world/Australia\",\"world/USA\",\"world/China\",\"world/Britain\",\"world/USA\",\"world/Britain\",\"world/Germany\",\"world/Australia\",\"world/Germany\",\"world/France\",\"world/Britain\",\"world/Britain\",\"world/Spain\",\"world/Brazil\",\"world/Spain\",\"world/Brazil\",\"world/USA\",\"world/China\",\"world/China\",\"world/Canada\",\"world/China\",\"world/Britain\",\"world/Germany\",\"world/China\",\"world/USA\",\"world/USA\",\"world/India\",\"world/USA\",\"world/Germany\",\"world/France\",\"world/Japan\",\"world/Canada\",\"world/USA\",\"world/China\",\"world/USA\",\"world/China\",\"world/China\",\"world/France\",\"world/China\",\"world/Ireland\",\"world/China\",\"world/USA\",\"world/Japan\",\"world/USA\",\"world/USA\",\"world/France\",\"world/USA\",\"world/Taiwan\",\"world/USA\",\"world/Britain\",\"world/USA\",\"world/China\",\"world/USA\",\"world/China\",\"world/China\",\"world/China\",\"world/China\",\"world/China\",\"world/China\",\"world/China\",\"world/China\",\"world/China\",\"world/China\",\"world/China\",\"world/China\",\"world/China\",\"world/China\",\"world/China\",\"world/China\",\"world/China\",\"world/China\",\"world/China\",\"world/China\",\"world/China\",\"world/China\",\"world/China\",\"world/China\",\"world/China\",\"world/China\",\"world/China\",\"world/China\",\"world/China\",\"world/China\",\"world/China\",\"world/China\",\"world/China\",\"world/China\",\"world/China\",\"world/China\",\"world/China\",\"world/China\",\"world/China\",\"world/China\",\"world/France\",\"world/Switzerland\",\"world/Japan\",\"world/USA\",\"world/USA\",\"world/USA\",\"world/USA\",\"world/USA\",\"world/Australia\",\"world/Taiwan\",\"world/Britain\",\"world/USA\",\"world/Germany\",\"world/Switzerland\",\"world/USA\",\"world/China\",\"world/France\",\"world/Switzerland\",\"world/Germany\",\"world/Japan\",\"world/Germany\",\"world/Japan\",\"world/China\",\"world/France\",\"world/China\",\"world/USA\",\"world/USA\",\"world/USA\",\"world/Japan\",\"world/Germany\",\"world/Germany\",\"world/Germany\",\"world/Germany\",\"world/USA\",\"world/China\",\"world/USA\",\"world/USA\",\"world/USA\",\"world/Germany\",\"world/Italy\",\"world/Italy\",\"world/Japan\",\"world/Germany\",\"world/U.A.E\",\"world/Canada\",\"world/Italy\",\"world/USA\",\"world/USA\",\"world/Sweden\",\"world/China\",\"world/USA\",\"world/USA\",\"world/USA\",\"world/USA\",\"world/USA\",\"world/USA\",\"world/France\",\"world/Singapore\",\"world/USA\",\"world/USA\",\"world/Germany\",\"world/Japan\",\"world/Japan\",\"world/France\",\"world/South Korea\",\"world/Spain\",\"world/Russia\",\"world/USA\",\"world/USA\",\"world/USA\",\"world/USA\",\"world/Britain\",\"world/Switzerland\",\"world/USA\",\"world/China\",\"world/France\",\"world/France\",\"world/China\",\"world/Sweden\",\"world/USA\",\"world/China\",\"world/USA\",\"world/Britain\",\"world/South Korea\",\"world/China\",\"world/Netherlands\",\"world/China\",\"world/Germany\",\"world/USA\",\"world/India\",\"world/Japan\",\"world/USA\",\"world/Taiwan\",\"world/Japan\",\"world/USA\",\"world/China\",\"world/USA\",\"world/South Korea\",\"world/South Korea\",\"world/South Korea\",\"world/USA\",\"world/Netherlands\",\"world/Spain\",\"world/Japan\",\"world/India\",\"world/Spain\",\"world/China\",\"world/China\",\"world/USA\",\"world/Britain\",\"world/Italy\",\"world/Brazil\",\"world/Japan\",\"world/Brazil\",\"world/China\",\"world/Japan\",\"world/USA\",\"world/Japan\",\"world/Japan\",\"world/China\",\"world/China\",\"world/China\",\"world/China\",\"world/USA\",\"world/Ireland\",\"world/Japan\",\"world/Japan\",\"world/South Korea\",\"world/South Korea\",\"world/Turkey\",\"world/USA\",\"world/USA\",\"world/France\",\"world/South Korea\",\"world/South Korea\",\"world/France\",\"world/Switzerland\",\"world/Britain\",\"world/China\",\"world/USA\",\"world/Britain\",\"world/USA\",\"world/South Korea\",\"world/Netherlands\",\"world/USA\",\"world/Germany\",\"world/Russia\",\"world/Netherlands\",\"world/Japan\",\"world/USA\",\"world/Canada\",\"world/Canada\",\"world/Spain\",\"world/USA\",\"world/Japan\",\"world/USA\",\"world/Japan\",\"world/USA\",\"world/USA\",\"world/Japan\",\"world/Ireland\",\"world/Japan\",\"world/Venezuela\",\"world/USA\",\"world/USA\",\"world/Germany\",\"world/France\",\"world/USA\",\"world/China\",\"world/Switzerland\",\"world/Japan\",\"world/Japan\",\"world/Japan\",\"world/Japan\",\"world/Japan\",\"world/Japan\",\"world/Japan\",\"world/USA\",\"world/USA\",\"world/Britain\",\"world/Germany\",\"world/Japan\",\"world/Australia\",\"world/Britain\",\"world/USA\",\"world/Switzerland\",\"world/China\",\"world/USA\",\"world/USA\",\"world/Japan\",\"world/Japan\",\"world/Japan\",\"world/Japan\",\"world/China\",\"world/Finland\",\"world/USA\",\"world/USA\",\"world/Switzerland\",\"world/Britain\",\"world/Canada\",\"world/USA\",\"world/France\",\"world/South Korea\",\"world/Thailand\",\"world/China\",\"world/Japan\",\"world/Taiwan\",\"world/Mexico\",\"world/China\",\"world/USA\",\"world/Indonesia\",\"world/Brazil\",\"world/Malaysia\",\"world/France\",\"world/USA\",\"world/USA\",\"world/USA\",\"world/Germany\",\"world/China\",\"world/Italy\",\"world/China\",\"world/Canada\",\"world/USA\",\"world/USA\",\"world/USA\",\"world/Britain\",\"world/USA\",\"world/USA\",\"world/Taiwan\",\"world/Germany\",\"world/Netherlands\",\"world/India\",\"world/Netherlands\",\"world/USA\",\"world/India\",\"world/France\",\"world/Spain\",\"world/Britain\",\"world/USA\",\"world/Switzerland\",\"world/Russia\",\"world/Netherlands\",\"world/Canada\",\"world/Netherlands\",\"world/Netherlands\",\"world/Saudi Arabia\",\"world/China\",\"world/Germany\",\"world/South Korea\",\"world/France\",\"world/Britain\",\"world/Britain\",\"world/France\",\"world/South Korea\",\"world/South Korea\",\"world/South Korea\",\"world/France\",\"world/Russia\",\"world/USA\",\"world/France\",\"world/USA\",\"world/Japan\",\"world/China\",\"world/China\",\"world/China\",\"world/China\",\"world/China\",\"world/China\",\"world/China\",\"world/China\",\"world/China\",\"world/Germany\",\"world/China\",\"world/China\",\"world/China\",\"world/China\",\"world/France\",\"world/France\",\"world/Japan\",\"world/Japan\",\"world/Japan\",\"world/Britain\",\"world/India\",\"world/USA\",\"world/China\",\"world/Norway\",\"world/Japan\",\"world/Japan\",\"world/Japan\",\"world/Japan\",\"world/China\",\"world/Japan\",\"world/Switzerland\",\"world/USA\",\"world/USA\",\"world/USA\",\"world/Germany\",\"world/Taiwan\",\"world/Germany\",\"world/USA\",\"world/India\",\"world/USA\",\"world/Italy\",\"world/Spain\",\"world/China\",\"world/Britain\",\"world/USA\",\"world/Israel\",\"world/China\",\"world/Germany\",\"world/USA\",\"world/Japan\",\"world/Japan\",\"world/Canada\",\"world/France\",\"world/Japan\",\"world/Netherlands\",\"world/USA\",\"world/USA\",\"world/USA\",\"world/USA\",\"world/USA\",\"world/Switzerland\",\"world/USA\",\"world/USA\",\"world/Brazil\",\"world/Italy\",\"world/Britain/Netherlands\",\"world/Germany\",\"world/USA\",\"world/USA\",\"world/USA\",\"world/USA\",\"world/Brazil\",\"world/USA\",\"world/France\",\"world/USA\",\"world/France\",\"world/Britain\",\"world/Germany\",\"world/Sweden\",\"world/USA\",\"world/USA\",\"world/USA\",\"world/USA\",\"world/Australia\",\"world/Canada\",\"world/Australia\",\"world/Singapore\",\"world/Australia\",\"world/USA\",\"world/China\",\"world/China\",\"world/China\",\"world/China\",\"world/China\",\"world/China\",\"world/Germany\",\"world/China\",\"world/China\",\"world/Switzerland\",\"world/France\",\"world\",\"world\",\"world\",\"world\",\"world\",\"world\",\"world\",\"world\",\"world\",\"world\",\"world\",\"world\",\"world\",\"world\",\"world\",\"world\",\"world\",\"world\",\"world\",\"world\",\"world\",\"world\",\"world\",\"world\",\"world\",\"world\",\"world\",\"world\",\"world\",\"world\",\"world\",\"world\",\"world\",\"world\",\"world\",\"\"],\"values\":[30109,35464,33828,36992,75772,28196,52367,163786,143722,25638,34798,26494,25112,58789,63155,22559,117275,27920,73628,32879,59678,23551,23517,34145,122196,36534,90272,22953,40278,135987,49677,52201,40180,33823,146850,22991,60800,45905,84863,215639,56791,62346,23825,95217,23002,26032,21609,55306,74628,26219,24011,63641,30912,104130,109026,186606,31333,43698,57443,82801,58093,93662,113708,52990,25817,46606,36789,52569,61130,223604,39403,30316,94571,80869,35277,30678,24411,42679,43743,30347,52852,33475,47804,61265,29973,33739,177526,31271,27519,121546,87112,38537,26292,40721,36580,29003,45177,107567,30582,32094,70751,135093,23871,30010,27292,33930,32461,64784,22113,27315,28204,37543,104818,44552,65547,40234,107117,24588,39323,65892,262573,61326,29743,40193,31508,65605,29493,94877,96979,75776,42149,71151,71242,144505,29877,62387,41274,34458,42113,31469,24028,39668,49247,82386,41863,80403,32287,23773,27837,24360,44842,27669,118719,23044,80258,30588,32636,59590,169483,32421,28483,24267,25630,26644,64806,39639,41781,44850,48876,65787,80832,21987,86194,48158,24594,23369,42213,62694,154894,26587,34193,22799,26073,78064,37504,23022,26004,31828,31360,100288,205004,27638,107162,50365,48154,23863,151800,65665,32161,30696,41620,73692,22207,26070,91382,31353,126661,166380,30390,37642,173883,37712,37240,58862,70517,41560,22618,44747,53035,48238,75329,40606,43769,23044,37880,23793,50123,28166,84558,94595,135129,129198,39302,78511,54379,33881,32972,80701,79919,55282,32308,25888,53562,25733,147675,42622,59387,24956,36225,66876,44654,48825,39155,30539,105486,63629,122990,37051,29862,31680,33366,71890,37674,43822,27792,45425,51500,23456,26487,115337,28572,22840,47712,25760,27308,105235,43035,38308,65208,50658,25444,49838,65017,35011,70897,29183,49239,25778,36445,40238,25775,55858,65792,37788,29665,24622,198533,28277,28833,35767,24403,39807,63476,64853,23120,85320,24060,28155,31158,59303,39119,36122,55185,40275,30390,25923,37949,21741,68700,24596,26958,22036,40074,90814,21796,40787,32376,67388,42757,105128,108164,46528,26113,24508,28799,49436,25913,22943,37047,45249,45621,48719,74629,67775,35891,57774,66732,62799,36487,81405,49479,59749,52824,26685,72396,26976,116581,36617,48869,38286,71726,23441,58779,96965,34274,23554,27715,48204,22956,36114,22873,24069,46931,56667,34485,33781,32845,53427,56553,54955,34904,240033,29003,35421,113861,24397,72579,33747,37813,34149,43231,24217,173957,26222,41376,42159,27810,27307,22138,53858,31926,32652,29299,56174,40689,25123,22875,24087,37322,88419,59533,32237,267518,47810,69335,22477,82892,31559,70170,25279,44533,76132,315199,45873,36888,25975,40921,47375,22366,29252,43786,50367,37105,33184,21655,29388,35101,69495,40329,26235,21941,57544,22871,74393,24005,21903,63324,43589,29318,48292,49446,30855,127925,254694,98098,27625,27326,36881,22744,71498,36230,60906,22919,22167,32539,58292,74407,36556,27131,57244,184840,29363,70166,26972,125980,42771,58611,240264,35269,117351,485873,55632,94176,48003,36211,27704,41402,43925,27016,22145,21930,21919,33174,23657,24284,38888,31430,31185,67245,78740,235821,45905,364172,1179837,58292,350328,6038369,35464,26113,1601722,1853535,279951,36487,131278,21903,518191,2711366,56791,49479,109975,807129,45873,260991,35421,65265,745884,365406,83891,718950,278188,48719,23456,22799,8476825,24403,27708179],\"type\":\"treemap\"}],                        {\"template\":{\"data\":{\"bar\":[{\"error_x\":{\"color\":\"#2a3f5f\"},\"error_y\":{\"color\":\"#2a3f5f\"},\"marker\":{\"line\":{\"color\":\"#E5ECF6\",\"width\":0.5},\"pattern\":{\"fillmode\":\"overlay\",\"size\":10,\"solidity\":0.2}},\"type\":\"bar\"}],\"barpolar\":[{\"marker\":{\"line\":{\"color\":\"#E5ECF6\",\"width\":0.5},\"pattern\":{\"fillmode\":\"overlay\",\"size\":10,\"solidity\":0.2}},\"type\":\"barpolar\"}],\"carpet\":[{\"aaxis\":{\"endlinecolor\":\"#2a3f5f\",\"gridcolor\":\"white\",\"linecolor\":\"white\",\"minorgridcolor\":\"white\",\"startlinecolor\":\"#2a3f5f\"},\"baxis\":{\"endlinecolor\":\"#2a3f5f\",\"gridcolor\":\"white\",\"linecolor\":\"white\",\"minorgridcolor\":\"white\",\"startlinecolor\":\"#2a3f5f\"},\"type\":\"carpet\"}],\"choropleth\":[{\"colorbar\":{\"outlinewidth\":0,\"ticks\":\"\"},\"type\":\"choropleth\"}],\"contour\":[{\"colorbar\":{\"outlinewidth\":0,\"ticks\":\"\"},\"colorscale\":[[0.0,\"#0d0887\"],[0.1111111111111111,\"#46039f\"],[0.2222222222222222,\"#7201a8\"],[0.3333333333333333,\"#9c179e\"],[0.4444444444444444,\"#bd3786\"],[0.5555555555555556,\"#d8576b\"],[0.6666666666666666,\"#ed7953\"],[0.7777777777777778,\"#fb9f3a\"],[0.8888888888888888,\"#fdca26\"],[1.0,\"#f0f921\"]],\"type\":\"contour\"}],\"contourcarpet\":[{\"colorbar\":{\"outlinewidth\":0,\"ticks\":\"\"},\"type\":\"contourcarpet\"}],\"heatmap\":[{\"colorbar\":{\"outlinewidth\":0,\"ticks\":\"\"},\"colorscale\":[[0.0,\"#0d0887\"],[0.1111111111111111,\"#46039f\"],[0.2222222222222222,\"#7201a8\"],[0.3333333333333333,\"#9c179e\"],[0.4444444444444444,\"#bd3786\"],[0.5555555555555556,\"#d8576b\"],[0.6666666666666666,\"#ed7953\"],[0.7777777777777778,\"#fb9f3a\"],[0.8888888888888888,\"#fdca26\"],[1.0,\"#f0f921\"]],\"type\":\"heatmap\"}],\"heatmapgl\":[{\"colorbar\":{\"outlinewidth\":0,\"ticks\":\"\"},\"colorscale\":[[0.0,\"#0d0887\"],[0.1111111111111111,\"#46039f\"],[0.2222222222222222,\"#7201a8\"],[0.3333333333333333,\"#9c179e\"],[0.4444444444444444,\"#bd3786\"],[0.5555555555555556,\"#d8576b\"],[0.6666666666666666,\"#ed7953\"],[0.7777777777777778,\"#fb9f3a\"],[0.8888888888888888,\"#fdca26\"],[1.0,\"#f0f921\"]],\"type\":\"heatmapgl\"}],\"histogram\":[{\"marker\":{\"pattern\":{\"fillmode\":\"overlay\",\"size\":10,\"solidity\":0.2}},\"type\":\"histogram\"}],\"histogram2d\":[{\"colorbar\":{\"outlinewidth\":0,\"ticks\":\"\"},\"colorscale\":[[0.0,\"#0d0887\"],[0.1111111111111111,\"#46039f\"],[0.2222222222222222,\"#7201a8\"],[0.3333333333333333,\"#9c179e\"],[0.4444444444444444,\"#bd3786\"],[0.5555555555555556,\"#d8576b\"],[0.6666666666666666,\"#ed7953\"],[0.7777777777777778,\"#fb9f3a\"],[0.8888888888888888,\"#fdca26\"],[1.0,\"#f0f921\"]],\"type\":\"histogram2d\"}],\"histogram2dcontour\":[{\"colorbar\":{\"outlinewidth\":0,\"ticks\":\"\"},\"colorscale\":[[0.0,\"#0d0887\"],[0.1111111111111111,\"#46039f\"],[0.2222222222222222,\"#7201a8\"],[0.3333333333333333,\"#9c179e\"],[0.4444444444444444,\"#bd3786\"],[0.5555555555555556,\"#d8576b\"],[0.6666666666666666,\"#ed7953\"],[0.7777777777777778,\"#fb9f3a\"],[0.8888888888888888,\"#fdca26\"],[1.0,\"#f0f921\"]],\"type\":\"histogram2dcontour\"}],\"mesh3d\":[{\"colorbar\":{\"outlinewidth\":0,\"ticks\":\"\"},\"type\":\"mesh3d\"}],\"parcoords\":[{\"line\":{\"colorbar\":{\"outlinewidth\":0,\"ticks\":\"\"}},\"type\":\"parcoords\"}],\"pie\":[{\"automargin\":true,\"type\":\"pie\"}],\"scatter\":[{\"marker\":{\"colorbar\":{\"outlinewidth\":0,\"ticks\":\"\"}},\"type\":\"scatter\"}],\"scatter3d\":[{\"line\":{\"colorbar\":{\"outlinewidth\":0,\"ticks\":\"\"}},\"marker\":{\"colorbar\":{\"outlinewidth\":0,\"ticks\":\"\"}},\"type\":\"scatter3d\"}],\"scattercarpet\":[{\"marker\":{\"colorbar\":{\"outlinewidth\":0,\"ticks\":\"\"}},\"type\":\"scattercarpet\"}],\"scattergeo\":[{\"marker\":{\"colorbar\":{\"outlinewidth\":0,\"ticks\":\"\"}},\"type\":\"scattergeo\"}],\"scattergl\":[{\"marker\":{\"colorbar\":{\"outlinewidth\":0,\"ticks\":\"\"}},\"type\":\"scattergl\"}],\"scattermapbox\":[{\"marker\":{\"colorbar\":{\"outlinewidth\":0,\"ticks\":\"\"}},\"type\":\"scattermapbox\"}],\"scatterpolar\":[{\"marker\":{\"colorbar\":{\"outlinewidth\":0,\"ticks\":\"\"}},\"type\":\"scatterpolar\"}],\"scatterpolargl\":[{\"marker\":{\"colorbar\":{\"outlinewidth\":0,\"ticks\":\"\"}},\"type\":\"scatterpolargl\"}],\"scatterternary\":[{\"marker\":{\"colorbar\":{\"outlinewidth\":0,\"ticks\":\"\"}},\"type\":\"scatterternary\"}],\"surface\":[{\"colorbar\":{\"outlinewidth\":0,\"ticks\":\"\"},\"colorscale\":[[0.0,\"#0d0887\"],[0.1111111111111111,\"#46039f\"],[0.2222222222222222,\"#7201a8\"],[0.3333333333333333,\"#9c179e\"],[0.4444444444444444,\"#bd3786\"],[0.5555555555555556,\"#d8576b\"],[0.6666666666666666,\"#ed7953\"],[0.7777777777777778,\"#fb9f3a\"],[0.8888888888888888,\"#fdca26\"],[1.0,\"#f0f921\"]],\"type\":\"surface\"}],\"table\":[{\"cells\":{\"fill\":{\"color\":\"#EBF0F8\"},\"line\":{\"color\":\"white\"}},\"header\":{\"fill\":{\"color\":\"#C8D4E3\"},\"line\":{\"color\":\"white\"}},\"type\":\"table\"}]},\"layout\":{\"annotationdefaults\":{\"arrowcolor\":\"#2a3f5f\",\"arrowhead\":0,\"arrowwidth\":1},\"autotypenumbers\":\"strict\",\"coloraxis\":{\"colorbar\":{\"outlinewidth\":0,\"ticks\":\"\"}},\"colorscale\":{\"diverging\":[[0,\"#8e0152\"],[0.1,\"#c51b7d\"],[0.2,\"#de77ae\"],[0.3,\"#f1b6da\"],[0.4,\"#fde0ef\"],[0.5,\"#f7f7f7\"],[0.6,\"#e6f5d0\"],[0.7,\"#b8e186\"],[0.8,\"#7fbc41\"],[0.9,\"#4d9221\"],[1,\"#276419\"]],\"sequential\":[[0.0,\"#0d0887\"],[0.1111111111111111,\"#46039f\"],[0.2222222222222222,\"#7201a8\"],[0.3333333333333333,\"#9c179e\"],[0.4444444444444444,\"#bd3786\"],[0.5555555555555556,\"#d8576b\"],[0.6666666666666666,\"#ed7953\"],[0.7777777777777778,\"#fb9f3a\"],[0.8888888888888888,\"#fdca26\"],[1.0,\"#f0f921\"]],\"sequentialminus\":[[0.0,\"#0d0887\"],[0.1111111111111111,\"#46039f\"],[0.2222222222222222,\"#7201a8\"],[0.3333333333333333,\"#9c179e\"],[0.4444444444444444,\"#bd3786\"],[0.5555555555555556,\"#d8576b\"],[0.6666666666666666,\"#ed7953\"],[0.7777777777777778,\"#fb9f3a\"],[0.8888888888888888,\"#fdca26\"],[1.0,\"#f0f921\"]]},\"colorway\":[\"#636efa\",\"#EF553B\",\"#00cc96\",\"#ab63fa\",\"#FFA15A\",\"#19d3f3\",\"#FF6692\",\"#B6E880\",\"#FF97FF\",\"#FECB52\"],\"font\":{\"color\":\"#2a3f5f\"},\"geo\":{\"bgcolor\":\"white\",\"lakecolor\":\"white\",\"landcolor\":\"#E5ECF6\",\"showlakes\":true,\"showland\":true,\"subunitcolor\":\"white\"},\"hoverlabel\":{\"align\":\"left\"},\"hovermode\":\"closest\",\"mapbox\":{\"style\":\"light\"},\"paper_bgcolor\":\"white\",\"plot_bgcolor\":\"#E5ECF6\",\"polar\":{\"angularaxis\":{\"gridcolor\":\"white\",\"linecolor\":\"white\",\"ticks\":\"\"},\"bgcolor\":\"#E5ECF6\",\"radialaxis\":{\"gridcolor\":\"white\",\"linecolor\":\"white\",\"ticks\":\"\"}},\"scene\":{\"xaxis\":{\"backgroundcolor\":\"#E5ECF6\",\"gridcolor\":\"white\",\"gridwidth\":2,\"linecolor\":\"white\",\"showbackground\":true,\"ticks\":\"\",\"zerolinecolor\":\"white\"},\"yaxis\":{\"backgroundcolor\":\"#E5ECF6\",\"gridcolor\":\"white\",\"gridwidth\":2,\"linecolor\":\"white\",\"showbackground\":true,\"ticks\":\"\",\"zerolinecolor\":\"white\"},\"zaxis\":{\"backgroundcolor\":\"#E5ECF6\",\"gridcolor\":\"white\",\"gridwidth\":2,\"linecolor\":\"white\",\"showbackground\":true,\"ticks\":\"\",\"zerolinecolor\":\"white\"}},\"shapedefaults\":{\"line\":{\"color\":\"#2a3f5f\"}},\"ternary\":{\"aaxis\":{\"gridcolor\":\"white\",\"linecolor\":\"white\",\"ticks\":\"\"},\"baxis\":{\"gridcolor\":\"white\",\"linecolor\":\"white\",\"ticks\":\"\"},\"bgcolor\":\"#E5ECF6\",\"caxis\":{\"gridcolor\":\"white\",\"linecolor\":\"white\",\"ticks\":\"\"}},\"title\":{\"x\":0.05},\"xaxis\":{\"automargin\":true,\"gridcolor\":\"white\",\"linecolor\":\"white\",\"ticks\":\"\",\"title\":{\"standoff\":15},\"zerolinecolor\":\"white\",\"zerolinewidth\":2},\"yaxis\":{\"automargin\":true,\"gridcolor\":\"white\",\"linecolor\":\"white\",\"ticks\":\"\",\"title\":{\"standoff\":15},\"zerolinecolor\":\"white\",\"zerolinewidth\":2}}},\"legend\":{\"tracegroupgap\":0},\"margin\":{\"t\":50,\"l\":25,\"r\":25,\"b\":25}},                        {\"responsive\": true}                    ).then(function(){\n",
       "                            \n",
       "var gd = document.getElementById('3fc95d3d-2083-4585-b3d4-978ae31622ed');\n",
       "var x = new MutationObserver(function (mutations, observer) {{\n",
       "        var display = window.getComputedStyle(gd).display;\n",
       "        if (!display || display === 'none') {{\n",
       "            console.log([gd, 'removed!']);\n",
       "            Plotly.purge(gd);\n",
       "            observer.disconnect();\n",
       "        }}\n",
       "}});\n",
       "\n",
       "// Listen for the removal of the full notebook cells\n",
       "var notebookContainer = gd.closest('#notebook-container');\n",
       "if (notebookContainer) {{\n",
       "    x.observe(notebookContainer, {childList: true});\n",
       "}}\n",
       "\n",
       "// Listen for the clearing of the current output cell\n",
       "var outputEl = gd.closest('.output');\n",
       "if (outputEl) {{\n",
       "    x.observe(outputEl, {childList: true});\n",
       "}}\n",
       "\n",
       "                        })                };                            </script>        </div>\n",
       "</body>\n",
       "</html>"
      ]
     },
     "metadata": {},
     "output_type": "display_data"
    }
   ],
   "source": [
    "fig = px.treemap(df, path=[px.Constant(\"world\"), 'Country', 'Company Name'], values='Revenues($millions)')\n",
    "fig.update_layout(margin = dict(t=50, l=25, r=25, b=25))\n",
    "fig.show()\n",
    "##China and America take the half of the world's company revenues."
   ]
  },
  {
   "cell_type": "markdown",
   "metadata": {
    "id": "TwvHkA3NzQGF"
   },
   "source": [
    "**Hint:** [Build a treemap with Plotly](https://plotly.com/python/treemaps/)\n",
    "\n",
    "\n"
   ]
  },
  {
   "cell_type": "markdown",
   "metadata": {
    "id": "eux6BAsRYxsl"
   },
   "source": [
    "**If you are interested (this part is not graded):**\n",
    "*  Use the zooming and panning function to offer the users an option to zoom in any target country for a detailed analysis\n",
    "\n"
   ]
  },
  {
   "cell_type": "code",
   "execution_count": null,
   "metadata": {
    "id": "8hA0U2DtY4Bx"
   },
   "outputs": [],
   "source": []
  },
  {
   "cell_type": "markdown",
   "metadata": {
    "id": "JtPVQJBSZ7-J"
   },
   "source": [
    "### Problem 4 ##"
   ]
  },
  {
   "cell_type": "markdown",
   "metadata": {
    "id": "Ku_dPf7RaC3S"
   },
   "source": [
    "**Dataset:** [Air Quality](https://archive.ics.uci.edu/ml/datasets/Air+Quality)\n",
    "\n",
    "**Introduction:** The dataset contains 9358 instances of hourly averaged responses from an array of 5 metal oxide chemical sensors embedded in an Air Quality Chemical Multisensor Device. The device was located on the field in a significantly polluted area, at road level,within an Italian city. Data were recorded from March 2004 to February 2005 (one year)representing the longest freely available recordings of on field deployed air quality chemical sensor devices responses. Ground Truth hourly averaged concentrations for CO, Non Metanic Hydrocarbons, Benzene, Total Nitrogen Oxides (NOx) and Nitrogen Dioxide (NO2) and were provided by a co-located reference certified analyzer. Evidences of cross-sensitivities as well as both concept and sensor drifts are present as described in De Vito et al., Sens. And Act. B, Vol. 129,2,2008 (citation required) eventually affecting sensors concentration estimation capabilities. Missing values are tagged with -200 value."
   ]
  },
  {
   "cell_type": "code",
   "execution_count": null,
   "metadata": {
    "colab": {
     "base_uri": "https://localhost:8080/",
     "height": 307,
     "resources": {
      "http://localhost:8080/nbextensions/google.colab/files.js": {
       "data": "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",
       "headers": [
        [
         "content-type",
         "application/javascript"
        ]
       ],
       "ok": true,
       "status": 200,
       "status_text": ""
      }
     }
    },
    "id": "82gdxMxEaYTj",
    "outputId": "15d82291-90a4-47b5-9f3f-d0c92616a1b3"
   },
   "outputs": [
    {
     "data": {
      "text/html": [
       "\n",
       "     <input type=\"file\" id=\"files-a767bb6d-2c6c-4c9b-afa0-15fc6663d4d0\" name=\"files[]\" multiple disabled\n",
       "        style=\"border:none\" />\n",
       "     <output id=\"result-a767bb6d-2c6c-4c9b-afa0-15fc6663d4d0\">\n",
       "      Upload widget is only available when the cell has been executed in the\n",
       "      current browser session. Please rerun this cell to enable.\n",
       "      </output>\n",
       "      <script src=\"/nbextensions/google.colab/files.js\"></script> "
      ],
      "text/plain": [
       "<IPython.core.display.HTML object>"
      ]
     },
     "metadata": {},
     "output_type": "display_data"
    },
    {
     "name": "stdout",
     "output_type": "stream",
     "text": [
      "Saving Air Quality.xlsx to Air Quality.xlsx\n"
     ]
    },
    {
     "data": {
      "text/html": [
       "\n",
       "  <div id=\"df-8d055545-bc9e-4119-aeb7-a22a37258db7\">\n",
       "    <div class=\"colab-df-container\">\n",
       "      <div>\n",
       "<style scoped>\n",
       "    .dataframe tbody tr th:only-of-type {\n",
       "        vertical-align: middle;\n",
       "    }\n",
       "\n",
       "    .dataframe tbody tr th {\n",
       "        vertical-align: top;\n",
       "    }\n",
       "\n",
       "    .dataframe thead th {\n",
       "        text-align: right;\n",
       "    }\n",
       "</style>\n",
       "<table border=\"1\" class=\"dataframe\">\n",
       "  <thead>\n",
       "    <tr style=\"text-align: right;\">\n",
       "      <th></th>\n",
       "      <th>Date</th>\n",
       "      <th>Time</th>\n",
       "      <th>CO(GT)</th>\n",
       "      <th>PT08.S1(CO)</th>\n",
       "      <th>NMHC(GT)</th>\n",
       "      <th>C6H6(GT)</th>\n",
       "      <th>PT08.S2(NMHC)</th>\n",
       "      <th>NOx(GT)</th>\n",
       "      <th>PT08.S3(NOx)</th>\n",
       "      <th>NO2(GT)</th>\n",
       "      <th>PT08.S4(NO2)</th>\n",
       "      <th>PT08.S5(O3)</th>\n",
       "      <th>T</th>\n",
       "      <th>RH</th>\n",
       "      <th>AH</th>\n",
       "    </tr>\n",
       "  </thead>\n",
       "  <tbody>\n",
       "    <tr>\n",
       "      <th>0</th>\n",
       "      <td>2004-03-10</td>\n",
       "      <td>18:00:00</td>\n",
       "      <td>2.6</td>\n",
       "      <td>1360.00</td>\n",
       "      <td>150</td>\n",
       "      <td>11.881723</td>\n",
       "      <td>1045.50</td>\n",
       "      <td>166.0</td>\n",
       "      <td>1056.25</td>\n",
       "      <td>113.0</td>\n",
       "      <td>1692.00</td>\n",
       "      <td>1267.50</td>\n",
       "      <td>13.60</td>\n",
       "      <td>48.875001</td>\n",
       "      <td>0.757754</td>\n",
       "    </tr>\n",
       "    <tr>\n",
       "      <th>1</th>\n",
       "      <td>2004-03-10</td>\n",
       "      <td>19:00:00</td>\n",
       "      <td>2.0</td>\n",
       "      <td>1292.25</td>\n",
       "      <td>112</td>\n",
       "      <td>9.397165</td>\n",
       "      <td>954.75</td>\n",
       "      <td>103.0</td>\n",
       "      <td>1173.75</td>\n",
       "      <td>92.0</td>\n",
       "      <td>1558.75</td>\n",
       "      <td>972.25</td>\n",
       "      <td>13.30</td>\n",
       "      <td>47.700000</td>\n",
       "      <td>0.725487</td>\n",
       "    </tr>\n",
       "    <tr>\n",
       "      <th>2</th>\n",
       "      <td>2004-03-10</td>\n",
       "      <td>20:00:00</td>\n",
       "      <td>2.2</td>\n",
       "      <td>1402.00</td>\n",
       "      <td>88</td>\n",
       "      <td>8.997817</td>\n",
       "      <td>939.25</td>\n",
       "      <td>131.0</td>\n",
       "      <td>1140.00</td>\n",
       "      <td>114.0</td>\n",
       "      <td>1554.50</td>\n",
       "      <td>1074.00</td>\n",
       "      <td>11.90</td>\n",
       "      <td>53.975000</td>\n",
       "      <td>0.750239</td>\n",
       "    </tr>\n",
       "    <tr>\n",
       "      <th>3</th>\n",
       "      <td>2004-03-10</td>\n",
       "      <td>21:00:00</td>\n",
       "      <td>2.2</td>\n",
       "      <td>1375.50</td>\n",
       "      <td>80</td>\n",
       "      <td>9.228796</td>\n",
       "      <td>948.25</td>\n",
       "      <td>172.0</td>\n",
       "      <td>1092.00</td>\n",
       "      <td>122.0</td>\n",
       "      <td>1583.75</td>\n",
       "      <td>1203.25</td>\n",
       "      <td>11.00</td>\n",
       "      <td>60.000000</td>\n",
       "      <td>0.786713</td>\n",
       "    </tr>\n",
       "    <tr>\n",
       "      <th>4</th>\n",
       "      <td>2004-03-10</td>\n",
       "      <td>22:00:00</td>\n",
       "      <td>1.6</td>\n",
       "      <td>1272.25</td>\n",
       "      <td>51</td>\n",
       "      <td>6.518224</td>\n",
       "      <td>835.50</td>\n",
       "      <td>131.0</td>\n",
       "      <td>1205.00</td>\n",
       "      <td>116.0</td>\n",
       "      <td>1490.00</td>\n",
       "      <td>1110.00</td>\n",
       "      <td>11.15</td>\n",
       "      <td>59.575001</td>\n",
       "      <td>0.788794</td>\n",
       "    </tr>\n",
       "  </tbody>\n",
       "</table>\n",
       "</div>\n",
       "      <button class=\"colab-df-convert\" onclick=\"convertToInteractive('df-8d055545-bc9e-4119-aeb7-a22a37258db7')\"\n",
       "              title=\"Convert this dataframe to an interactive table.\"\n",
       "              style=\"display:none;\">\n",
       "        \n",
       "  <svg xmlns=\"http://www.w3.org/2000/svg\" height=\"24px\"viewBox=\"0 0 24 24\"\n",
       "       width=\"24px\">\n",
       "    <path d=\"M0 0h24v24H0V0z\" fill=\"none\"/>\n",
       "    <path d=\"M18.56 5.44l.94 2.06.94-2.06 2.06-.94-2.06-.94-.94-2.06-.94 2.06-2.06.94zm-11 1L8.5 8.5l.94-2.06 2.06-.94-2.06-.94L8.5 2.5l-.94 2.06-2.06.94zm10 10l.94 2.06.94-2.06 2.06-.94-2.06-.94-.94-2.06-.94 2.06-2.06.94z\"/><path d=\"M17.41 7.96l-1.37-1.37c-.4-.4-.92-.59-1.43-.59-.52 0-1.04.2-1.43.59L10.3 9.45l-7.72 7.72c-.78.78-.78 2.05 0 2.83L4 21.41c.39.39.9.59 1.41.59.51 0 1.02-.2 1.41-.59l7.78-7.78 2.81-2.81c.8-.78.8-2.07 0-2.86zM5.41 20L4 18.59l7.72-7.72 1.47 1.35L5.41 20z\"/>\n",
       "  </svg>\n",
       "      </button>\n",
       "      \n",
       "  <style>\n",
       "    .colab-df-container {\n",
       "      display:flex;\n",
       "      flex-wrap:wrap;\n",
       "      gap: 12px;\n",
       "    }\n",
       "\n",
       "    .colab-df-convert {\n",
       "      background-color: #E8F0FE;\n",
       "      border: none;\n",
       "      border-radius: 50%;\n",
       "      cursor: pointer;\n",
       "      display: none;\n",
       "      fill: #1967D2;\n",
       "      height: 32px;\n",
       "      padding: 0 0 0 0;\n",
       "      width: 32px;\n",
       "    }\n",
       "\n",
       "    .colab-df-convert:hover {\n",
       "      background-color: #E2EBFA;\n",
       "      box-shadow: 0px 1px 2px rgba(60, 64, 67, 0.3), 0px 1px 3px 1px rgba(60, 64, 67, 0.15);\n",
       "      fill: #174EA6;\n",
       "    }\n",
       "\n",
       "    [theme=dark] .colab-df-convert {\n",
       "      background-color: #3B4455;\n",
       "      fill: #D2E3FC;\n",
       "    }\n",
       "\n",
       "    [theme=dark] .colab-df-convert:hover {\n",
       "      background-color: #434B5C;\n",
       "      box-shadow: 0px 1px 3px 1px rgba(0, 0, 0, 0.15);\n",
       "      filter: drop-shadow(0px 1px 2px rgba(0, 0, 0, 0.3));\n",
       "      fill: #FFFFFF;\n",
       "    }\n",
       "  </style>\n",
       "\n",
       "      <script>\n",
       "        const buttonEl =\n",
       "          document.querySelector('#df-8d055545-bc9e-4119-aeb7-a22a37258db7 button.colab-df-convert');\n",
       "        buttonEl.style.display =\n",
       "          google.colab.kernel.accessAllowed ? 'block' : 'none';\n",
       "\n",
       "        async function convertToInteractive(key) {\n",
       "          const element = document.querySelector('#df-8d055545-bc9e-4119-aeb7-a22a37258db7');\n",
       "          const dataTable =\n",
       "            await google.colab.kernel.invokeFunction('convertToInteractive',\n",
       "                                                     [key], {});\n",
       "          if (!dataTable) return;\n",
       "\n",
       "          const docLinkHtml = 'Like what you see? Visit the ' +\n",
       "            '<a target=\"_blank\" href=https://colab.research.google.com/notebooks/data_table.ipynb>data table notebook</a>'\n",
       "            + ' to learn more about interactive tables.';\n",
       "          element.innerHTML = '';\n",
       "          dataTable['output_type'] = 'display_data';\n",
       "          await google.colab.output.renderOutput(dataTable, element);\n",
       "          const docLink = document.createElement('div');\n",
       "          docLink.innerHTML = docLinkHtml;\n",
       "          element.appendChild(docLink);\n",
       "        }\n",
       "      </script>\n",
       "    </div>\n",
       "  </div>\n",
       "  "
      ],
      "text/plain": [
       "        Date      Time  CO(GT)  ...      T         RH        AH\n",
       "0 2004-03-10  18:00:00     2.6  ...  13.60  48.875001  0.757754\n",
       "1 2004-03-10  19:00:00     2.0  ...  13.30  47.700000  0.725487\n",
       "2 2004-03-10  20:00:00     2.2  ...  11.90  53.975000  0.750239\n",
       "3 2004-03-10  21:00:00     2.2  ...  11.00  60.000000  0.786713\n",
       "4 2004-03-10  22:00:00     1.6  ...  11.15  59.575001  0.788794\n",
       "\n",
       "[5 rows x 15 columns]"
      ]
     },
     "execution_count": 16,
     "metadata": {},
     "output_type": "execute_result"
    }
   ],
   "source": [
    "#Import required libraries\n",
    "import scipy.stats as stats\n",
    "from sklearn import preprocessing\n",
    "%matplotlib inline\n",
    "\n",
    "#Load the dataset\n",
    "from google.colab import files\n",
    "file = files.upload()  #upload file into google colab session\n",
    "df = pd.read_excel(\"Air Quality.xlsx\") \n",
    "df.head()"
   ]
  },
  {
   "cell_type": "markdown",
   "metadata": {
    "id": "KkOAY0yCjQOE"
   },
   "source": [
    "**TODO:**\n",
    "*  Plot a correlation heatmap for the Air Quality dataset\n",
    "*  Interpret your key findings from the correlation heatmap"
   ]
  },
  {
   "cell_type": "code",
   "execution_count": null,
   "metadata": {
    "colab": {
     "base_uri": "https://localhost:8080/",
     "height": 356
    },
    "id": "PgwhAerJbDd1",
    "outputId": "bbf9ee88-1fb5-45cb-ca53-3a084540a7e7"
   },
   "outputs": [
    {
     "data": {
      "text/plain": [
       "<matplotlib.axes._subplots.AxesSubplot at 0x7fbeba956890>"
      ]
     },
     "execution_count": 20,
     "metadata": {},
     "output_type": "execute_result"
    },
    {
     "data": {
      "image/png": "[encoded data removed]",
      "text/plain": [
       "<Figure size 432x288 with 2 Axes>"
      ]
     },
     "metadata": {
      "needs_background": "light"
     },
     "output_type": "display_data"
    }
   ],
   "source": [
    "sns.heatmap(df.corr())\n",
    "##NOx(GT) is negative correlated to PT08.S3(NOx), AH and RH and T is positive correlated."
   ]
  },
  {
   "cell_type": "markdown",
   "metadata": {
    "id": "g_vTHqfWsb_c"
   },
   "source": [
    "**Hint:** [Build a heatmap with Seaborn](https://seaborn.pydata.org/generated/seaborn.heatmap.html)"
   ]
  },
  {
   "cell_type": "markdown",
   "metadata": {
    "id": "2CDOvSoMRNkW"
   },
   "source": [
    "## Part 2: Dimension Reduction"
   ]
  },
  {
   "cell_type": "markdown",
   "metadata": {
    "id": "zCM8VJN3RX1Y"
   },
   "source": [
    "### Problem 5"
   ]
  },
  {
   "cell_type": "markdown",
   "metadata": {
    "id": "rFlKwkEA6bi2"
   },
   "source": [
    "**Dataset:** [Wine Classification Dataset](https://archive.ics.uci.edu/ml/datasets/wine)\n",
    "\n",
    "**Introduction:** These data are the results of a chemical analysis of wines grown in the same region in Italy but derived from three different cultivars. The analysis determined the quantities of 13 constituents found in each of the three types of wines.\n"
   ]
  },
  {
   "cell_type": "code",
   "execution_count": 3,
   "metadata": {
    "id": "JMW5Rn3l7W2Z"
   },
   "outputs": [],
   "source": [
    "#Import the built-in dataset (Wine recognition) for this problem\n",
    "from sklearn.decomposition import PCA\n",
    "from sklearn.datasets import load_wine\n",
    "np.set_printoptions(suppress=True, precision=8)\n",
    "\n",
    "wine = load_wine()\n",
    "X = pd.DataFrame(wine['data'], columns=wine['feature_names'])\n",
    "y = wine['target']"
   ]
  },
  {
   "cell_type": "code",
   "execution_count": 4,
   "metadata": {
    "id": "omeFEnJcw1it"
   },
   "outputs": [],
   "source": [
    "X['target'] = y"
   ]
  },
  {
   "cell_type": "code",
   "execution_count": 5,
   "metadata": {
    "colab": {
     "base_uri": "https://localhost:8080/",
     "height": 270
    },
    "id": "gLpj8IXQw6Hc",
    "outputId": "d4651e99-cb11-4e86-9499-9c14850c9a89"
   },
   "outputs": [
    {
     "data": {
      "text/html": [
       "\n",
       "  <div id=\"df-73cccbc7-3389-41fc-90ae-5b5c4e734f86\">\n",
       "    <div class=\"colab-df-container\">\n",
       "      <div>\n",
       "<style scoped>\n",
       "    .dataframe tbody tr th:only-of-type {\n",
       "        vertical-align: middle;\n",
       "    }\n",
       "\n",
       "    .dataframe tbody tr th {\n",
       "        vertical-align: top;\n",
       "    }\n",
       "\n",
       "    .dataframe thead th {\n",
       "        text-align: right;\n",
       "    }\n",
       "</style>\n",
       "<table border=\"1\" class=\"dataframe\">\n",
       "  <thead>\n",
       "    <tr style=\"text-align: right;\">\n",
       "      <th></th>\n",
       "      <th>alcohol</th>\n",
       "      <th>malic_acid</th>\n",
       "      <th>ash</th>\n",
       "      <th>alcalinity_of_ash</th>\n",
       "      <th>magnesium</th>\n",
       "      <th>total_phenols</th>\n",
       "      <th>flavanoids</th>\n",
       "      <th>nonflavanoid_phenols</th>\n",
       "      <th>proanthocyanins</th>\n",
       "      <th>color_intensity</th>\n",
       "      <th>hue</th>\n",
       "      <th>od280/od315_of_diluted_wines</th>\n",
       "      <th>proline</th>\n",
       "      <th>target</th>\n",
       "    </tr>\n",
       "  </thead>\n",
       "  <tbody>\n",
       "    <tr>\n",
       "      <th>0</th>\n",
       "      <td>14.23</td>\n",
       "      <td>1.71</td>\n",
       "      <td>2.43</td>\n",
       "      <td>15.6</td>\n",
       "      <td>127.0</td>\n",
       "      <td>2.80</td>\n",
       "      <td>3.06</td>\n",
       "      <td>0.28</td>\n",
       "      <td>2.29</td>\n",
       "      <td>5.64</td>\n",
       "      <td>1.04</td>\n",
       "      <td>3.92</td>\n",
       "      <td>1065.0</td>\n",
       "      <td>0</td>\n",
       "    </tr>\n",
       "    <tr>\n",
       "      <th>1</th>\n",
       "      <td>13.20</td>\n",
       "      <td>1.78</td>\n",
       "      <td>2.14</td>\n",
       "      <td>11.2</td>\n",
       "      <td>100.0</td>\n",
       "      <td>2.65</td>\n",
       "      <td>2.76</td>\n",
       "      <td>0.26</td>\n",
       "      <td>1.28</td>\n",
       "      <td>4.38</td>\n",
       "      <td>1.05</td>\n",
       "      <td>3.40</td>\n",
       "      <td>1050.0</td>\n",
       "      <td>0</td>\n",
       "    </tr>\n",
       "    <tr>\n",
       "      <th>2</th>\n",
       "      <td>13.16</td>\n",
       "      <td>2.36</td>\n",
       "      <td>2.67</td>\n",
       "      <td>18.6</td>\n",
       "      <td>101.0</td>\n",
       "      <td>2.80</td>\n",
       "      <td>3.24</td>\n",
       "      <td>0.30</td>\n",
       "      <td>2.81</td>\n",
       "      <td>5.68</td>\n",
       "      <td>1.03</td>\n",
       "      <td>3.17</td>\n",
       "      <td>1185.0</td>\n",
       "      <td>0</td>\n",
       "    </tr>\n",
       "    <tr>\n",
       "      <th>3</th>\n",
       "      <td>14.37</td>\n",
       "      <td>1.95</td>\n",
       "      <td>2.50</td>\n",
       "      <td>16.8</td>\n",
       "      <td>113.0</td>\n",
       "      <td>3.85</td>\n",
       "      <td>3.49</td>\n",
       "      <td>0.24</td>\n",
       "      <td>2.18</td>\n",
       "      <td>7.80</td>\n",
       "      <td>0.86</td>\n",
       "      <td>3.45</td>\n",
       "      <td>1480.0</td>\n",
       "      <td>0</td>\n",
       "    </tr>\n",
       "    <tr>\n",
       "      <th>4</th>\n",
       "      <td>13.24</td>\n",
       "      <td>2.59</td>\n",
       "      <td>2.87</td>\n",
       "      <td>21.0</td>\n",
       "      <td>118.0</td>\n",
       "      <td>2.80</td>\n",
       "      <td>2.69</td>\n",
       "      <td>0.39</td>\n",
       "      <td>1.82</td>\n",
       "      <td>4.32</td>\n",
       "      <td>1.04</td>\n",
       "      <td>2.93</td>\n",
       "      <td>735.0</td>\n",
       "      <td>0</td>\n",
       "    </tr>\n",
       "  </tbody>\n",
       "</table>\n",
       "</div>\n",
       "      <button class=\"colab-df-convert\" onclick=\"convertToInteractive('df-73cccbc7-3389-41fc-90ae-5b5c4e734f86')\"\n",
       "              title=\"Convert this dataframe to an interactive table.\"\n",
       "              style=\"display:none;\">\n",
       "        \n",
       "  <svg xmlns=\"http://www.w3.org/2000/svg\" height=\"24px\"viewBox=\"0 0 24 24\"\n",
       "       width=\"24px\">\n",
       "    <path d=\"M0 0h24v24H0V0z\" fill=\"none\"/>\n",
       "    <path d=\"M18.56 5.44l.94 2.06.94-2.06 2.06-.94-2.06-.94-.94-2.06-.94 2.06-2.06.94zm-11 1L8.5 8.5l.94-2.06 2.06-.94-2.06-.94L8.5 2.5l-.94 2.06-2.06.94zm10 10l.94 2.06.94-2.06 2.06-.94-2.06-.94-.94-2.06-.94 2.06-2.06.94z\"/><path d=\"M17.41 7.96l-1.37-1.37c-.4-.4-.92-.59-1.43-.59-.52 0-1.04.2-1.43.59L10.3 9.45l-7.72 7.72c-.78.78-.78 2.05 0 2.83L4 21.41c.39.39.9.59 1.41.59.51 0 1.02-.2 1.41-.59l7.78-7.78 2.81-2.81c.8-.78.8-2.07 0-2.86zM5.41 20L4 18.59l7.72-7.72 1.47 1.35L5.41 20z\"/>\n",
       "  </svg>\n",
       "      </button>\n",
       "      \n",
       "  <style>\n",
       "    .colab-df-container {\n",
       "      display:flex;\n",
       "      flex-wrap:wrap;\n",
       "      gap: 12px;\n",
       "    }\n",
       "\n",
       "    .colab-df-convert {\n",
       "      background-color: #E8F0FE;\n",
       "      border: none;\n",
       "      border-radius: 50%;\n",
       "      cursor: pointer;\n",
       "      display: none;\n",
       "      fill: #1967D2;\n",
       "      height: 32px;\n",
       "      padding: 0 0 0 0;\n",
       "      width: 32px;\n",
       "    }\n",
       "\n",
       "    .colab-df-convert:hover {\n",
       "      background-color: #E2EBFA;\n",
       "      box-shadow: 0px 1px 2px rgba(60, 64, 67, 0.3), 0px 1px 3px 1px rgba(60, 64, 67, 0.15);\n",
       "      fill: #174EA6;\n",
       "    }\n",
       "\n",
       "    [theme=dark] .colab-df-convert {\n",
       "      background-color: #3B4455;\n",
       "      fill: #D2E3FC;\n",
       "    }\n",
       "\n",
       "    [theme=dark] .colab-df-convert:hover {\n",
       "      background-color: #434B5C;\n",
       "      box-shadow: 0px 1px 3px 1px rgba(0, 0, 0, 0.15);\n",
       "      filter: drop-shadow(0px 1px 2px rgba(0, 0, 0, 0.3));\n",
       "      fill: #FFFFFF;\n",
       "    }\n",
       "  </style>\n",
       "\n",
       "      <script>\n",
       "        const buttonEl =\n",
       "          document.querySelector('#df-73cccbc7-3389-41fc-90ae-5b5c4e734f86 button.colab-df-convert');\n",
       "        buttonEl.style.display =\n",
       "          google.colab.kernel.accessAllowed ? 'block' : 'none';\n",
       "\n",
       "        async function convertToInteractive(key) {\n",
       "          const element = document.querySelector('#df-73cccbc7-3389-41fc-90ae-5b5c4e734f86');\n",
       "          const dataTable =\n",
       "            await google.colab.kernel.invokeFunction('convertToInteractive',\n",
       "                                                     [key], {});\n",
       "          if (!dataTable) return;\n",
       "\n",
       "          const docLinkHtml = 'Like what you see? Visit the ' +\n",
       "            '<a target=\"_blank\" href=https://colab.research.google.com/notebooks/data_table.ipynb>data table notebook</a>'\n",
       "            + ' to learn more about interactive tables.';\n",
       "          element.innerHTML = '';\n",
       "          dataTable['output_type'] = 'display_data';\n",
       "          await google.colab.output.renderOutput(dataTable, element);\n",
       "          const docLink = document.createElement('div');\n",
       "          docLink.innerHTML = docLinkHtml;\n",
       "          element.appendChild(docLink);\n",
       "        }\n",
       "      </script>\n",
       "    </div>\n",
       "  </div>\n",
       "  "
      ],
      "text/plain": [
       "   alcohol  malic_acid   ash  ...  od280/od315_of_diluted_wines  proline  target\n",
       "0    14.23        1.71  2.43  ...                          3.92   1065.0       0\n",
       "1    13.20        1.78  2.14  ...                          3.40   1050.0       0\n",
       "2    13.16        2.36  2.67  ...                          3.17   1185.0       0\n",
       "3    14.37        1.95  2.50  ...                          3.45   1480.0       0\n",
       "4    13.24        2.59  2.87  ...                          2.93    735.0       0\n",
       "\n",
       "[5 rows x 14 columns]"
      ]
     },
     "execution_count": 5,
     "metadata": {},
     "output_type": "execute_result"
    }
   ],
   "source": [
    "X.head()"
   ]
  },
  {
   "cell_type": "code",
   "execution_count": null,
   "metadata": {
    "colab": {
     "base_uri": "https://localhost:8080/"
    },
    "id": "m1WrIs4CxAI3",
    "outputId": "f373a7fb-7c33-4e6c-a06b-0af235c42921"
   },
   "outputs": [
    {
     "name": "stdout",
     "output_type": "stream",
     "text": [
      "Mounted at /content/drive/\n"
     ]
    }
   ],
   "source": [
    "from google.colab import drive\n",
    "drive.mount('/content/drive/')"
   ]
  },
  {
   "cell_type": "code",
   "execution_count": null,
   "metadata": {
    "id": "ppgZ2yJCxMV8"
   },
   "outputs": [],
   "source": [
    "X.to_csv('/content/drive/My Drive/wine.csv')"
   ]
  },
  {
   "cell_type": "markdown",
   "metadata": {
    "id": "KvPR1v1vlCHv"
   },
   "source": [
    "**TODO1:**\n",
    "\n",
    "*  Calulate the first two principal component scores with eigen values and vectors on the RAW data (without standardization). \n",
    "\n",
    "*  Note that you are expected to perform matrix multiplication and eigen value calculation **only** with the package Numpy."
   ]
  },
  {
   "cell_type": "code",
   "execution_count": 9,
   "metadata": {
    "colab": {
     "base_uri": "https://localhost:8080/"
    },
    "id": "B8togXIu7ee7",
    "outputId": "adbbf054-73fc-4fb7-8c6f-9c50d84c64a7"
   },
   "outputs": [
    {
     "name": "stdout",
     "output_type": "stream",
     "text": [
      "eig_val [    0.00809266     0.02076267     0.0349273      0.04620262\n",
      "     0.08637843     0.11373332     0.15527896     0.28700697\n",
      "     0.86816657     1.28578826     5.10080996     9.53119601\n",
      "   172.53659575 99202.03073131]\n",
      "eig_vect [[ 0.01342199  0.00424033 -0.03477671 -0.08907492 -0.05759022  0.10429717\n",
      "  -0.34902803 -0.89011629  0.20208045 -0.04893261  0.1369886  -0.01830354\n",
      "  -0.00120427  0.00165926]\n",
      " [-0.01205487 -0.0632357   0.03573628  0.00774362  0.03361008  0.01022552\n",
      "   0.07552074  0.14685806  0.80383993  0.52893096  0.15673938 -0.12455946\n",
      "  -0.00215953 -0.00068102]\n",
      " [-0.16234458  0.08648809 -0.89148686  0.35325578  0.10716134  0.06888147\n",
      "   0.15052809 -0.0503493   0.0416939  -0.02584566 -0.01204712 -0.05129289\n",
      "  -0.004594    0.00019491]\n",
      " [-0.00006483 -0.00026949  0.05931059 -0.00265862  0.00998036 -0.00244128\n",
      "  -0.01139207 -0.0359372  -0.02385952 -0.06961127 -0.3569901  -0.92809986\n",
      "  -0.0264607  -0.0046713 ]\n",
      " [ 0.00227127 -0.00050097  0.00262028 -0.00163841 -0.00086471 -0.00163231\n",
      "   0.00356864 -0.00206503 -0.00134901  0.00645212 -0.00475412  0.02998454\n",
      "  -0.9993399   0.01786798]\n",
      " [-0.03464768  0.01908158  0.13567675  0.39337914 -0.71969579  0.36423189\n",
      "   0.08990297  0.06567984  0.22831966 -0.3200809  -0.07645206  0.0427611\n",
      "  -0.00087473  0.00098983]\n",
      " [ 0.0866715   0.00019712 -0.08051266 -0.48522234  0.31845895  0.38493038\n",
      "   0.20490046  0.07945528  0.35764507 -0.53569563 -0.17219102  0.09026712\n",
      "   0.00005866  0.00156729]\n",
      " [ 0.96721817 -0.13295412 -0.11646534  0.17506928  0.0177935   0.02887276\n",
      "  -0.00098995  0.00005404 -0.01695159  0.02928887  0.01059355 -0.01372151\n",
      "   0.00135399 -0.00012309]\n",
      " [-0.01929259  0.01502505 -0.08704446  0.13138959  0.10402443 -0.12129447\n",
      "  -0.84772757  0.35174037  0.19718127 -0.25378707 -0.05160641  0.02623713\n",
      "  -0.00500223  0.00060061]\n",
      " [-0.00783689 -0.04256684  0.03763496  0.03578235  0.04450523 -0.11080075\n",
      "   0.10837191  0.09328967 -0.00550793 -0.36729918  0.8565162  -0.30320298\n",
      "  -0.01511422  0.00232713]\n",
      " [-0.15235499 -0.97865472 -0.024792    0.08271034  0.0519432   0.02708614\n",
      "   0.00281668 -0.0295825  -0.03041317 -0.04594283 -0.05905531  0.02699227\n",
      "   0.00076404  0.00017138]\n",
      " [ 0.05675071 -0.0380187  -0.13023899 -0.17943171 -0.29607585 -0.8045947\n",
      "   0.18092396 -0.07998405  0.24915093 -0.26929663 -0.17852614  0.0743662\n",
      "   0.00350068  0.00070494]\n",
      " [ 0.00006726  0.00004006 -0.00004693 -0.00052853 -0.00038804  0.0000298\n",
      "  -0.00009492  0.00117837 -0.00121126  0.00271318 -0.00295057 -0.00462656\n",
      "   0.01776936  0.99982172]\n",
      " [ 0.04715808 -0.09598765 -0.36635428 -0.62352912 -0.51099328  0.16582795\n",
      "  -0.19099523  0.17880075 -0.16868538  0.21919741  0.14764585 -0.10091996\n",
      "  -0.00277862 -0.00155934]]\n"
     ]
    }
   ],
   "source": [
    "##X_meaned = X - np.mean(X, axis=0)\n",
    "cov_mat = np.cov(X, rowvar = False)\n",
    "eig_val, eig_vect = np.linalg.eigh(cov_mat)\n",
    "print('eig_val', eig_val)\n",
    "print('eig_vect', eig_vect)"
   ]
  },
  {
   "cell_type": "markdown",
   "metadata": {
    "id": "AxzI6oZAl2xb"
   },
   "source": [
    "**Hint:** [Eigen value calculation with Numpy](https://numpy.org/doc/stable/reference/generated/numpy.linalg.eig.html)"
   ]
  },
  {
   "cell_type": "markdown",
   "metadata": {
    "id": "8alJmOl1mOzQ"
   },
   "source": [
    "**TODO2:**\n",
    "\n",
    "*  Use the function PCA() on the RAW data to calculate the priciple components\n",
    "*  For each principle component, what is the explained variance, proportion variance, and cummulative proportion of variance?\n",
    "*  Present the first two principal component scores"
   ]
  },
  {
   "cell_type": "code",
   "execution_count": 10,
   "metadata": {
    "colab": {
     "base_uri": "https://localhost:8080/",
     "height": 385
    },
    "id": "jeEzLFP-Cmn1",
    "outputId": "74615d94-5e84-4bd0-964c-349a7ee749d3"
   },
   "outputs": [
    {
     "name": "stdout",
     "output_type": "stream",
     "text": [
      "   Standard deviation  Proportion of variance  Cumulative proportion\n",
      "0          314.963156                0.998091               0.998091\n",
      "1           13.135268                0.001736               0.999827\n"
     ]
    },
    {
     "data": {
      "text/html": [
       "\n",
       "  <div id=\"df-8c7fc3b5-28e2-4e6f-9633-7e8e1a7760e6\">\n",
       "    <div class=\"colab-df-container\">\n",
       "      <div>\n",
       "<style scoped>\n",
       "    .dataframe tbody tr th:only-of-type {\n",
       "        vertical-align: middle;\n",
       "    }\n",
       "\n",
       "    .dataframe tbody tr th {\n",
       "        vertical-align: top;\n",
       "    }\n",
       "\n",
       "    .dataframe thead th {\n",
       "        text-align: right;\n",
       "    }\n",
       "</style>\n",
       "<table border=\"1\" class=\"dataframe\">\n",
       "  <thead>\n",
       "    <tr style=\"text-align: right;\">\n",
       "      <th></th>\n",
       "      <th>PC1</th>\n",
       "      <th>PC2</th>\n",
       "    </tr>\n",
       "  </thead>\n",
       "  <tbody>\n",
       "    <tr>\n",
       "      <th>0</th>\n",
       "      <td>318.562979</td>\n",
       "      <td>21.492131</td>\n",
       "    </tr>\n",
       "    <tr>\n",
       "      <th>1</th>\n",
       "      <td>303.097420</td>\n",
       "      <td>-5.364718</td>\n",
       "    </tr>\n",
       "    <tr>\n",
       "      <th>2</th>\n",
       "      <td>438.061133</td>\n",
       "      <td>-6.537309</td>\n",
       "    </tr>\n",
       "    <tr>\n",
       "      <th>3</th>\n",
       "      <td>733.240139</td>\n",
       "      <td>0.192729</td>\n",
       "    </tr>\n",
       "    <tr>\n",
       "      <th>4</th>\n",
       "      <td>-11.571428</td>\n",
       "      <td>18.489995</td>\n",
       "    </tr>\n",
       "    <tr>\n",
       "      <th>5</th>\n",
       "      <td>703.231192</td>\n",
       "      <td>-0.332159</td>\n",
       "    </tr>\n",
       "    <tr>\n",
       "      <th>6</th>\n",
       "      <td>542.971581</td>\n",
       "      <td>-13.518967</td>\n",
       "    </tr>\n",
       "    <tr>\n",
       "      <th>7</th>\n",
       "      <td>548.401860</td>\n",
       "      <td>11.449432</td>\n",
       "    </tr>\n",
       "    <tr>\n",
       "      <th>8</th>\n",
       "      <td>298.036863</td>\n",
       "      <td>-8.180158</td>\n",
       "    </tr>\n",
       "  </tbody>\n",
       "</table>\n",
       "</div>\n",
       "      <button class=\"colab-df-convert\" onclick=\"convertToInteractive('df-8c7fc3b5-28e2-4e6f-9633-7e8e1a7760e6')\"\n",
       "              title=\"Convert this dataframe to an interactive table.\"\n",
       "              style=\"display:none;\">\n",
       "        \n",
       "  <svg xmlns=\"http://www.w3.org/2000/svg\" height=\"24px\"viewBox=\"0 0 24 24\"\n",
       "       width=\"24px\">\n",
       "    <path d=\"M0 0h24v24H0V0z\" fill=\"none\"/>\n",
       "    <path d=\"M18.56 5.44l.94 2.06.94-2.06 2.06-.94-2.06-.94-.94-2.06-.94 2.06-2.06.94zm-11 1L8.5 8.5l.94-2.06 2.06-.94-2.06-.94L8.5 2.5l-.94 2.06-2.06.94zm10 10l.94 2.06.94-2.06 2.06-.94-2.06-.94-.94-2.06-.94 2.06-2.06.94z\"/><path d=\"M17.41 7.96l-1.37-1.37c-.4-.4-.92-.59-1.43-.59-.52 0-1.04.2-1.43.59L10.3 9.45l-7.72 7.72c-.78.78-.78 2.05 0 2.83L4 21.41c.39.39.9.59 1.41.59.51 0 1.02-.2 1.41-.59l7.78-7.78 2.81-2.81c.8-.78.8-2.07 0-2.86zM5.41 20L4 18.59l7.72-7.72 1.47 1.35L5.41 20z\"/>\n",
       "  </svg>\n",
       "      </button>\n",
       "      \n",
       "  <style>\n",
       "    .colab-df-container {\n",
       "      display:flex;\n",
       "      flex-wrap:wrap;\n",
       "      gap: 12px;\n",
       "    }\n",
       "\n",
       "    .colab-df-convert {\n",
       "      background-color: #E8F0FE;\n",
       "      border: none;\n",
       "      border-radius: 50%;\n",
       "      cursor: pointer;\n",
       "      display: none;\n",
       "      fill: #1967D2;\n",
       "      height: 32px;\n",
       "      padding: 0 0 0 0;\n",
       "      width: 32px;\n",
       "    }\n",
       "\n",
       "    .colab-df-convert:hover {\n",
       "      background-color: #E2EBFA;\n",
       "      box-shadow: 0px 1px 2px rgba(60, 64, 67, 0.3), 0px 1px 3px 1px rgba(60, 64, 67, 0.15);\n",
       "      fill: #174EA6;\n",
       "    }\n",
       "\n",
       "    [theme=dark] .colab-df-convert {\n",
       "      background-color: #3B4455;\n",
       "      fill: #D2E3FC;\n",
       "    }\n",
       "\n",
       "    [theme=dark] .colab-df-convert:hover {\n",
       "      background-color: #434B5C;\n",
       "      box-shadow: 0px 1px 3px 1px rgba(0, 0, 0, 0.15);\n",
       "      filter: drop-shadow(0px 1px 2px rgba(0, 0, 0, 0.3));\n",
       "      fill: #FFFFFF;\n",
       "    }\n",
       "  </style>\n",
       "\n",
       "      <script>\n",
       "        const buttonEl =\n",
       "          document.querySelector('#df-8c7fc3b5-28e2-4e6f-9633-7e8e1a7760e6 button.colab-df-convert');\n",
       "        buttonEl.style.display =\n",
       "          google.colab.kernel.accessAllowed ? 'block' : 'none';\n",
       "\n",
       "        async function convertToInteractive(key) {\n",
       "          const element = document.querySelector('#df-8c7fc3b5-28e2-4e6f-9633-7e8e1a7760e6');\n",
       "          const dataTable =\n",
       "            await google.colab.kernel.invokeFunction('convertToInteractive',\n",
       "                                                     [key], {});\n",
       "          if (!dataTable) return;\n",
       "\n",
       "          const docLinkHtml = 'Like what you see? Visit the ' +\n",
       "            '<a target=\"_blank\" href=https://colab.research.google.com/notebooks/data_table.ipynb>data table notebook</a>'\n",
       "            + ' to learn more about interactive tables.';\n",
       "          element.innerHTML = '';\n",
       "          dataTable['output_type'] = 'display_data';\n",
       "          await google.colab.output.renderOutput(dataTable, element);\n",
       "          const docLink = document.createElement('div');\n",
       "          docLink.innerHTML = docLinkHtml;\n",
       "          element.appendChild(docLink);\n",
       "        }\n",
       "      </script>\n",
       "    </div>\n",
       "  </div>\n",
       "  "
      ],
      "text/plain": [
       "          PC1        PC2\n",
       "0  318.562979  21.492131\n",
       "1  303.097420  -5.364718\n",
       "2  438.061133  -6.537309\n",
       "3  733.240139   0.192729\n",
       "4  -11.571428  18.489995\n",
       "5  703.231192  -0.332159\n",
       "6  542.971581 -13.518967\n",
       "7  548.401860  11.449432\n",
       "8  298.036863  -8.180158"
      ]
     },
     "execution_count": 10,
     "metadata": {},
     "output_type": "execute_result"
    }
   ],
   "source": [
    "t2 = X.drop(columns=['target'])\n",
    "pcs = PCA()\n",
    "pcs = PCA(n_components = 2)\n",
    "pcs.fit(t2.dropna(axis=0))\n",
    "pcsSummary = pd.DataFrame({'Standard deviation': np.sqrt(pcs.explained_variance_),\n",
    "                          'Proportion of variance':pcs.explained_variance_ratio_,\n",
    "                          'Cumulative proportion': np.cumsum(pcs.explained_variance_ratio_)})\n",
    "print(pcsSummary)\n",
    "pcsSummary = pcsSummary.transpose()\n",
    "pcsSummary.columns = ['PC1', 'PC2']\n",
    "pcsSummary.round(4)\n",
    "pcsComponents = pd.DataFrame(pcs.components_.transpose(), columns=['PC1', 'PC2'],\n",
    "                            index = t2.columns)\n",
    "pcsComponents\n",
    "scores = pd.DataFrame(pcs.transform(t2),\n",
    "                     columns = ['PC1','PC2'])\n",
    "scores.head(9)"
   ]
  },
  {
   "cell_type": "markdown",
   "metadata": {
    "id": "nOywrvqbnAeE"
   },
   "source": [
    "**TODO3:**\n",
    "\n",
    "*  Use the function PCA() on the STANDARDIZED data to calculate the priciple components\n",
    "*  For each principle component, what is the explained variance, proportion variance, and cummulative proportion of variance?\n",
    "*  Present the first two principal component scores"
   ]
  },
  {
   "cell_type": "code",
   "execution_count": 11,
   "metadata": {
    "colab": {
     "base_uri": "https://localhost:8080/",
     "height": 385
    },
    "id": "jBPgh_C3Ai2z",
    "outputId": "8800b6c7-a5bc-46fb-cc48-c814c0618a0f"
   },
   "outputs": [
    {
     "name": "stdout",
     "output_type": "stream",
     "text": [
      "   Standard deviation  Proportion of variance  Cumulative proportion\n",
      "0            2.175417                0.361988               0.361988\n",
      "1            1.584639                0.192075               0.554063\n"
     ]
    },
    {
     "data": {
      "text/html": [
       "\n",
       "  <div id=\"df-71fa4b3b-cca0-4104-a811-5f7f3c87594a\">\n",
       "    <div class=\"colab-df-container\">\n",
       "      <div>\n",
       "<style scoped>\n",
       "    .dataframe tbody tr th:only-of-type {\n",
       "        vertical-align: middle;\n",
       "    }\n",
       "\n",
       "    .dataframe tbody tr th {\n",
       "        vertical-align: top;\n",
       "    }\n",
       "\n",
       "    .dataframe thead th {\n",
       "        text-align: right;\n",
       "    }\n",
       "</style>\n",
       "<table border=\"1\" class=\"dataframe\">\n",
       "  <thead>\n",
       "    <tr style=\"text-align: right;\">\n",
       "      <th></th>\n",
       "      <th>PC1</th>\n",
       "      <th>PC2</th>\n",
       "    </tr>\n",
       "  </thead>\n",
       "  <tbody>\n",
       "    <tr>\n",
       "      <th>0</th>\n",
       "      <td>3.316751</td>\n",
       "      <td>-1.443463</td>\n",
       "    </tr>\n",
       "    <tr>\n",
       "      <th>1</th>\n",
       "      <td>2.209465</td>\n",
       "      <td>0.333393</td>\n",
       "    </tr>\n",
       "    <tr>\n",
       "      <th>2</th>\n",
       "      <td>2.516740</td>\n",
       "      <td>-1.031151</td>\n",
       "    </tr>\n",
       "    <tr>\n",
       "      <th>3</th>\n",
       "      <td>3.757066</td>\n",
       "      <td>-2.756372</td>\n",
       "    </tr>\n",
       "    <tr>\n",
       "      <th>4</th>\n",
       "      <td>1.008908</td>\n",
       "      <td>-0.869831</td>\n",
       "    </tr>\n",
       "    <tr>\n",
       "      <th>5</th>\n",
       "      <td>3.050254</td>\n",
       "      <td>-2.122401</td>\n",
       "    </tr>\n",
       "    <tr>\n",
       "      <th>6</th>\n",
       "      <td>2.449090</td>\n",
       "      <td>-1.174850</td>\n",
       "    </tr>\n",
       "    <tr>\n",
       "      <th>7</th>\n",
       "      <td>2.059437</td>\n",
       "      <td>-1.608963</td>\n",
       "    </tr>\n",
       "    <tr>\n",
       "      <th>8</th>\n",
       "      <td>2.510874</td>\n",
       "      <td>-0.918071</td>\n",
       "    </tr>\n",
       "  </tbody>\n",
       "</table>\n",
       "</div>\n",
       "      <button class=\"colab-df-convert\" onclick=\"convertToInteractive('df-71fa4b3b-cca0-4104-a811-5f7f3c87594a')\"\n",
       "              title=\"Convert this dataframe to an interactive table.\"\n",
       "              style=\"display:none;\">\n",
       "        \n",
       "  <svg xmlns=\"http://www.w3.org/2000/svg\" height=\"24px\"viewBox=\"0 0 24 24\"\n",
       "       width=\"24px\">\n",
       "    <path d=\"M0 0h24v24H0V0z\" fill=\"none\"/>\n",
       "    <path d=\"M18.56 5.44l.94 2.06.94-2.06 2.06-.94-2.06-.94-.94-2.06-.94 2.06-2.06.94zm-11 1L8.5 8.5l.94-2.06 2.06-.94-2.06-.94L8.5 2.5l-.94 2.06-2.06.94zm10 10l.94 2.06.94-2.06 2.06-.94-2.06-.94-.94-2.06-.94 2.06-2.06.94z\"/><path d=\"M17.41 7.96l-1.37-1.37c-.4-.4-.92-.59-1.43-.59-.52 0-1.04.2-1.43.59L10.3 9.45l-7.72 7.72c-.78.78-.78 2.05 0 2.83L4 21.41c.39.39.9.59 1.41.59.51 0 1.02-.2 1.41-.59l7.78-7.78 2.81-2.81c.8-.78.8-2.07 0-2.86zM5.41 20L4 18.59l7.72-7.72 1.47 1.35L5.41 20z\"/>\n",
       "  </svg>\n",
       "      </button>\n",
       "      \n",
       "  <style>\n",
       "    .colab-df-container {\n",
       "      display:flex;\n",
       "      flex-wrap:wrap;\n",
       "      gap: 12px;\n",
       "    }\n",
       "\n",
       "    .colab-df-convert {\n",
       "      background-color: #E8F0FE;\n",
       "      border: none;\n",
       "      border-radius: 50%;\n",
       "      cursor: pointer;\n",
       "      display: none;\n",
       "      fill: #1967D2;\n",
       "      height: 32px;\n",
       "      padding: 0 0 0 0;\n",
       "      width: 32px;\n",
       "    }\n",
       "\n",
       "    .colab-df-convert:hover {\n",
       "      background-color: #E2EBFA;\n",
       "      box-shadow: 0px 1px 2px rgba(60, 64, 67, 0.3), 0px 1px 3px 1px rgba(60, 64, 67, 0.15);\n",
       "      fill: #174EA6;\n",
       "    }\n",
       "\n",
       "    [theme=dark] .colab-df-convert {\n",
       "      background-color: #3B4455;\n",
       "      fill: #D2E3FC;\n",
       "    }\n",
       "\n",
       "    [theme=dark] .colab-df-convert:hover {\n",
       "      background-color: #434B5C;\n",
       "      box-shadow: 0px 1px 3px 1px rgba(0, 0, 0, 0.15);\n",
       "      filter: drop-shadow(0px 1px 2px rgba(0, 0, 0, 0.3));\n",
       "      fill: #FFFFFF;\n",
       "    }\n",
       "  </style>\n",
       "\n",
       "      <script>\n",
       "        const buttonEl =\n",
       "          document.querySelector('#df-71fa4b3b-cca0-4104-a811-5f7f3c87594a button.colab-df-convert');\n",
       "        buttonEl.style.display =\n",
       "          google.colab.kernel.accessAllowed ? 'block' : 'none';\n",
       "\n",
       "        async function convertToInteractive(key) {\n",
       "          const element = document.querySelector('#df-71fa4b3b-cca0-4104-a811-5f7f3c87594a');\n",
       "          const dataTable =\n",
       "            await google.colab.kernel.invokeFunction('convertToInteractive',\n",
       "                                                     [key], {});\n",
       "          if (!dataTable) return;\n",
       "\n",
       "          const docLinkHtml = 'Like what you see? Visit the ' +\n",
       "            '<a target=\"_blank\" href=https://colab.research.google.com/notebooks/data_table.ipynb>data table notebook</a>'\n",
       "            + ' to learn more about interactive tables.';\n",
       "          element.innerHTML = '';\n",
       "          dataTable['output_type'] = 'display_data';\n",
       "          await google.colab.output.renderOutput(dataTable, element);\n",
       "          const docLink = document.createElement('div');\n",
       "          docLink.innerHTML = docLinkHtml;\n",
       "          element.appendChild(docLink);\n",
       "        }\n",
       "      </script>\n",
       "    </div>\n",
       "  </div>\n",
       "  "
      ],
      "text/plain": [
       "        PC1       PC2\n",
       "0  3.316751 -1.443463\n",
       "1  2.209465  0.333393\n",
       "2  2.516740 -1.031151\n",
       "3  3.757066 -2.756372\n",
       "4  1.008908 -0.869831\n",
       "5  3.050254 -2.122401\n",
       "6  2.449090 -1.174850\n",
       "7  2.059437 -1.608963\n",
       "8  2.510874 -0.918071"
      ]
     },
     "execution_count": 11,
     "metadata": {},
     "output_type": "execute_result"
    }
   ],
   "source": [
    "from sklearn.preprocessing import StandardScaler\n",
    "t3 = StandardScaler().fit_transform(X.iloc[:,0:13])\n",
    "pcs = PCA(n_components = 2)\n",
    "pc = pcs.fit_transform(t3)\n",
    "pc_df = pd.DataFrame(data = pc, columns = ['PC1','PC2'])\n",
    "pcsSummary_df = pd.DataFrame({'Standard deviation': np.sqrt(pcs.explained_variance_),\n",
    "                          'Proportion of variance':pcs.explained_variance_ratio_,\n",
    "                          'Cumulative proportion': np.cumsum(pcs.explained_variance_ratio_)})\n",
    "print(pcsSummary_df)\n",
    "pcsSummary = pcsSummary.transpose()\n",
    "pcsSummary.round(4)\n",
    "pcsComponents = pd.DataFrame(pcs.components_.transpose(), columns=['PC1', 'PC2'])\n",
    "pcsComponents\n",
    "scores = pd.DataFrame(pcs.transform(t3),\n",
    "                     columns = ['PC1','PC2'])\n",
    "scores.head(9)"
   ]
  },
  {
   "cell_type": "markdown",
   "metadata": {
    "id": "lKo88bdKneUV"
   },
   "source": [
    "**TODO4:**\n",
    "\n",
    "*  Explain why it is important to normalize numerical variables before PCA\n",
    "*  Back up your reasons with the PCA results above"
   ]
  },
  {
   "cell_type": "code",
   "execution_count": null,
   "metadata": {
    "id": "PEbH_BXH48KE"
   },
   "outputs": [],
   "source": [
    "##Normalization projects the data to directions with largest variance, and as we can see from above that PC1 which is the direction differs alot before and after the normalization."
   ]
  },
  {
   "cell_type": "markdown",
   "metadata": {
    "id": "Ygdseiaqnwnt"
   },
   "source": [
    "**TODO5:**\n",
    "\n",
    "*  Plot the records on a 2D plane defined by the first two PCs calculated with standardized data\n",
    "*  Use color to differentiate the classes of wine (variable name \"target\")\n",
    "*  Interpret the plot"
   ]
  },
  {
   "cell_type": "code",
   "execution_count": null,
   "metadata": {
    "colab": {
     "base_uri": "https://localhost:8080/",
     "height": 258
    },
    "id": "N1i6E5Wk63x4",
    "outputId": "35377d80-1fc5-46ed-ad20-48739098f48b"
   },
   "outputs": [
    {
     "data": {
      "image/png": "[encoded data removed]",
      "text/plain": [
       "<Figure size 432x288 with 2 Axes>"
      ]
     },
     "metadata": {
      "needs_background": "light"
     },
     "output_type": "display_data"
    }
   ],
   "source": [
    "scores['target'] = y\n",
    "ax2 = scores.plot.scatter(x='PC1', y='PC2', c='target', colormap='viridis')"
   ]
  },
  {
   "cell_type": "markdown",
   "metadata": {
    "id": "Gw1PjQNxRvns"
   },
   "source": [
    "### Problem 6"
   ]
  },
  {
   "cell_type": "markdown",
   "metadata": {
    "id": "BIKceWH7ia53"
   },
   "source": [
    "**Dataset:** Life Expectancy\n",
    "\n",
    "**Introduction:** The above dataset gives life expectancy related data for 37 countries in2014. \n",
    "\n",
    "Consider only the following variables in your analysis: 'GDP', 'Income composition of resources', 'Schooling', and 'Total expenditure'."
   ]
  },
  {
   "cell_type": "code",
   "execution_count": null,
   "metadata": {
    "colab": {
     "base_uri": "https://localhost:8080/",
     "height": 306,
     "resources": {
      "http://localhost:8080/nbextensions/google.colab/files.js": {
       "data": "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",
       "headers": [
        [
         "content-type",
         "application/javascript"
        ]
       ],
       "ok": true,
       "status": 200,
       "status_text": ""
      }
     }
    },
    "id": "0v1OKWoZ7sLm",
    "outputId": "1c7b86a5-f5a8-4847-9b16-015209fd7300"
   },
   "outputs": [
    {
     "data": {
      "text/html": [
       "\n",
       "     <input type=\"file\" id=\"files-ec2f1bb3-1e6b-464b-b701-43a2afc72507\" name=\"files[]\" multiple disabled\n",
       "        style=\"border:none\" />\n",
       "     <output id=\"result-ec2f1bb3-1e6b-464b-b701-43a2afc72507\">\n",
       "      Upload widget is only available when the cell has been executed in the\n",
       "      current browser session. Please rerun this cell to enable.\n",
       "      </output>\n",
       "      <script src=\"/nbextensions/google.colab/files.js\"></script> "
      ],
      "text/plain": [
       "<IPython.core.display.HTML object>"
      ]
     },
     "metadata": {},
     "output_type": "display_data"
    },
    {
     "name": "stdout",
     "output_type": "stream",
     "text": [
      "Saving Life Expectancy.csv to Life Expectancy.csv\n"
     ]
    },
    {
     "data": {
      "text/html": [
       "\n",
       "  <div id=\"df-f1dda3d2-7769-4632-a9c4-4b54ec0111b5\">\n",
       "    <div class=\"colab-df-container\">\n",
       "      <div>\n",
       "<style scoped>\n",
       "    .dataframe tbody tr th:only-of-type {\n",
       "        vertical-align: middle;\n",
       "    }\n",
       "\n",
       "    .dataframe tbody tr th {\n",
       "        vertical-align: top;\n",
       "    }\n",
       "\n",
       "    .dataframe thead th {\n",
       "        text-align: right;\n",
       "    }\n",
       "</style>\n",
       "<table border=\"1\" class=\"dataframe\">\n",
       "  <thead>\n",
       "    <tr style=\"text-align: right;\">\n",
       "      <th></th>\n",
       "      <th>Country</th>\n",
       "      <th>Year</th>\n",
       "      <th>Status</th>\n",
       "      <th>Life expectancy</th>\n",
       "      <th>Adult Mortality</th>\n",
       "      <th>infant deaths</th>\n",
       "      <th>Alcohol</th>\n",
       "      <th>percentage expenditure</th>\n",
       "      <th>Hepatitis B</th>\n",
       "      <th>Measles</th>\n",
       "      <th>BMI</th>\n",
       "      <th>under-five deaths</th>\n",
       "      <th>Polio</th>\n",
       "      <th>Total expenditure</th>\n",
       "      <th>Diphtheria</th>\n",
       "      <th>HIV/AIDS</th>\n",
       "      <th>GDP</th>\n",
       "      <th>Population</th>\n",
       "      <th>thinness  1-19 years</th>\n",
       "      <th>thinness 5-9 years</th>\n",
       "      <th>Income composition of resources</th>\n",
       "      <th>Schooling</th>\n",
       "    </tr>\n",
       "  </thead>\n",
       "  <tbody>\n",
       "    <tr>\n",
       "      <th>0</th>\n",
       "      <td>Afghanistan</td>\n",
       "      <td>2014</td>\n",
       "      <td>Developing</td>\n",
       "      <td>59.9</td>\n",
       "      <td>271</td>\n",
       "      <td>64</td>\n",
       "      <td>0.01</td>\n",
       "      <td>73.523582</td>\n",
       "      <td>62.0</td>\n",
       "      <td>492</td>\n",
       "      <td>18.6</td>\n",
       "      <td>86</td>\n",
       "      <td>58</td>\n",
       "      <td>8.18</td>\n",
       "      <td>62</td>\n",
       "      <td>0.1</td>\n",
       "      <td>612.696514</td>\n",
       "      <td>327582.0</td>\n",
       "      <td>17.5</td>\n",
       "      <td>17.5</td>\n",
       "      <td>0.476</td>\n",
       "      <td>10.0</td>\n",
       "    </tr>\n",
       "    <tr>\n",
       "      <th>1</th>\n",
       "      <td>Australia</td>\n",
       "      <td>2014</td>\n",
       "      <td>Developed</td>\n",
       "      <td>82.7</td>\n",
       "      <td>6</td>\n",
       "      <td>1</td>\n",
       "      <td>9.71</td>\n",
       "      <td>10769.363050</td>\n",
       "      <td>91.0</td>\n",
       "      <td>340</td>\n",
       "      <td>66.1</td>\n",
       "      <td>1</td>\n",
       "      <td>92</td>\n",
       "      <td>9.42</td>\n",
       "      <td>92</td>\n",
       "      <td>0.1</td>\n",
       "      <td>62214.691200</td>\n",
       "      <td>2346694.0</td>\n",
       "      <td>0.6</td>\n",
       "      <td>0.6</td>\n",
       "      <td>0.936</td>\n",
       "      <td>20.4</td>\n",
       "    </tr>\n",
       "    <tr>\n",
       "      <th>2</th>\n",
       "      <td>Austria</td>\n",
       "      <td>2014</td>\n",
       "      <td>Developed</td>\n",
       "      <td>81.4</td>\n",
       "      <td>66</td>\n",
       "      <td>0</td>\n",
       "      <td>12.32</td>\n",
       "      <td>8350.193523</td>\n",
       "      <td>98.0</td>\n",
       "      <td>117</td>\n",
       "      <td>57.1</td>\n",
       "      <td>0</td>\n",
       "      <td>98</td>\n",
       "      <td>11.21</td>\n",
       "      <td>98</td>\n",
       "      <td>0.1</td>\n",
       "      <td>51322.639970</td>\n",
       "      <td>8541575.0</td>\n",
       "      <td>1.8</td>\n",
       "      <td>2.0</td>\n",
       "      <td>0.892</td>\n",
       "      <td>15.9</td>\n",
       "    </tr>\n",
       "    <tr>\n",
       "      <th>3</th>\n",
       "      <td>Bangladesh</td>\n",
       "      <td>2014</td>\n",
       "      <td>Developing</td>\n",
       "      <td>71.4</td>\n",
       "      <td>132</td>\n",
       "      <td>98</td>\n",
       "      <td>0.01</td>\n",
       "      <td>10.446403</td>\n",
       "      <td>97.0</td>\n",
       "      <td>289</td>\n",
       "      <td>17.7</td>\n",
       "      <td>121</td>\n",
       "      <td>97</td>\n",
       "      <td>2.82</td>\n",
       "      <td>97</td>\n",
       "      <td>0.1</td>\n",
       "      <td>184.565430</td>\n",
       "      <td>15945279.0</td>\n",
       "      <td>18.1</td>\n",
       "      <td>18.6</td>\n",
       "      <td>0.570</td>\n",
       "      <td>10.0</td>\n",
       "    </tr>\n",
       "    <tr>\n",
       "      <th>4</th>\n",
       "      <td>Belgium</td>\n",
       "      <td>2014</td>\n",
       "      <td>Developed</td>\n",
       "      <td>89.0</td>\n",
       "      <td>76</td>\n",
       "      <td>0</td>\n",
       "      <td>12.60</td>\n",
       "      <td>7163.348923</td>\n",
       "      <td>98.0</td>\n",
       "      <td>70</td>\n",
       "      <td>63.4</td>\n",
       "      <td>1</td>\n",
       "      <td>99</td>\n",
       "      <td>1.59</td>\n",
       "      <td>99</td>\n",
       "      <td>0.1</td>\n",
       "      <td>47439.396840</td>\n",
       "      <td>112957.0</td>\n",
       "      <td>1.0</td>\n",
       "      <td>1.0</td>\n",
       "      <td>0.890</td>\n",
       "      <td>16.3</td>\n",
       "    </tr>\n",
       "  </tbody>\n",
       "</table>\n",
       "</div>\n",
       "      <button class=\"colab-df-convert\" onclick=\"convertToInteractive('df-f1dda3d2-7769-4632-a9c4-4b54ec0111b5')\"\n",
       "              title=\"Convert this dataframe to an interactive table.\"\n",
       "              style=\"display:none;\">\n",
       "        \n",
       "  <svg xmlns=\"http://www.w3.org/2000/svg\" height=\"24px\"viewBox=\"0 0 24 24\"\n",
       "       width=\"24px\">\n",
       "    <path d=\"M0 0h24v24H0V0z\" fill=\"none\"/>\n",
       "    <path d=\"M18.56 5.44l.94 2.06.94-2.06 2.06-.94-2.06-.94-.94-2.06-.94 2.06-2.06.94zm-11 1L8.5 8.5l.94-2.06 2.06-.94-2.06-.94L8.5 2.5l-.94 2.06-2.06.94zm10 10l.94 2.06.94-2.06 2.06-.94-2.06-.94-.94-2.06-.94 2.06-2.06.94z\"/><path d=\"M17.41 7.96l-1.37-1.37c-.4-.4-.92-.59-1.43-.59-.52 0-1.04.2-1.43.59L10.3 9.45l-7.72 7.72c-.78.78-.78 2.05 0 2.83L4 21.41c.39.39.9.59 1.41.59.51 0 1.02-.2 1.41-.59l7.78-7.78 2.81-2.81c.8-.78.8-2.07 0-2.86zM5.41 20L4 18.59l7.72-7.72 1.47 1.35L5.41 20z\"/>\n",
       "  </svg>\n",
       "      </button>\n",
       "      \n",
       "  <style>\n",
       "    .colab-df-container {\n",
       "      display:flex;\n",
       "      flex-wrap:wrap;\n",
       "      gap: 12px;\n",
       "    }\n",
       "\n",
       "    .colab-df-convert {\n",
       "      background-color: #E8F0FE;\n",
       "      border: none;\n",
       "      border-radius: 50%;\n",
       "      cursor: pointer;\n",
       "      display: none;\n",
       "      fill: #1967D2;\n",
       "      height: 32px;\n",
       "      padding: 0 0 0 0;\n",
       "      width: 32px;\n",
       "    }\n",
       "\n",
       "    .colab-df-convert:hover {\n",
       "      background-color: #E2EBFA;\n",
       "      box-shadow: 0px 1px 2px rgba(60, 64, 67, 0.3), 0px 1px 3px 1px rgba(60, 64, 67, 0.15);\n",
       "      fill: #174EA6;\n",
       "    }\n",
       "\n",
       "    [theme=dark] .colab-df-convert {\n",
       "      background-color: #3B4455;\n",
       "      fill: #D2E3FC;\n",
       "    }\n",
       "\n",
       "    [theme=dark] .colab-df-convert:hover {\n",
       "      background-color: #434B5C;\n",
       "      box-shadow: 0px 1px 3px 1px rgba(0, 0, 0, 0.15);\n",
       "      filter: drop-shadow(0px 1px 2px rgba(0, 0, 0, 0.3));\n",
       "      fill: #FFFFFF;\n",
       "    }\n",
       "  </style>\n",
       "\n",
       "      <script>\n",
       "        const buttonEl =\n",
       "          document.querySelector('#df-f1dda3d2-7769-4632-a9c4-4b54ec0111b5 button.colab-df-convert');\n",
       "        buttonEl.style.display =\n",
       "          google.colab.kernel.accessAllowed ? 'block' : 'none';\n",
       "\n",
       "        async function convertToInteractive(key) {\n",
       "          const element = document.querySelector('#df-f1dda3d2-7769-4632-a9c4-4b54ec0111b5');\n",
       "          const dataTable =\n",
       "            await google.colab.kernel.invokeFunction('convertToInteractive',\n",
       "                                                     [key], {});\n",
       "          if (!dataTable) return;\n",
       "\n",
       "          const docLinkHtml = 'Like what you see? Visit the ' +\n",
       "            '<a target=\"_blank\" href=https://colab.research.google.com/notebooks/data_table.ipynb>data table notebook</a>'\n",
       "            + ' to learn more about interactive tables.';\n",
       "          element.innerHTML = '';\n",
       "          dataTable['output_type'] = 'display_data';\n",
       "          await google.colab.output.renderOutput(dataTable, element);\n",
       "          const docLink = document.createElement('div');\n",
       "          docLink.innerHTML = docLinkHtml;\n",
       "          element.appendChild(docLink);\n",
       "        }\n",
       "      </script>\n",
       "    </div>\n",
       "  </div>\n",
       "  "
      ],
      "text/plain": [
       "       Country  Year  ... Income composition of resources  Schooling\n",
       "0  Afghanistan  2014  ...                           0.476       10.0\n",
       "1    Australia  2014  ...                           0.936       20.4\n",
       "2      Austria  2014  ...                           0.892       15.9\n",
       "3   Bangladesh  2014  ...                           0.570       10.0\n",
       "4      Belgium  2014  ...                           0.890       16.3\n",
       "\n",
       "[5 rows x 22 columns]"
      ]
     },
     "execution_count": 3,
     "metadata": {},
     "output_type": "execute_result"
    }
   ],
   "source": [
    "#Import useful package\n",
    "from sklearn.manifold import MDS\n",
    "\n",
    "#Load the dataset\n",
    "from google.colab import files\n",
    "file = files.upload()  #upload file into google colab session\n",
    "df = pd.read_csv(\"Life Expectancy.csv\") \n",
    "df.head()"
   ]
  },
  {
   "cell_type": "markdown",
   "metadata": {
    "id": "TpSmD2n3oTB7"
   },
   "source": [
    "**TODO:**\n",
    "\n",
    "* Standardize the numeric variables in the given data frame\n",
    "* Run MDS() (Multi Dimensional Scaling) on the standardized data\n",
    "* Plot data points on a 2D plane defined by the first two components\n",
    "* Use color to differentiate the statues of each country with legend\n",
    "* Use text label to specify the country name for each point\n",
    "* Comment your findings from the graph"
   ]
  },
  {
   "cell_type": "code",
   "execution_count": null,
   "metadata": {
    "colab": {
     "base_uri": "https://localhost:8080/",
     "height": 611
    },
    "id": "wNWVwCu0pbaY",
    "outputId": "fa255d3d-816f-4fab-e8e1-b9a2bc394593"
   },
   "outputs": [
    {
     "data": {
      "image/png": "[encoded data removed]",
      "text/plain": [
       "<Figure size 720x720 with 1 Axes>"
      ]
     },
     "metadata": {},
     "output_type": "display_data"
    }
   ],
   "source": [
    "df6 = df[['GDP', 'Income composition of resources','Schooling','Total expenditure']]\n",
    "p6 = StandardScaler().fit_transform(df6)\n",
    "mds = MDS(n_components=2)\n",
    "md = mds.fit_transform(p6)\n",
    "md_df = pd.DataFrame(data = md, columns = ['PC1','PC2'])\n",
    "md_df['Status'] = df['Status']\n",
    "md_df['Country'] = df['Country']\n",
    "sns.set(rc={'figure.figsize':(10,10)})\n",
    "sns.scatterplot(x=\"PC1\", y=\"PC2\", data=md_df, hue=\"Status\")\n",
    "for i in range(md_df.shape[0]):\n",
    " plt.text(x=md_df.PC1[i], y=md_df.PC2[i] ,s=md_df.Country[i], \n",
    "          fontdict=dict(color='red',size=10))"
   ]
  }
 ],
 "metadata": {
  "colab": {
   "collapsed_sections": [],
   "name": "“Homework2.ipynb”的副本",
   "provenance": []
  },
  "kernelspec": {
   "display_name": "Python 3",
   "language": "python",
   "name": "python3"
  },
  "language_info": {
   "codemirror_mode": {
    "name": "ipython",
    "version": 3
   },
   "file_extension": ".py",
   "mimetype": "text/x-python",
   "name": "python",
   "nbconvert_exporter": "python",
   "pygments_lexer": "ipython3",
   "version": "3.8.8"
  }
 },
 "nbformat": 4,
 "nbformat_minor": 4
}
